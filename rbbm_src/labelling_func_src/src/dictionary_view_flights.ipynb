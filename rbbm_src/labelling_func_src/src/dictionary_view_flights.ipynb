{
 "cells": [
  {
   "cell_type": "code",
   "execution_count": 35,
   "id": "e1347106",
   "metadata": {},
   "outputs": [],
   "source": [
    "d = {'t1&t2&IQ(t1.DEST_CITY_NAME,t2.DEST_CITY_NAME)&EQ(t1.DEST_AIRPORT_ID,t2.DEST_AIRPORT_ID)': {'deleted': False, 'pre_fix_size': 5, 'after_fix_size': 5, 'fixed_treerule_text': ['t1&t2&EQ(t1.DEST_AIRPORT_ID,t2.DEST_AIRPORT_ID)&IQ(t1.DEST_CITY_NAME,t2.DEST_CITY_NAME)']}, 't1&t2&IQ(t1.DEST_AIRPORT_ID,t2.DEST_AIRPORT_ID)&EQ(t1.DEST_CITY_NAME,t2.DEST_CITY_NAME)': {'deleted': True, 'pre_fix_size': 5, 'after_fix_size': 43, 'fixed_treerule_text': [\"t1&t2&EQ(t1.day_of_week,'5')&EQ(t1.DEST_CITY_NAME,t2.DEST_CITY_NAME)&IQ(t1.DEST_AIRPORT_ID,t2.DEST_AIRPORT_ID)\", \"t1&t2&EQ(t1.day_of_week,'6')&IQ(t1.day_of_week,'5')&EQ(t1.DEST_CITY_NAME,t2.DEST_CITY_NAME)&IQ(t1.DEST_AIRPORT_ID,t2.DEST_AIRPORT_ID)\", \"t1&t2&EQ(t1.op_unique_carrier,t2.op_unique_carrier)&EQ(t1.day_of_week,'2')&IQ(t1.day_of_week,'6')&IQ(t1.day_of_week,'5')&EQ(t1.DEST_CITY_NAME,t2.DEST_CITY_NAME)&IQ(t1.DEST_AIRPORT_ID,t2.DEST_AIRPORT_ID)\", \"t1&t2&EQ(t1.origin_city_name,t2.origin_city_name)&IQ(t2.day_of_week,'3')&IQ(t1.op_unique_carrier,t2.op_unique_carrier)&EQ(t1.day_of_week,'2')&IQ(t1.day_of_week,'6')&IQ(t1.day_of_week,'5')&EQ(t1.DEST_CITY_NAME,t2.DEST_CITY_NAME)&IQ(t1.DEST_AIRPORT_ID,t2.DEST_AIRPORT_ID)\", \"t1&t2&IQ(t1.origin_state_abr,t2.origin_state_abr)&EQ(t2.day_of_week,'3')&IQ(t1.op_unique_carrier,t2.op_unique_carrier)&EQ(t1.day_of_week,'2')&IQ(t1.day_of_week,'6')&IQ(t1.day_of_week,'5')&EQ(t1.DEST_CITY_NAME,t2.DEST_CITY_NAME)&IQ(t1.DEST_AIRPORT_ID,t2.DEST_AIRPORT_ID)\", \"t1&t2&EQ(t1.fl_date,t2.fl_date)&IQ(t2.day_of_week,'1')&IQ(t1.origin_city_name,t2.origin_city_name)&IQ(t2.day_of_week,'3')&IQ(t1.op_unique_carrier,t2.op_unique_carrier)&EQ(t1.day_of_week,'2')&IQ(t1.day_of_week,'6')&IQ(t1.day_of_week,'5')&EQ(t1.DEST_CITY_NAME,t2.DEST_CITY_NAME)&IQ(t1.DEST_AIRPORT_ID,t2.DEST_AIRPORT_ID)\", \"t1&t2&EQ(t1.origin_state_abr,t2.origin_state_abr)&EQ(t2.day_of_week,'1')&IQ(t1.origin_city_name,t2.origin_city_name)&IQ(t2.day_of_week,'3')&IQ(t1.op_unique_carrier,t2.op_unique_carrier)&EQ(t1.day_of_week,'2')&IQ(t1.day_of_week,'6')&IQ(t1.day_of_week,'5')&EQ(t1.DEST_CITY_NAME,t2.DEST_CITY_NAME)&IQ(t1.DEST_AIRPORT_ID,t2.DEST_AIRPORT_ID)\", \"t1&t2&EQ(t1.origin_state_abr,t2.origin_state_abr)&EQ(t2.day_of_week,'4')&IQ(t1.fl_date,t2.fl_date)&IQ(t2.day_of_week,'1')&IQ(t1.origin_city_name,t2.origin_city_name)&IQ(t2.day_of_week,'3')&IQ(t1.op_unique_carrier,t2.op_unique_carrier)&EQ(t1.day_of_week,'2')&IQ(t1.day_of_week,'6')&IQ(t1.day_of_week,'5')&EQ(t1.DEST_CITY_NAME,t2.DEST_CITY_NAME)&IQ(t1.DEST_AIRPORT_ID,t2.DEST_AIRPORT_ID)\", \"t1&t2&IQ(t1.origin_state_abr,t2.origin_state_abr)&EQ(t2.day_of_week,'6')&IQ(t2.day_of_week,'4')&IQ(t1.fl_date,t2.fl_date)&IQ(t2.day_of_week,'1')&IQ(t1.origin_city_name,t2.origin_city_name)&IQ(t2.day_of_week,'3')&IQ(t1.op_unique_carrier,t2.op_unique_carrier)&EQ(t1.day_of_week,'2')&IQ(t1.day_of_week,'6')&IQ(t1.day_of_week,'5')&EQ(t1.DEST_CITY_NAME,t2.DEST_CITY_NAME)&IQ(t1.DEST_AIRPORT_ID,t2.DEST_AIRPORT_ID)\", \"t1&t2&IQ(t1.crs_dep_time,t2.crs_dep_time)&IQ(t1.origin_state_abr,t2.origin_state_abr)&EQ(t2.day_of_week,'4')&IQ(t1.fl_date,t2.fl_date)&IQ(t2.day_of_week,'1')&IQ(t1.origin_city_name,t2.origin_city_name)&IQ(t2.day_of_week,'3')&IQ(t1.op_unique_carrier,t2.op_unique_carrier)&EQ(t1.day_of_week,'2')&IQ(t1.day_of_week,'6')&IQ(t1.day_of_week,'5')&EQ(t1.DEST_CITY_NAME,t2.DEST_CITY_NAME)&IQ(t1.DEST_AIRPORT_ID,t2.DEST_AIRPORT_ID)\", \"t1&t2&IQ(t1.day_of_week,t2.day_of_week)&IQ(t1.crs_arr_time,t2.crs_arr_time)&IQ(t1.dep_time,t2.dep_time)&IQ(t1.crs_dep_time,t2.crs_dep_time)&IQ(t2.day_of_week,'6')&IQ(t2.day_of_week,'4')&IQ(t1.fl_date,t2.fl_date)&IQ(t2.day_of_week,'1')&IQ(t1.origin_city_name,t2.origin_city_name)&IQ(t2.day_of_week,'3')&IQ(t1.op_unique_carrier,t2.op_unique_carrier)&EQ(t1.day_of_week,'2')&IQ(t1.day_of_week,'6')&IQ(t1.day_of_week,'5')&EQ(t1.DEST_CITY_NAME,t2.DEST_CITY_NAME)&IQ(t1.DEST_AIRPORT_ID,t2.DEST_AIRPORT_ID)\"]}, 't1&t2&EQ(t1.DEST_AIRPORT_ID,t2.DEST_AIRPORT_ID)&IQ(t1.DEST_STATE_ABR,t2.DEST_STATE_ABR)': {'deleted': False, 'pre_fix_size': 5, 'after_fix_size': 5, 'fixed_treerule_text': ['t1&t2&IQ(t1.DEST_STATE_ABR,t2.DEST_STATE_ABR)&EQ(t1.DEST_AIRPORT_ID,t2.DEST_AIRPORT_ID)']}, 't1&t2&IQ(t1.DEST_STATE_NM,t2.DEST_STATE_NM)&EQ(t1.DEST_AIRPORT_ID,t2.DEST_AIRPORT_ID)': {'deleted': False, 'pre_fix_size': 5, 'after_fix_size': 5, 'fixed_treerule_text': ['t1&t2&EQ(t1.DEST_AIRPORT_ID,t2.DEST_AIRPORT_ID)&IQ(t1.DEST_STATE_NM,t2.DEST_STATE_NM)']}, 't1&t2&EQ(t1.DEST_CITY_NAME,t2.DEST_CITY_NAME)&IQ(t1.DEST_STATE_ABR,t2.DEST_STATE_ABR)': {'deleted': False, 'pre_fix_size': 5, 'after_fix_size': 5, 'fixed_treerule_text': ['t1&t2&IQ(t1.DEST_STATE_ABR,t2.DEST_STATE_ABR)&EQ(t1.DEST_CITY_NAME,t2.DEST_CITY_NAME)']}, 't1&t2&EQ(t1.ORIGIN,t2.ORIGIN)&IQ(t1.ORIGIN_CITY_NAME,t2.ORIGIN_CITY_NAME)': {'deleted': False, 'pre_fix_size': 5, 'after_fix_size': 5, 'fixed_treerule_text': ['t1&t2&IQ(t1.ORIGIN_CITY_NAME,t2.ORIGIN_CITY_NAME)&EQ(t1.ORIGIN,t2.ORIGIN)']}, 't1&t2&EQ(t1.ORIGIN_CITY_NAME,t2.ORIGIN_CITY_NAME)&IQ(t1.ORIGIN,t2.ORIGIN)': {'deleted': False, 'pre_fix_size': 5, 'after_fix_size': 7, 'fixed_treerule_text': ['t1&t2&IQ(t1.origin_state_abr,t2.origin_state_abr)&IQ(t1.ORIGIN,t2.ORIGIN)&EQ(t1.ORIGIN_CITY_NAME,t2.ORIGIN_CITY_NAME)']}, 't1&t2&IQ(t1.ORIGIN_STATE_NM,t2.ORIGIN_STATE_NM)&EQ(t1.ORIGIN_AIRPORT_ID,t2.ORIGIN_AIRPORT_ID)': {'deleted': False, 'pre_fix_size': 5, 'after_fix_size': 5, 'fixed_treerule_text': ['t1&t2&EQ(t1.ORIGIN_AIRPORT_ID,t2.ORIGIN_AIRPORT_ID)&IQ(t1.ORIGIN_STATE_NM,t2.ORIGIN_STATE_NM)']}, 't1&t2&IQ(t1.ORIGIN_STATE_ABR,t2.ORIGIN_STATE_ABR)&EQ(t1.ORIGIN_CITY_NAME,t2.ORIGIN_CITY_NAME)': {'deleted': False, 'pre_fix_size': 5, 'after_fix_size': 5, 'fixed_treerule_text': ['t1&t2&EQ(t1.ORIGIN_CITY_NAME,t2.ORIGIN_CITY_NAME)&IQ(t1.ORIGIN_STATE_ABR,t2.ORIGIN_STATE_ABR)']}, 't1&t2&IQ(t1.ORIGIN_STATE_ABR,t2.ORIGIN_STATE_ABR)&EQ(t1.ORIGIN,t2.ORIGIN)': {'deleted': False, 'pre_fix_size': 5, 'after_fix_size': 5, 'fixed_treerule_text': ['t1&t2&EQ(t1.ORIGIN,t2.ORIGIN)&IQ(t1.ORIGIN_STATE_ABR,t2.ORIGIN_STATE_ABR)']}, 't1&t2&IQ(t1.DEST_STATE_NM,t2.DEST_STATE_NM)&EQ(t1.DEST_STATE_ABR,t2.DEST_STATE_ABR)': {'deleted': False, 'pre_fix_size': 5, 'after_fix_size': 5, 'fixed_treerule_text': ['t1&t2&EQ(t1.DEST_STATE_ABR,t2.DEST_STATE_ABR)&IQ(t1.DEST_STATE_NM,t2.DEST_STATE_NM)']}, 't1&t2&EQ(t1.DEST_STATE_NM,t2.DEST_STATE_NM)&IQ(t1.DEST_STATE_ABR,t2.DEST_STATE_ABR)': {'deleted': False, 'pre_fix_size': 5, 'after_fix_size': 5, 'fixed_treerule_text': ['t1&t2&IQ(t1.DEST_STATE_ABR,t2.DEST_STATE_ABR)&EQ(t1.DEST_STATE_NM,t2.DEST_STATE_NM)']}, 't1&t2&IQ(t1.DEST_STATE_NM,t2.DEST_STATE_NM)&EQ(t1.DEST_CITY_NAME,t2.DEST_CITY_NAME)': {'deleted': False, 'pre_fix_size': 5, 'after_fix_size': 5, 'fixed_treerule_text': ['t1&t2&EQ(t1.DEST_CITY_NAME,t2.DEST_CITY_NAME)&IQ(t1.DEST_STATE_NM,t2.DEST_STATE_NM)']}, 't1&t2&IQ(t1.DEST_STATE_NM,t2.DEST_STATE_NM)&EQ(t1.DEST,t2.DEST)': {'deleted': False, 'pre_fix_size': 5, 'after_fix_size': 5, 'fixed_treerule_text': ['t1&t2&EQ(t1.DEST,t2.DEST)&IQ(t1.DEST_STATE_NM,t2.DEST_STATE_NM)']}, 't1&t2&IQ(t1.ORIGIN_STATE_NM,t2.ORIGIN_STATE_NM)&EQ(t1.ORIGIN_STATE_ABR,t2.ORIGIN_STATE_ABR)': {'deleted': False, 'pre_fix_size': 5, 'after_fix_size': 5, 'fixed_treerule_text': ['t1&t2&EQ(t1.ORIGIN_STATE_ABR,t2.ORIGIN_STATE_ABR)&IQ(t1.ORIGIN_STATE_NM,t2.ORIGIN_STATE_NM)']}, 't1&t2&IQ(t1.ORIGIN_STATE_ABR,t2.ORIGIN_STATE_ABR)&EQ(t1.ORIGIN_STATE_NM,t2.ORIGIN_STATE_NM)': {'deleted': False, 'pre_fix_size': 5, 'after_fix_size': 5, 'fixed_treerule_text': ['t1&t2&EQ(t1.ORIGIN_STATE_NM,t2.ORIGIN_STATE_NM)&IQ(t1.ORIGIN_STATE_ABR,t2.ORIGIN_STATE_ABR)']}, 't1&t2&IQ(t1.DEST,t2.DEST)&EQ(t1.DEST_AIRPORT_ID,t2.DEST_AIRPORT_ID)': {'deleted': False, 'pre_fix_size': 5, 'after_fix_size': 5, 'fixed_treerule_text': ['t1&t2&EQ(t1.DEST_AIRPORT_ID,t2.DEST_AIRPORT_ID)&IQ(t1.DEST,t2.DEST)']}, 't1&t2&IQ(t1.DEST_AIRPORT_ID,t2.DEST_AIRPORT_ID)&EQ(t1.DEST,t2.DEST)': {'deleted': False, 'pre_fix_size': 5, 'after_fix_size': 5, 'fixed_treerule_text': ['t1&t2&EQ(t1.DEST,t2.DEST)&IQ(t1.DEST_AIRPORT_ID,t2.DEST_AIRPORT_ID)']}, 't1&t2&EQ(t1.DEST,t2.DEST)&IQ(t1.DEST_STATE_ABR,t2.DEST_STATE_ABR)': {'deleted': False, 'pre_fix_size': 5, 'after_fix_size': 5, 'fixed_treerule_text': ['t1&t2&IQ(t1.DEST_STATE_ABR,t2.DEST_STATE_ABR)&EQ(t1.DEST,t2.DEST)']}, 't1&t2&IQ(t1.ORIGIN_CITY_NAME,t2.ORIGIN_CITY_NAME)&EQ(t1.ORIGIN_AIRPORT_ID,t2.ORIGIN_AIRPORT_ID)': {'deleted': False, 'pre_fix_size': 5, 'after_fix_size': 5, 'fixed_treerule_text': ['t1&t2&EQ(t1.ORIGIN_AIRPORT_ID,t2.ORIGIN_AIRPORT_ID)&IQ(t1.ORIGIN_CITY_NAME,t2.ORIGIN_CITY_NAME)']}, 't1&t2&EQ(t1.ORIGIN_CITY_NAME,t2.ORIGIN_CITY_NAME)&IQ(t1.ORIGIN_AIRPORT_ID,t2.ORIGIN_AIRPORT_ID)': {'deleted': False, 'pre_fix_size': 5, 'after_fix_size': 7, 'fixed_treerule_text': ['t1&t2&IQ(t1.origin_state_abr,t2.origin_state_abr)&IQ(t1.ORIGIN_AIRPORT_ID,t2.ORIGIN_AIRPORT_ID)&EQ(t1.ORIGIN_CITY_NAME,t2.ORIGIN_CITY_NAME)']}, 't1&t2&IQ(t1.DEST_CITY_NAME,t2.DEST_CITY_NAME)&EQ(t1.DEST,t2.DEST)': {'deleted': False, 'pre_fix_size': 5, 'after_fix_size': 5, 'fixed_treerule_text': ['t1&t2&EQ(t1.DEST,t2.DEST)&IQ(t1.DEST_CITY_NAME,t2.DEST_CITY_NAME)']}, 't1&t2&IQ(t1.DEST,t2.DEST)&EQ(t1.DEST_CITY_NAME,t2.DEST_CITY_NAME)': {'deleted': True, 'pre_fix_size': 5, 'after_fix_size': 43, 'fixed_treerule_text': [\"t1&t2&EQ(t1.day_of_week,'5')&EQ(t1.DEST_CITY_NAME,t2.DEST_CITY_NAME)&IQ(t1.DEST,t2.DEST)\", \"t1&t2&EQ(t1.day_of_week,'6')&IQ(t1.day_of_week,'5')&EQ(t1.DEST_CITY_NAME,t2.DEST_CITY_NAME)&IQ(t1.DEST,t2.DEST)\", \"t1&t2&EQ(t1.op_unique_carrier,t2.op_unique_carrier)&EQ(t1.day_of_week,'2')&IQ(t1.day_of_week,'6')&IQ(t1.day_of_week,'5')&EQ(t1.DEST_CITY_NAME,t2.DEST_CITY_NAME)&IQ(t1.DEST,t2.DEST)\", \"t1&t2&EQ(t1.origin_city_name,t2.origin_city_name)&IQ(t2.day_of_week,'3')&IQ(t1.op_unique_carrier,t2.op_unique_carrier)&EQ(t1.day_of_week,'2')&IQ(t1.day_of_week,'6')&IQ(t1.day_of_week,'5')&EQ(t1.DEST_CITY_NAME,t2.DEST_CITY_NAME)&IQ(t1.DEST,t2.DEST)\", \"t1&t2&IQ(t1.origin_state_abr,t2.origin_state_abr)&EQ(t2.day_of_week,'3')&IQ(t1.op_unique_carrier,t2.op_unique_carrier)&EQ(t1.day_of_week,'2')&IQ(t1.day_of_week,'6')&IQ(t1.day_of_week,'5')&EQ(t1.DEST_CITY_NAME,t2.DEST_CITY_NAME)&IQ(t1.DEST,t2.DEST)\", \"t1&t2&EQ(t1.fl_date,t2.fl_date)&IQ(t2.day_of_week,'1')&IQ(t1.origin_city_name,t2.origin_city_name)&IQ(t2.day_of_week,'3')&IQ(t1.op_unique_carrier,t2.op_unique_carrier)&EQ(t1.day_of_week,'2')&IQ(t1.day_of_week,'6')&IQ(t1.day_of_week,'5')&EQ(t1.DEST_CITY_NAME,t2.DEST_CITY_NAME)&IQ(t1.DEST,t2.DEST)\", \"t1&t2&EQ(t1.origin_state_abr,t2.origin_state_abr)&EQ(t2.day_of_week,'1')&IQ(t1.origin_city_name,t2.origin_city_name)&IQ(t2.day_of_week,'3')&IQ(t1.op_unique_carrier,t2.op_unique_carrier)&EQ(t1.day_of_week,'2')&IQ(t1.day_of_week,'6')&IQ(t1.day_of_week,'5')&EQ(t1.DEST_CITY_NAME,t2.DEST_CITY_NAME)&IQ(t1.DEST,t2.DEST)\", \"t1&t2&EQ(t1.origin_state_abr,t2.origin_state_abr)&EQ(t2.day_of_week,'4')&IQ(t1.fl_date,t2.fl_date)&IQ(t2.day_of_week,'1')&IQ(t1.origin_city_name,t2.origin_city_name)&IQ(t2.day_of_week,'3')&IQ(t1.op_unique_carrier,t2.op_unique_carrier)&EQ(t1.day_of_week,'2')&IQ(t1.day_of_week,'6')&IQ(t1.day_of_week,'5')&EQ(t1.DEST_CITY_NAME,t2.DEST_CITY_NAME)&IQ(t1.DEST,t2.DEST)\", \"t1&t2&IQ(t1.origin_state_abr,t2.origin_state_abr)&EQ(t2.day_of_week,'6')&IQ(t2.day_of_week,'4')&IQ(t1.fl_date,t2.fl_date)&IQ(t2.day_of_week,'1')&IQ(t1.origin_city_name,t2.origin_city_name)&IQ(t2.day_of_week,'3')&IQ(t1.op_unique_carrier,t2.op_unique_carrier)&EQ(t1.day_of_week,'2')&IQ(t1.day_of_week,'6')&IQ(t1.day_of_week,'5')&EQ(t1.DEST_CITY_NAME,t2.DEST_CITY_NAME)&IQ(t1.DEST,t2.DEST)\", \"t1&t2&IQ(t1.crs_dep_time,t2.crs_dep_time)&IQ(t1.origin_state_abr,t2.origin_state_abr)&EQ(t2.day_of_week,'4')&IQ(t1.fl_date,t2.fl_date)&IQ(t2.day_of_week,'1')&IQ(t1.origin_city_name,t2.origin_city_name)&IQ(t2.day_of_week,'3')&IQ(t1.op_unique_carrier,t2.op_unique_carrier)&EQ(t1.day_of_week,'2')&IQ(t1.day_of_week,'6')&IQ(t1.day_of_week,'5')&EQ(t1.DEST_CITY_NAME,t2.DEST_CITY_NAME)&IQ(t1.DEST,t2.DEST)\", \"t1&t2&IQ(t1.day_of_week,t2.day_of_week)&IQ(t1.crs_arr_time,t2.crs_arr_time)&IQ(t1.dep_time,t2.dep_time)&IQ(t1.crs_dep_time,t2.crs_dep_time)&IQ(t2.day_of_week,'6')&IQ(t2.day_of_week,'4')&IQ(t1.fl_date,t2.fl_date)&IQ(t2.day_of_week,'1')&IQ(t1.origin_city_name,t2.origin_city_name)&IQ(t2.day_of_week,'3')&IQ(t1.op_unique_carrier,t2.op_unique_carrier)&EQ(t1.day_of_week,'2')&IQ(t1.day_of_week,'6')&IQ(t1.day_of_week,'5')&EQ(t1.DEST_CITY_NAME,t2.DEST_CITY_NAME)&IQ(t1.DEST,t2.DEST)\"]}, 't1&t2&IQ(t1.ORIGIN,t2.ORIGIN)&EQ(t1.ORIGIN_AIRPORT_ID,t2.ORIGIN_AIRPORT_ID)': {'deleted': False, 'pre_fix_size': 5, 'after_fix_size': 5, 'fixed_treerule_text': ['t1&t2&EQ(t1.ORIGIN_AIRPORT_ID,t2.ORIGIN_AIRPORT_ID)&IQ(t1.ORIGIN,t2.ORIGIN)']}, 't1&t2&EQ(t1.ORIGIN,t2.ORIGIN)&IQ(t1.ORIGIN_AIRPORT_ID,t2.ORIGIN_AIRPORT_ID)': {'deleted': False, 'pre_fix_size': 5, 'after_fix_size': 5, 'fixed_treerule_text': ['t1&t2&IQ(t1.ORIGIN_AIRPORT_ID,t2.ORIGIN_AIRPORT_ID)&EQ(t1.ORIGIN,t2.ORIGIN)']}, 't1&t2&IQ(t1.ORIGIN_STATE_ABR,t2.ORIGIN_STATE_ABR)&EQ(t1.ORIGIN_AIRPORT_ID,t2.ORIGIN_AIRPORT_ID)': {'deleted': False, 'pre_fix_size': 5, 'after_fix_size': 5, 'fixed_treerule_text': ['t1&t2&EQ(t1.ORIGIN_AIRPORT_ID,t2.ORIGIN_AIRPORT_ID)&IQ(t1.ORIGIN_STATE_ABR,t2.ORIGIN_STATE_ABR)']}, 't1&t2&IQ(t1.DAY_OF_WEEK,t2.DAY_OF_WEEK)&EQ(t1.FL_DATE,t2.FL_DATE)': {'deleted': False, 'pre_fix_size': 5, 'after_fix_size': 5, 'fixed_treerule_text': ['t1&t2&EQ(t1.FL_DATE,t2.FL_DATE)&IQ(t1.DAY_OF_WEEK,t2.DAY_OF_WEEK)']}, 't1&t2&EQ(t1.ORIGIN_CITY_NAME,t2.ORIGIN_CITY_NAME)&IQ(t1.ORIGIN_STATE_NM,t2.ORIGIN_STATE_NM)': {'deleted': False, 'pre_fix_size': 5, 'after_fix_size': 5, 'fixed_treerule_text': ['t1&t2&IQ(t1.ORIGIN_STATE_NM,t2.ORIGIN_STATE_NM)&EQ(t1.ORIGIN_CITY_NAME,t2.ORIGIN_CITY_NAME)']}, 't1&t2&EQ(t1.ORIGIN,t2.ORIGIN)&IQ(t1.ORIGIN_STATE_NM,t2.ORIGIN_STATE_NM)': {'deleted': False, 'pre_fix_size': 5, 'after_fix_size': 5, 'fixed_treerule_text': ['t1&t2&IQ(t1.ORIGIN_STATE_NM,t2.ORIGIN_STATE_NM)&EQ(t1.ORIGIN,t2.ORIGIN)']}}"
   ]
  },
  {
   "cell_type": "code",
   "execution_count": 36,
   "id": "4f95c464",
   "metadata": {},
   "outputs": [],
   "source": [
    "changed_d = {k:v for (k,v) in d.items() if v['pre_fix_size']!=v['after_fix_size']}"
   ]
  },
  {
   "cell_type": "code",
   "execution_count": 44,
   "id": "b96e7edf",
   "metadata": {},
   "outputs": [],
   "source": [
    "un_changed_d = {k:v for (k,v) in d.items() if v['pre_fix_size']==v['after_fix_size']}"
   ]
  },
  {
   "cell_type": "code",
   "execution_count": 45,
   "id": "94eae085",
   "metadata": {},
   "outputs": [
    {
     "data": {
      "text/plain": [
       "['t1&t2&IQ(t1.DEST_CITY_NAME,t2.DEST_CITY_NAME)&EQ(t1.DEST_AIRPORT_ID,t2.DEST_AIRPORT_ID)',\n",
       " 't1&t2&EQ(t1.DEST_AIRPORT_ID,t2.DEST_AIRPORT_ID)&IQ(t1.DEST_STATE_ABR,t2.DEST_STATE_ABR)',\n",
       " 't1&t2&IQ(t1.DEST_STATE_NM,t2.DEST_STATE_NM)&EQ(t1.DEST_AIRPORT_ID,t2.DEST_AIRPORT_ID)',\n",
       " 't1&t2&EQ(t1.DEST_CITY_NAME,t2.DEST_CITY_NAME)&IQ(t1.DEST_STATE_ABR,t2.DEST_STATE_ABR)',\n",
       " 't1&t2&EQ(t1.ORIGIN,t2.ORIGIN)&IQ(t1.ORIGIN_CITY_NAME,t2.ORIGIN_CITY_NAME)',\n",
       " 't1&t2&IQ(t1.ORIGIN_STATE_NM,t2.ORIGIN_STATE_NM)&EQ(t1.ORIGIN_AIRPORT_ID,t2.ORIGIN_AIRPORT_ID)',\n",
       " 't1&t2&IQ(t1.ORIGIN_STATE_ABR,t2.ORIGIN_STATE_ABR)&EQ(t1.ORIGIN_CITY_NAME,t2.ORIGIN_CITY_NAME)',\n",
       " 't1&t2&IQ(t1.ORIGIN_STATE_ABR,t2.ORIGIN_STATE_ABR)&EQ(t1.ORIGIN,t2.ORIGIN)',\n",
       " 't1&t2&IQ(t1.DEST_STATE_NM,t2.DEST_STATE_NM)&EQ(t1.DEST_STATE_ABR,t2.DEST_STATE_ABR)',\n",
       " 't1&t2&EQ(t1.DEST_STATE_NM,t2.DEST_STATE_NM)&IQ(t1.DEST_STATE_ABR,t2.DEST_STATE_ABR)',\n",
       " 't1&t2&IQ(t1.DEST_STATE_NM,t2.DEST_STATE_NM)&EQ(t1.DEST_CITY_NAME,t2.DEST_CITY_NAME)',\n",
       " 't1&t2&IQ(t1.DEST_STATE_NM,t2.DEST_STATE_NM)&EQ(t1.DEST,t2.DEST)',\n",
       " 't1&t2&IQ(t1.ORIGIN_STATE_NM,t2.ORIGIN_STATE_NM)&EQ(t1.ORIGIN_STATE_ABR,t2.ORIGIN_STATE_ABR)',\n",
       " 't1&t2&IQ(t1.ORIGIN_STATE_ABR,t2.ORIGIN_STATE_ABR)&EQ(t1.ORIGIN_STATE_NM,t2.ORIGIN_STATE_NM)',\n",
       " 't1&t2&IQ(t1.DEST,t2.DEST)&EQ(t1.DEST_AIRPORT_ID,t2.DEST_AIRPORT_ID)',\n",
       " 't1&t2&IQ(t1.DEST_AIRPORT_ID,t2.DEST_AIRPORT_ID)&EQ(t1.DEST,t2.DEST)',\n",
       " 't1&t2&EQ(t1.DEST,t2.DEST)&IQ(t1.DEST_STATE_ABR,t2.DEST_STATE_ABR)',\n",
       " 't1&t2&IQ(t1.ORIGIN_CITY_NAME,t2.ORIGIN_CITY_NAME)&EQ(t1.ORIGIN_AIRPORT_ID,t2.ORIGIN_AIRPORT_ID)',\n",
       " 't1&t2&IQ(t1.DEST_CITY_NAME,t2.DEST_CITY_NAME)&EQ(t1.DEST,t2.DEST)',\n",
       " 't1&t2&IQ(t1.ORIGIN,t2.ORIGIN)&EQ(t1.ORIGIN_AIRPORT_ID,t2.ORIGIN_AIRPORT_ID)',\n",
       " 't1&t2&EQ(t1.ORIGIN,t2.ORIGIN)&IQ(t1.ORIGIN_AIRPORT_ID,t2.ORIGIN_AIRPORT_ID)',\n",
       " 't1&t2&IQ(t1.ORIGIN_STATE_ABR,t2.ORIGIN_STATE_ABR)&EQ(t1.ORIGIN_AIRPORT_ID,t2.ORIGIN_AIRPORT_ID)',\n",
       " 't1&t2&IQ(t1.DAY_OF_WEEK,t2.DAY_OF_WEEK)&EQ(t1.FL_DATE,t2.FL_DATE)',\n",
       " 't1&t2&EQ(t1.ORIGIN_CITY_NAME,t2.ORIGIN_CITY_NAME)&IQ(t1.ORIGIN_STATE_NM,t2.ORIGIN_STATE_NM)',\n",
       " 't1&t2&EQ(t1.ORIGIN,t2.ORIGIN)&IQ(t1.ORIGIN_STATE_NM,t2.ORIGIN_STATE_NM)']"
      ]
     },
     "execution_count": 45,
     "metadata": {},
     "output_type": "execute_result"
    }
   ],
   "source": [
    "list(un_changed_d)"
   ]
  },
  {
   "cell_type": "code",
   "execution_count": 37,
   "id": "e91f9ae5",
   "metadata": {},
   "outputs": [
    {
     "data": {
      "text/plain": [
       "4"
      ]
     },
     "execution_count": 37,
     "metadata": {},
     "output_type": "execute_result"
    }
   ],
   "source": [
    "len(changed_d)"
   ]
  },
  {
   "cell_type": "code",
   "execution_count": 43,
   "id": "560569a4",
   "metadata": {},
   "outputs": [
    {
     "data": {
      "text/plain": [
       "29"
      ]
     },
     "execution_count": 43,
     "metadata": {},
     "output_type": "execute_result"
    }
   ],
   "source": [
    "len(d)"
   ]
  },
  {
   "cell_type": "code",
   "execution_count": 42,
   "id": "ec6ce52c",
   "metadata": {},
   "outputs": [
    {
     "data": {
      "text/plain": [
       "['t1&t2&IQ(t1.DEST_CITY_NAME,t2.DEST_CITY_NAME)&EQ(t1.DEST_AIRPORT_ID,t2.DEST_AIRPORT_ID)',\n",
       " 't1&t2&IQ(t1.DEST_AIRPORT_ID,t2.DEST_AIRPORT_ID)&EQ(t1.DEST_CITY_NAME,t2.DEST_CITY_NAME)',\n",
       " 't1&t2&EQ(t1.DEST_AIRPORT_ID,t2.DEST_AIRPORT_ID)&IQ(t1.DEST_STATE_ABR,t2.DEST_STATE_ABR)',\n",
       " 't1&t2&IQ(t1.DEST_STATE_NM,t2.DEST_STATE_NM)&EQ(t1.DEST_AIRPORT_ID,t2.DEST_AIRPORT_ID)',\n",
       " 't1&t2&EQ(t1.DEST_CITY_NAME,t2.DEST_CITY_NAME)&IQ(t1.DEST_STATE_ABR,t2.DEST_STATE_ABR)',\n",
       " 't1&t2&EQ(t1.ORIGIN,t2.ORIGIN)&IQ(t1.ORIGIN_CITY_NAME,t2.ORIGIN_CITY_NAME)',\n",
       " 't1&t2&EQ(t1.ORIGIN_CITY_NAME,t2.ORIGIN_CITY_NAME)&IQ(t1.ORIGIN,t2.ORIGIN)',\n",
       " 't1&t2&IQ(t1.ORIGIN_STATE_NM,t2.ORIGIN_STATE_NM)&EQ(t1.ORIGIN_AIRPORT_ID,t2.ORIGIN_AIRPORT_ID)',\n",
       " 't1&t2&IQ(t1.ORIGIN_STATE_ABR,t2.ORIGIN_STATE_ABR)&EQ(t1.ORIGIN_CITY_NAME,t2.ORIGIN_CITY_NAME)',\n",
       " 't1&t2&IQ(t1.ORIGIN_STATE_ABR,t2.ORIGIN_STATE_ABR)&EQ(t1.ORIGIN,t2.ORIGIN)',\n",
       " 't1&t2&IQ(t1.DEST_STATE_NM,t2.DEST_STATE_NM)&EQ(t1.DEST_STATE_ABR,t2.DEST_STATE_ABR)',\n",
       " 't1&t2&EQ(t1.DEST_STATE_NM,t2.DEST_STATE_NM)&IQ(t1.DEST_STATE_ABR,t2.DEST_STATE_ABR)',\n",
       " 't1&t2&IQ(t1.DEST_STATE_NM,t2.DEST_STATE_NM)&EQ(t1.DEST_CITY_NAME,t2.DEST_CITY_NAME)',\n",
       " 't1&t2&IQ(t1.DEST_STATE_NM,t2.DEST_STATE_NM)&EQ(t1.DEST,t2.DEST)',\n",
       " 't1&t2&IQ(t1.ORIGIN_STATE_NM,t2.ORIGIN_STATE_NM)&EQ(t1.ORIGIN_STATE_ABR,t2.ORIGIN_STATE_ABR)',\n",
       " 't1&t2&IQ(t1.ORIGIN_STATE_ABR,t2.ORIGIN_STATE_ABR)&EQ(t1.ORIGIN_STATE_NM,t2.ORIGIN_STATE_NM)',\n",
       " 't1&t2&IQ(t1.DEST,t2.DEST)&EQ(t1.DEST_AIRPORT_ID,t2.DEST_AIRPORT_ID)',\n",
       " 't1&t2&IQ(t1.DEST_AIRPORT_ID,t2.DEST_AIRPORT_ID)&EQ(t1.DEST,t2.DEST)',\n",
       " 't1&t2&EQ(t1.DEST,t2.DEST)&IQ(t1.DEST_STATE_ABR,t2.DEST_STATE_ABR)',\n",
       " 't1&t2&IQ(t1.ORIGIN_CITY_NAME,t2.ORIGIN_CITY_NAME)&EQ(t1.ORIGIN_AIRPORT_ID,t2.ORIGIN_AIRPORT_ID)',\n",
       " 't1&t2&EQ(t1.ORIGIN_CITY_NAME,t2.ORIGIN_CITY_NAME)&IQ(t1.ORIGIN_AIRPORT_ID,t2.ORIGIN_AIRPORT_ID)',\n",
       " 't1&t2&IQ(t1.DEST_CITY_NAME,t2.DEST_CITY_NAME)&EQ(t1.DEST,t2.DEST)',\n",
       " 't1&t2&IQ(t1.DEST,t2.DEST)&EQ(t1.DEST_CITY_NAME,t2.DEST_CITY_NAME)',\n",
       " 't1&t2&IQ(t1.ORIGIN,t2.ORIGIN)&EQ(t1.ORIGIN_AIRPORT_ID,t2.ORIGIN_AIRPORT_ID)',\n",
       " 't1&t2&EQ(t1.ORIGIN,t2.ORIGIN)&IQ(t1.ORIGIN_AIRPORT_ID,t2.ORIGIN_AIRPORT_ID)',\n",
       " 't1&t2&IQ(t1.ORIGIN_STATE_ABR,t2.ORIGIN_STATE_ABR)&EQ(t1.ORIGIN_AIRPORT_ID,t2.ORIGIN_AIRPORT_ID)',\n",
       " 't1&t2&IQ(t1.DAY_OF_WEEK,t2.DAY_OF_WEEK)&EQ(t1.FL_DATE,t2.FL_DATE)',\n",
       " 't1&t2&EQ(t1.ORIGIN_CITY_NAME,t2.ORIGIN_CITY_NAME)&IQ(t1.ORIGIN_STATE_NM,t2.ORIGIN_STATE_NM)',\n",
       " 't1&t2&EQ(t1.ORIGIN,t2.ORIGIN)&IQ(t1.ORIGIN_STATE_NM,t2.ORIGIN_STATE_NM)']"
      ]
     },
     "execution_count": 42,
     "metadata": {},
     "output_type": "execute_result"
    }
   ],
   "source": [
    "list(d)"
   ]
  },
  {
   "cell_type": "code",
   "execution_count": 38,
   "id": "c947338a",
   "metadata": {},
   "outputs": [
    {
     "data": {
      "text/plain": [
       "['t1&t2&IQ(t1.DEST_AIRPORT_ID,t2.DEST_AIRPORT_ID)&EQ(t1.DEST_CITY_NAME,t2.DEST_CITY_NAME)',\n",
       " 't1&t2&EQ(t1.ORIGIN_CITY_NAME,t2.ORIGIN_CITY_NAME)&IQ(t1.ORIGIN,t2.ORIGIN)',\n",
       " 't1&t2&EQ(t1.ORIGIN_CITY_NAME,t2.ORIGIN_CITY_NAME)&IQ(t1.ORIGIN_AIRPORT_ID,t2.ORIGIN_AIRPORT_ID)',\n",
       " 't1&t2&IQ(t1.DEST,t2.DEST)&EQ(t1.DEST_CITY_NAME,t2.DEST_CITY_NAME)']"
      ]
     },
     "execution_count": 38,
     "metadata": {},
     "output_type": "execute_result"
    }
   ],
   "source": [
    "list(changed_d)"
   ]
  },
  {
   "cell_type": "code",
   "execution_count": 39,
   "id": "5875fb86",
   "metadata": {},
   "outputs": [
    {
     "data": {
      "text/plain": [
       "{'t1&t2&IQ(t1.DEST_AIRPORT_ID,t2.DEST_AIRPORT_ID)&EQ(t1.DEST_CITY_NAME,t2.DEST_CITY_NAME)': {'deleted': True,\n",
       "  'pre_fix_size': 5,\n",
       "  'after_fix_size': 43,\n",
       "  'fixed_treerule_text': [\"t1&t2&EQ(t1.day_of_week,'5')&EQ(t1.DEST_CITY_NAME,t2.DEST_CITY_NAME)&IQ(t1.DEST_AIRPORT_ID,t2.DEST_AIRPORT_ID)\",\n",
       "   \"t1&t2&EQ(t1.day_of_week,'6')&IQ(t1.day_of_week,'5')&EQ(t1.DEST_CITY_NAME,t2.DEST_CITY_NAME)&IQ(t1.DEST_AIRPORT_ID,t2.DEST_AIRPORT_ID)\",\n",
       "   \"t1&t2&EQ(t1.op_unique_carrier,t2.op_unique_carrier)&EQ(t1.day_of_week,'2')&IQ(t1.day_of_week,'6')&IQ(t1.day_of_week,'5')&EQ(t1.DEST_CITY_NAME,t2.DEST_CITY_NAME)&IQ(t1.DEST_AIRPORT_ID,t2.DEST_AIRPORT_ID)\",\n",
       "   \"t1&t2&EQ(t1.origin_city_name,t2.origin_city_name)&IQ(t2.day_of_week,'3')&IQ(t1.op_unique_carrier,t2.op_unique_carrier)&EQ(t1.day_of_week,'2')&IQ(t1.day_of_week,'6')&IQ(t1.day_of_week,'5')&EQ(t1.DEST_CITY_NAME,t2.DEST_CITY_NAME)&IQ(t1.DEST_AIRPORT_ID,t2.DEST_AIRPORT_ID)\",\n",
       "   \"t1&t2&IQ(t1.origin_state_abr,t2.origin_state_abr)&EQ(t2.day_of_week,'3')&IQ(t1.op_unique_carrier,t2.op_unique_carrier)&EQ(t1.day_of_week,'2')&IQ(t1.day_of_week,'6')&IQ(t1.day_of_week,'5')&EQ(t1.DEST_CITY_NAME,t2.DEST_CITY_NAME)&IQ(t1.DEST_AIRPORT_ID,t2.DEST_AIRPORT_ID)\",\n",
       "   \"t1&t2&EQ(t1.fl_date,t2.fl_date)&IQ(t2.day_of_week,'1')&IQ(t1.origin_city_name,t2.origin_city_name)&IQ(t2.day_of_week,'3')&IQ(t1.op_unique_carrier,t2.op_unique_carrier)&EQ(t1.day_of_week,'2')&IQ(t1.day_of_week,'6')&IQ(t1.day_of_week,'5')&EQ(t1.DEST_CITY_NAME,t2.DEST_CITY_NAME)&IQ(t1.DEST_AIRPORT_ID,t2.DEST_AIRPORT_ID)\",\n",
       "   \"t1&t2&EQ(t1.origin_state_abr,t2.origin_state_abr)&EQ(t2.day_of_week,'1')&IQ(t1.origin_city_name,t2.origin_city_name)&IQ(t2.day_of_week,'3')&IQ(t1.op_unique_carrier,t2.op_unique_carrier)&EQ(t1.day_of_week,'2')&IQ(t1.day_of_week,'6')&IQ(t1.day_of_week,'5')&EQ(t1.DEST_CITY_NAME,t2.DEST_CITY_NAME)&IQ(t1.DEST_AIRPORT_ID,t2.DEST_AIRPORT_ID)\",\n",
       "   \"t1&t2&EQ(t1.origin_state_abr,t2.origin_state_abr)&EQ(t2.day_of_week,'4')&IQ(t1.fl_date,t2.fl_date)&IQ(t2.day_of_week,'1')&IQ(t1.origin_city_name,t2.origin_city_name)&IQ(t2.day_of_week,'3')&IQ(t1.op_unique_carrier,t2.op_unique_carrier)&EQ(t1.day_of_week,'2')&IQ(t1.day_of_week,'6')&IQ(t1.day_of_week,'5')&EQ(t1.DEST_CITY_NAME,t2.DEST_CITY_NAME)&IQ(t1.DEST_AIRPORT_ID,t2.DEST_AIRPORT_ID)\",\n",
       "   \"t1&t2&IQ(t1.origin_state_abr,t2.origin_state_abr)&EQ(t2.day_of_week,'6')&IQ(t2.day_of_week,'4')&IQ(t1.fl_date,t2.fl_date)&IQ(t2.day_of_week,'1')&IQ(t1.origin_city_name,t2.origin_city_name)&IQ(t2.day_of_week,'3')&IQ(t1.op_unique_carrier,t2.op_unique_carrier)&EQ(t1.day_of_week,'2')&IQ(t1.day_of_week,'6')&IQ(t1.day_of_week,'5')&EQ(t1.DEST_CITY_NAME,t2.DEST_CITY_NAME)&IQ(t1.DEST_AIRPORT_ID,t2.DEST_AIRPORT_ID)\",\n",
       "   \"t1&t2&IQ(t1.crs_dep_time,t2.crs_dep_time)&IQ(t1.origin_state_abr,t2.origin_state_abr)&EQ(t2.day_of_week,'4')&IQ(t1.fl_date,t2.fl_date)&IQ(t2.day_of_week,'1')&IQ(t1.origin_city_name,t2.origin_city_name)&IQ(t2.day_of_week,'3')&IQ(t1.op_unique_carrier,t2.op_unique_carrier)&EQ(t1.day_of_week,'2')&IQ(t1.day_of_week,'6')&IQ(t1.day_of_week,'5')&EQ(t1.DEST_CITY_NAME,t2.DEST_CITY_NAME)&IQ(t1.DEST_AIRPORT_ID,t2.DEST_AIRPORT_ID)\",\n",
       "   \"t1&t2&IQ(t1.day_of_week,t2.day_of_week)&IQ(t1.crs_arr_time,t2.crs_arr_time)&IQ(t1.dep_time,t2.dep_time)&IQ(t1.crs_dep_time,t2.crs_dep_time)&IQ(t2.day_of_week,'6')&IQ(t2.day_of_week,'4')&IQ(t1.fl_date,t2.fl_date)&IQ(t2.day_of_week,'1')&IQ(t1.origin_city_name,t2.origin_city_name)&IQ(t2.day_of_week,'3')&IQ(t1.op_unique_carrier,t2.op_unique_carrier)&EQ(t1.day_of_week,'2')&IQ(t1.day_of_week,'6')&IQ(t1.day_of_week,'5')&EQ(t1.DEST_CITY_NAME,t2.DEST_CITY_NAME)&IQ(t1.DEST_AIRPORT_ID,t2.DEST_AIRPORT_ID)\"]},\n",
       " 't1&t2&EQ(t1.ORIGIN_CITY_NAME,t2.ORIGIN_CITY_NAME)&IQ(t1.ORIGIN,t2.ORIGIN)': {'deleted': False,\n",
       "  'pre_fix_size': 5,\n",
       "  'after_fix_size': 7,\n",
       "  'fixed_treerule_text': ['t1&t2&IQ(t1.origin_state_abr,t2.origin_state_abr)&IQ(t1.ORIGIN,t2.ORIGIN)&EQ(t1.ORIGIN_CITY_NAME,t2.ORIGIN_CITY_NAME)']},\n",
       " 't1&t2&EQ(t1.ORIGIN_CITY_NAME,t2.ORIGIN_CITY_NAME)&IQ(t1.ORIGIN_AIRPORT_ID,t2.ORIGIN_AIRPORT_ID)': {'deleted': False,\n",
       "  'pre_fix_size': 5,\n",
       "  'after_fix_size': 7,\n",
       "  'fixed_treerule_text': ['t1&t2&IQ(t1.origin_state_abr,t2.origin_state_abr)&IQ(t1.ORIGIN_AIRPORT_ID,t2.ORIGIN_AIRPORT_ID)&EQ(t1.ORIGIN_CITY_NAME,t2.ORIGIN_CITY_NAME)']},\n",
       " 't1&t2&IQ(t1.DEST,t2.DEST)&EQ(t1.DEST_CITY_NAME,t2.DEST_CITY_NAME)': {'deleted': True,\n",
       "  'pre_fix_size': 5,\n",
       "  'after_fix_size': 43,\n",
       "  'fixed_treerule_text': [\"t1&t2&EQ(t1.day_of_week,'5')&EQ(t1.DEST_CITY_NAME,t2.DEST_CITY_NAME)&IQ(t1.DEST,t2.DEST)\",\n",
       "   \"t1&t2&EQ(t1.day_of_week,'6')&IQ(t1.day_of_week,'5')&EQ(t1.DEST_CITY_NAME,t2.DEST_CITY_NAME)&IQ(t1.DEST,t2.DEST)\",\n",
       "   \"t1&t2&EQ(t1.op_unique_carrier,t2.op_unique_carrier)&EQ(t1.day_of_week,'2')&IQ(t1.day_of_week,'6')&IQ(t1.day_of_week,'5')&EQ(t1.DEST_CITY_NAME,t2.DEST_CITY_NAME)&IQ(t1.DEST,t2.DEST)\",\n",
       "   \"t1&t2&EQ(t1.origin_city_name,t2.origin_city_name)&IQ(t2.day_of_week,'3')&IQ(t1.op_unique_carrier,t2.op_unique_carrier)&EQ(t1.day_of_week,'2')&IQ(t1.day_of_week,'6')&IQ(t1.day_of_week,'5')&EQ(t1.DEST_CITY_NAME,t2.DEST_CITY_NAME)&IQ(t1.DEST,t2.DEST)\",\n",
       "   \"t1&t2&IQ(t1.origin_state_abr,t2.origin_state_abr)&EQ(t2.day_of_week,'3')&IQ(t1.op_unique_carrier,t2.op_unique_carrier)&EQ(t1.day_of_week,'2')&IQ(t1.day_of_week,'6')&IQ(t1.day_of_week,'5')&EQ(t1.DEST_CITY_NAME,t2.DEST_CITY_NAME)&IQ(t1.DEST,t2.DEST)\",\n",
       "   \"t1&t2&EQ(t1.fl_date,t2.fl_date)&IQ(t2.day_of_week,'1')&IQ(t1.origin_city_name,t2.origin_city_name)&IQ(t2.day_of_week,'3')&IQ(t1.op_unique_carrier,t2.op_unique_carrier)&EQ(t1.day_of_week,'2')&IQ(t1.day_of_week,'6')&IQ(t1.day_of_week,'5')&EQ(t1.DEST_CITY_NAME,t2.DEST_CITY_NAME)&IQ(t1.DEST,t2.DEST)\",\n",
       "   \"t1&t2&EQ(t1.origin_state_abr,t2.origin_state_abr)&EQ(t2.day_of_week,'1')&IQ(t1.origin_city_name,t2.origin_city_name)&IQ(t2.day_of_week,'3')&IQ(t1.op_unique_carrier,t2.op_unique_carrier)&EQ(t1.day_of_week,'2')&IQ(t1.day_of_week,'6')&IQ(t1.day_of_week,'5')&EQ(t1.DEST_CITY_NAME,t2.DEST_CITY_NAME)&IQ(t1.DEST,t2.DEST)\",\n",
       "   \"t1&t2&EQ(t1.origin_state_abr,t2.origin_state_abr)&EQ(t2.day_of_week,'4')&IQ(t1.fl_date,t2.fl_date)&IQ(t2.day_of_week,'1')&IQ(t1.origin_city_name,t2.origin_city_name)&IQ(t2.day_of_week,'3')&IQ(t1.op_unique_carrier,t2.op_unique_carrier)&EQ(t1.day_of_week,'2')&IQ(t1.day_of_week,'6')&IQ(t1.day_of_week,'5')&EQ(t1.DEST_CITY_NAME,t2.DEST_CITY_NAME)&IQ(t1.DEST,t2.DEST)\",\n",
       "   \"t1&t2&IQ(t1.origin_state_abr,t2.origin_state_abr)&EQ(t2.day_of_week,'6')&IQ(t2.day_of_week,'4')&IQ(t1.fl_date,t2.fl_date)&IQ(t2.day_of_week,'1')&IQ(t1.origin_city_name,t2.origin_city_name)&IQ(t2.day_of_week,'3')&IQ(t1.op_unique_carrier,t2.op_unique_carrier)&EQ(t1.day_of_week,'2')&IQ(t1.day_of_week,'6')&IQ(t1.day_of_week,'5')&EQ(t1.DEST_CITY_NAME,t2.DEST_CITY_NAME)&IQ(t1.DEST,t2.DEST)\",\n",
       "   \"t1&t2&IQ(t1.crs_dep_time,t2.crs_dep_time)&IQ(t1.origin_state_abr,t2.origin_state_abr)&EQ(t2.day_of_week,'4')&IQ(t1.fl_date,t2.fl_date)&IQ(t2.day_of_week,'1')&IQ(t1.origin_city_name,t2.origin_city_name)&IQ(t2.day_of_week,'3')&IQ(t1.op_unique_carrier,t2.op_unique_carrier)&EQ(t1.day_of_week,'2')&IQ(t1.day_of_week,'6')&IQ(t1.day_of_week,'5')&EQ(t1.DEST_CITY_NAME,t2.DEST_CITY_NAME)&IQ(t1.DEST,t2.DEST)\",\n",
       "   \"t1&t2&IQ(t1.day_of_week,t2.day_of_week)&IQ(t1.crs_arr_time,t2.crs_arr_time)&IQ(t1.dep_time,t2.dep_time)&IQ(t1.crs_dep_time,t2.crs_dep_time)&IQ(t2.day_of_week,'6')&IQ(t2.day_of_week,'4')&IQ(t1.fl_date,t2.fl_date)&IQ(t2.day_of_week,'1')&IQ(t1.origin_city_name,t2.origin_city_name)&IQ(t2.day_of_week,'3')&IQ(t1.op_unique_carrier,t2.op_unique_carrier)&EQ(t1.day_of_week,'2')&IQ(t1.day_of_week,'6')&IQ(t1.day_of_week,'5')&EQ(t1.DEST_CITY_NAME,t2.DEST_CITY_NAME)&IQ(t1.DEST,t2.DEST)\"]}}"
      ]
     },
     "execution_count": 39,
     "metadata": {},
     "output_type": "execute_result"
    }
   ],
   "source": [
    "changed_d"
   ]
  },
  {
   "cell_type": "code",
   "execution_count": 40,
   "id": "921810de",
   "metadata": {
    "scrolled": false
   },
   "outputs": [
    {
     "data": {
      "text/plain": [
       "{'t1&t2&EQ(t1.ORIGIN_CITY_NAME,t2.ORIGIN_CITY_NAME)&IQ(t1.ORIGIN,t2.ORIGIN)': {'deleted': False,\n",
       "  'pre_fix_size': 5,\n",
       "  'after_fix_size': 7,\n",
       "  'fixed_treerule_text': ['t1&t2&IQ(t1.origin_state_abr,t2.origin_state_abr)&IQ(t1.ORIGIN,t2.ORIGIN)&EQ(t1.ORIGIN_CITY_NAME,t2.ORIGIN_CITY_NAME)']},\n",
       " 't1&t2&EQ(t1.ORIGIN_CITY_NAME,t2.ORIGIN_CITY_NAME)&IQ(t1.ORIGIN_AIRPORT_ID,t2.ORIGIN_AIRPORT_ID)': {'deleted': False,\n",
       "  'pre_fix_size': 5,\n",
       "  'after_fix_size': 7,\n",
       "  'fixed_treerule_text': ['t1&t2&IQ(t1.origin_state_abr,t2.origin_state_abr)&IQ(t1.ORIGIN_AIRPORT_ID,t2.ORIGIN_AIRPORT_ID)&EQ(t1.ORIGIN_CITY_NAME,t2.ORIGIN_CITY_NAME)']}}"
      ]
     },
     "execution_count": 40,
     "metadata": {},
     "output_type": "execute_result"
    }
   ],
   "source": [
    "{k:v for (k,v) in changed_d.items() if not v['deleted']}"
   ]
  },
  {
   "cell_type": "code",
   "execution_count": 41,
   "id": "e2602900",
   "metadata": {
    "scrolled": true
   },
   "outputs": [
    {
     "data": {
      "text/plain": [
       "{'t1&t2&IQ(t1.DEST_AIRPORT_ID,t2.DEST_AIRPORT_ID)&EQ(t1.DEST_CITY_NAME,t2.DEST_CITY_NAME)': {'deleted': True,\n",
       "  'pre_fix_size': 5,\n",
       "  'after_fix_size': 43,\n",
       "  'fixed_treerule_text': [\"t1&t2&EQ(t1.day_of_week,'5')&EQ(t1.DEST_CITY_NAME,t2.DEST_CITY_NAME)&IQ(t1.DEST_AIRPORT_ID,t2.DEST_AIRPORT_ID)\",\n",
       "   \"t1&t2&EQ(t1.day_of_week,'6')&IQ(t1.day_of_week,'5')&EQ(t1.DEST_CITY_NAME,t2.DEST_CITY_NAME)&IQ(t1.DEST_AIRPORT_ID,t2.DEST_AIRPORT_ID)\",\n",
       "   \"t1&t2&EQ(t1.op_unique_carrier,t2.op_unique_carrier)&EQ(t1.day_of_week,'2')&IQ(t1.day_of_week,'6')&IQ(t1.day_of_week,'5')&EQ(t1.DEST_CITY_NAME,t2.DEST_CITY_NAME)&IQ(t1.DEST_AIRPORT_ID,t2.DEST_AIRPORT_ID)\",\n",
       "   \"t1&t2&EQ(t1.origin_city_name,t2.origin_city_name)&IQ(t2.day_of_week,'3')&IQ(t1.op_unique_carrier,t2.op_unique_carrier)&EQ(t1.day_of_week,'2')&IQ(t1.day_of_week,'6')&IQ(t1.day_of_week,'5')&EQ(t1.DEST_CITY_NAME,t2.DEST_CITY_NAME)&IQ(t1.DEST_AIRPORT_ID,t2.DEST_AIRPORT_ID)\",\n",
       "   \"t1&t2&IQ(t1.origin_state_abr,t2.origin_state_abr)&EQ(t2.day_of_week,'3')&IQ(t1.op_unique_carrier,t2.op_unique_carrier)&EQ(t1.day_of_week,'2')&IQ(t1.day_of_week,'6')&IQ(t1.day_of_week,'5')&EQ(t1.DEST_CITY_NAME,t2.DEST_CITY_NAME)&IQ(t1.DEST_AIRPORT_ID,t2.DEST_AIRPORT_ID)\",\n",
       "   \"t1&t2&EQ(t1.fl_date,t2.fl_date)&IQ(t2.day_of_week,'1')&IQ(t1.origin_city_name,t2.origin_city_name)&IQ(t2.day_of_week,'3')&IQ(t1.op_unique_carrier,t2.op_unique_carrier)&EQ(t1.day_of_week,'2')&IQ(t1.day_of_week,'6')&IQ(t1.day_of_week,'5')&EQ(t1.DEST_CITY_NAME,t2.DEST_CITY_NAME)&IQ(t1.DEST_AIRPORT_ID,t2.DEST_AIRPORT_ID)\",\n",
       "   \"t1&t2&EQ(t1.origin_state_abr,t2.origin_state_abr)&EQ(t2.day_of_week,'1')&IQ(t1.origin_city_name,t2.origin_city_name)&IQ(t2.day_of_week,'3')&IQ(t1.op_unique_carrier,t2.op_unique_carrier)&EQ(t1.day_of_week,'2')&IQ(t1.day_of_week,'6')&IQ(t1.day_of_week,'5')&EQ(t1.DEST_CITY_NAME,t2.DEST_CITY_NAME)&IQ(t1.DEST_AIRPORT_ID,t2.DEST_AIRPORT_ID)\",\n",
       "   \"t1&t2&EQ(t1.origin_state_abr,t2.origin_state_abr)&EQ(t2.day_of_week,'4')&IQ(t1.fl_date,t2.fl_date)&IQ(t2.day_of_week,'1')&IQ(t1.origin_city_name,t2.origin_city_name)&IQ(t2.day_of_week,'3')&IQ(t1.op_unique_carrier,t2.op_unique_carrier)&EQ(t1.day_of_week,'2')&IQ(t1.day_of_week,'6')&IQ(t1.day_of_week,'5')&EQ(t1.DEST_CITY_NAME,t2.DEST_CITY_NAME)&IQ(t1.DEST_AIRPORT_ID,t2.DEST_AIRPORT_ID)\",\n",
       "   \"t1&t2&IQ(t1.origin_state_abr,t2.origin_state_abr)&EQ(t2.day_of_week,'6')&IQ(t2.day_of_week,'4')&IQ(t1.fl_date,t2.fl_date)&IQ(t2.day_of_week,'1')&IQ(t1.origin_city_name,t2.origin_city_name)&IQ(t2.day_of_week,'3')&IQ(t1.op_unique_carrier,t2.op_unique_carrier)&EQ(t1.day_of_week,'2')&IQ(t1.day_of_week,'6')&IQ(t1.day_of_week,'5')&EQ(t1.DEST_CITY_NAME,t2.DEST_CITY_NAME)&IQ(t1.DEST_AIRPORT_ID,t2.DEST_AIRPORT_ID)\",\n",
       "   \"t1&t2&IQ(t1.crs_dep_time,t2.crs_dep_time)&IQ(t1.origin_state_abr,t2.origin_state_abr)&EQ(t2.day_of_week,'4')&IQ(t1.fl_date,t2.fl_date)&IQ(t2.day_of_week,'1')&IQ(t1.origin_city_name,t2.origin_city_name)&IQ(t2.day_of_week,'3')&IQ(t1.op_unique_carrier,t2.op_unique_carrier)&EQ(t1.day_of_week,'2')&IQ(t1.day_of_week,'6')&IQ(t1.day_of_week,'5')&EQ(t1.DEST_CITY_NAME,t2.DEST_CITY_NAME)&IQ(t1.DEST_AIRPORT_ID,t2.DEST_AIRPORT_ID)\",\n",
       "   \"t1&t2&IQ(t1.day_of_week,t2.day_of_week)&IQ(t1.crs_arr_time,t2.crs_arr_time)&IQ(t1.dep_time,t2.dep_time)&IQ(t1.crs_dep_time,t2.crs_dep_time)&IQ(t2.day_of_week,'6')&IQ(t2.day_of_week,'4')&IQ(t1.fl_date,t2.fl_date)&IQ(t2.day_of_week,'1')&IQ(t1.origin_city_name,t2.origin_city_name)&IQ(t2.day_of_week,'3')&IQ(t1.op_unique_carrier,t2.op_unique_carrier)&EQ(t1.day_of_week,'2')&IQ(t1.day_of_week,'6')&IQ(t1.day_of_week,'5')&EQ(t1.DEST_CITY_NAME,t2.DEST_CITY_NAME)&IQ(t1.DEST_AIRPORT_ID,t2.DEST_AIRPORT_ID)\"]},\n",
       " 't1&t2&IQ(t1.DEST,t2.DEST)&EQ(t1.DEST_CITY_NAME,t2.DEST_CITY_NAME)': {'deleted': True,\n",
       "  'pre_fix_size': 5,\n",
       "  'after_fix_size': 43,\n",
       "  'fixed_treerule_text': [\"t1&t2&EQ(t1.day_of_week,'5')&EQ(t1.DEST_CITY_NAME,t2.DEST_CITY_NAME)&IQ(t1.DEST,t2.DEST)\",\n",
       "   \"t1&t2&EQ(t1.day_of_week,'6')&IQ(t1.day_of_week,'5')&EQ(t1.DEST_CITY_NAME,t2.DEST_CITY_NAME)&IQ(t1.DEST,t2.DEST)\",\n",
       "   \"t1&t2&EQ(t1.op_unique_carrier,t2.op_unique_carrier)&EQ(t1.day_of_week,'2')&IQ(t1.day_of_week,'6')&IQ(t1.day_of_week,'5')&EQ(t1.DEST_CITY_NAME,t2.DEST_CITY_NAME)&IQ(t1.DEST,t2.DEST)\",\n",
       "   \"t1&t2&EQ(t1.origin_city_name,t2.origin_city_name)&IQ(t2.day_of_week,'3')&IQ(t1.op_unique_carrier,t2.op_unique_carrier)&EQ(t1.day_of_week,'2')&IQ(t1.day_of_week,'6')&IQ(t1.day_of_week,'5')&EQ(t1.DEST_CITY_NAME,t2.DEST_CITY_NAME)&IQ(t1.DEST,t2.DEST)\",\n",
       "   \"t1&t2&IQ(t1.origin_state_abr,t2.origin_state_abr)&EQ(t2.day_of_week,'3')&IQ(t1.op_unique_carrier,t2.op_unique_carrier)&EQ(t1.day_of_week,'2')&IQ(t1.day_of_week,'6')&IQ(t1.day_of_week,'5')&EQ(t1.DEST_CITY_NAME,t2.DEST_CITY_NAME)&IQ(t1.DEST,t2.DEST)\",\n",
       "   \"t1&t2&EQ(t1.fl_date,t2.fl_date)&IQ(t2.day_of_week,'1')&IQ(t1.origin_city_name,t2.origin_city_name)&IQ(t2.day_of_week,'3')&IQ(t1.op_unique_carrier,t2.op_unique_carrier)&EQ(t1.day_of_week,'2')&IQ(t1.day_of_week,'6')&IQ(t1.day_of_week,'5')&EQ(t1.DEST_CITY_NAME,t2.DEST_CITY_NAME)&IQ(t1.DEST,t2.DEST)\",\n",
       "   \"t1&t2&EQ(t1.origin_state_abr,t2.origin_state_abr)&EQ(t2.day_of_week,'1')&IQ(t1.origin_city_name,t2.origin_city_name)&IQ(t2.day_of_week,'3')&IQ(t1.op_unique_carrier,t2.op_unique_carrier)&EQ(t1.day_of_week,'2')&IQ(t1.day_of_week,'6')&IQ(t1.day_of_week,'5')&EQ(t1.DEST_CITY_NAME,t2.DEST_CITY_NAME)&IQ(t1.DEST,t2.DEST)\",\n",
       "   \"t1&t2&EQ(t1.origin_state_abr,t2.origin_state_abr)&EQ(t2.day_of_week,'4')&IQ(t1.fl_date,t2.fl_date)&IQ(t2.day_of_week,'1')&IQ(t1.origin_city_name,t2.origin_city_name)&IQ(t2.day_of_week,'3')&IQ(t1.op_unique_carrier,t2.op_unique_carrier)&EQ(t1.day_of_week,'2')&IQ(t1.day_of_week,'6')&IQ(t1.day_of_week,'5')&EQ(t1.DEST_CITY_NAME,t2.DEST_CITY_NAME)&IQ(t1.DEST,t2.DEST)\",\n",
       "   \"t1&t2&IQ(t1.origin_state_abr,t2.origin_state_abr)&EQ(t2.day_of_week,'6')&IQ(t2.day_of_week,'4')&IQ(t1.fl_date,t2.fl_date)&IQ(t2.day_of_week,'1')&IQ(t1.origin_city_name,t2.origin_city_name)&IQ(t2.day_of_week,'3')&IQ(t1.op_unique_carrier,t2.op_unique_carrier)&EQ(t1.day_of_week,'2')&IQ(t1.day_of_week,'6')&IQ(t1.day_of_week,'5')&EQ(t1.DEST_CITY_NAME,t2.DEST_CITY_NAME)&IQ(t1.DEST,t2.DEST)\",\n",
       "   \"t1&t2&IQ(t1.crs_dep_time,t2.crs_dep_time)&IQ(t1.origin_state_abr,t2.origin_state_abr)&EQ(t2.day_of_week,'4')&IQ(t1.fl_date,t2.fl_date)&IQ(t2.day_of_week,'1')&IQ(t1.origin_city_name,t2.origin_city_name)&IQ(t2.day_of_week,'3')&IQ(t1.op_unique_carrier,t2.op_unique_carrier)&EQ(t1.day_of_week,'2')&IQ(t1.day_of_week,'6')&IQ(t1.day_of_week,'5')&EQ(t1.DEST_CITY_NAME,t2.DEST_CITY_NAME)&IQ(t1.DEST,t2.DEST)\",\n",
       "   \"t1&t2&IQ(t1.day_of_week,t2.day_of_week)&IQ(t1.crs_arr_time,t2.crs_arr_time)&IQ(t1.dep_time,t2.dep_time)&IQ(t1.crs_dep_time,t2.crs_dep_time)&IQ(t2.day_of_week,'6')&IQ(t2.day_of_week,'4')&IQ(t1.fl_date,t2.fl_date)&IQ(t2.day_of_week,'1')&IQ(t1.origin_city_name,t2.origin_city_name)&IQ(t2.day_of_week,'3')&IQ(t1.op_unique_carrier,t2.op_unique_carrier)&EQ(t1.day_of_week,'2')&IQ(t1.day_of_week,'6')&IQ(t1.day_of_week,'5')&EQ(t1.DEST_CITY_NAME,t2.DEST_CITY_NAME)&IQ(t1.DEST,t2.DEST)\"]}}"
      ]
     },
     "execution_count": 41,
     "metadata": {},
     "output_type": "execute_result"
    }
   ],
   "source": [
    "{k:v for (k,v) in changed_d.items() if  v['deleted']}"
   ]
  }
 ],
 "metadata": {
  "kernelspec": {
   "display_name": "Python 3 (ipykernel)",
   "language": "python",
   "name": "python3"
  },
  "language_info": {
   "codemirror_mode": {
    "name": "ipython",
    "version": 3
   },
   "file_extension": ".py",
   "mimetype": "text/x-python",
   "name": "python",
   "nbconvert_exporter": "python",
   "pygments_lexer": "ipython3",
   "version": "3.8.0"
  }
 },
 "nbformat": 4,
 "nbformat_minor": 5
}
