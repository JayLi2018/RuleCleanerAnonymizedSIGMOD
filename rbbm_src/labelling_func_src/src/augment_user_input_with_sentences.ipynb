{
 "cells": [
  {
   "cell_type": "code",
   "execution_count": 1,
   "id": "599ce34b",
   "metadata": {},
   "outputs": [],
   "source": [
    "import pandas as pd"
   ]
  },
  {
   "cell_type": "code",
   "execution_count": 13,
   "id": "e89b2e37-6974-4dab-b5c5-362ec69fc0a1",
   "metadata": {},
   "outputs": [],
   "source": [
    "from rbbm_src.labelling_func_src.src.example_tree_rules import *\n",
    "from rbbm_src.labelling_func_src.src.LFRepair import run_snorkel\n",
    "from rbbm_src.labelling_func_src.src.classes import clean_text\n",
    "import psycopg2\n",
    "import pandas as pd\n",
    "from snorkel.labeling import (\n",
    "\tLabelingFunction, \n",
    "\tlabeling_function, \n",
    "\tPandasLFApplier, \n",
    "\tLFAnalysis,\n",
    "\tfilter_unlabeled_dataframe\n",
    "\t)\n",
    "from snorkel.labeling.model import MajorityLabelVoter, LabelModel\n",
    "from sentence_transformers import SentenceTransformer, util\n",
    "import numpy as np\n"
   ]
  },
  {
   "cell_type": "code",
   "execution_count": 6,
   "id": "7cbfebb8-5146-4d02-833b-5e5d27f4ae7c",
   "metadata": {},
   "outputs": [],
   "source": [
    "conn = psycopg2.connect(dbname='label', user='postgres')"
   ]
  },
  {
   "cell_type": "code",
   "execution_count": 7,
   "id": "e61efe15-ce06-43d0-924a-2f1eaa2bd23e",
   "metadata": {},
   "outputs": [],
   "source": [
    "amazon_rules = gen_amazon_funcs()\n",
    "lfs=[f.gen_label_rule() for f in amazon_rules]\n"
   ]
  },
  {
   "cell_type": "code",
   "execution_count": 8,
   "id": "c138d450-8515-47d6-856e-c6a80001f958",
   "metadata": {},
   "outputs": [
    {
     "name": "stderr",
     "output_type": "stream",
     "text": [
      "/tmp/ipykernel_30718/881225267.py:2: UserWarning: pandas only supports SQLAlchemy connectable (engine/connection) or database string URI or sqlite3 DBAPI2 connection. Other DBAPI2 objects are not tested. Please consider using SQLAlchemy.\n",
      "  sentences_df=pd.read_sql(f'SELECT * FROM amazon01', conn)\n"
     ]
    }
   ],
   "source": [
    "# logger.critical(LFs)\n",
    "sentences_df=pd.read_sql(f'SELECT * FROM amazon01', conn)\n",
    "sentences_df = sentences_df.rename(columns={\"class\": \"expected_label\", \"content\": \"old_text\"})\n",
    "sentences_df['text'] = sentences_df['old_text'].apply(lambda s: clean_text(s))\n",
    "sentences_df = sentences_df[~sentences_df['text'].isna()]\n",
    "\n",
    "# # lf_internal_args = lf_input_internal(funcs=LFs)\n",
    "\n",
    "# # # Snorkel built-in labelling function applier\n",
    "# applier = PandasLFApplier(lfs=lfs)\n",
    "\n",
    "# # # Apply the labelling functions to get vectors\n",
    "# initial_vectors = applier.apply(df=sentences_df, progress_bar=False)\n",
    "# # # logger.critical(initial_vectors)\n",
    "# # # df.to_csv('snorkel.csv')\n",
    "\n",
    "# # if(lf_input.training_model_type=='majority'):\n",
    "# #     # pdb.set_trace()\n",
    "# #     model = MajorityLabelVoter()\n",
    "# # else:\n",
    "# model = LabelModel(cardinality=2, verbose=True, device='cpu')\n",
    "# model.fit(L_train=initial_vectors, n_epochs=500, log_freq=100, seed=123)\n",
    "# # snorkel needs to get an estimator using fit function first\n",
    "# # training model with all labelling functions\n",
    "\n",
    "# probs_test= model.predict_proba(L=initial_vectors)"
   ]
  },
  {
   "cell_type": "code",
   "execution_count": 27,
   "id": "8a6bc4d5-463e-4b29-8e27-351768d3b765",
   "metadata": {},
   "outputs": [
    {
     "data": {
      "text/plain": [
       "(19943, 5)"
      ]
     },
     "execution_count": 27,
     "metadata": {},
     "output_type": "execute_result"
    }
   ],
   "source": [
    "sentences_df.shape"
   ]
  },
  {
   "cell_type": "code",
   "execution_count": 31,
   "id": "8eb58c1f-0c60-4bfd-a661-f08118268a15",
   "metadata": {},
   "outputs": [],
   "source": [
    "sentences_df=sentences_df.head(1000)"
   ]
  },
  {
   "cell_type": "code",
   "execution_count": 32,
   "id": "7aa1f54b-c89e-47fa-a60e-fc03666da678",
   "metadata": {},
   "outputs": [],
   "source": [
    "corpus = sentences_df['text'].to_list()"
   ]
  },
  {
   "cell_type": "code",
   "execution_count": 35,
   "id": "c504eb54-8212-49a2-a72d-b0965ef5b1bc",
   "metadata": {
    "scrolled": true
   },
   "outputs": [
    {
     "name": "stderr",
     "output_type": "stream",
     "text": [
      "INFO 2024-05-03 18:53:16,258 [SentenceTransformer.py:__init__:66] Load pretrained SentenceTransformer: all-MiniLM-L6-v2\n",
      "INFO 2024-05-03 18:53:16,489 [SentenceTransformer.py:__init__:105] Use pytorch device: cpu\n"
     ]
    },
    {
     "data": {
      "application/vnd.jupyter.widget-view+json": {
       "model_id": "aa566103a408452eaa89175254fd59d4",
       "version_major": 2,
       "version_minor": 0
      },
      "text/plain": [
       "Batches:   0%|          | 0/1 [00:00<?, ?it/s]"
      ]
     },
     "metadata": {},
     "output_type": "display_data"
    },
    {
     "data": {
      "application/vnd.jupyter.widget-view+json": {
       "model_id": "540e118ef5cd454988e8e291d5f128d8",
       "version_major": 2,
       "version_minor": 0
      },
      "text/plain": [
       "Batches:   0%|          | 0/32 [00:00<?, ?it/s]"
      ]
     },
     "metadata": {},
     "output_type": "display_data"
    }
   ],
   "source": [
    "model = SentenceTransformer('all-MiniLM-L6-v2')\n",
    "\n",
    "# user_sentence_index = 0\n",
    "# user_sentence = corpus[user_sentence_index]\n",
    "corpus_embeddings = model.encode(corpus)\n",
    "\n"
   ]
  },
  {
   "cell_type": "code",
   "execution_count": 37,
   "id": "0a7aba6b-9774-4a84-baf9-628911a90b40",
   "metadata": {},
   "outputs": [
    {
     "data": {
      "application/vnd.jupyter.widget-view+json": {
       "model_id": "f1f67c3192104b4b916fa03730efdfbe",
       "version_major": 2,
       "version_minor": 0
      },
      "text/plain": [
       "Batches:   0%|          | 0/1 [00:00<?, ?it/s]"
      ]
     },
     "metadata": {},
     "output_type": "display_data"
    }
   ],
   "source": [
    "user_sentence = 'five stars'\n",
    "sentence_embedding = model.encode(user_sentence)\n",
    "similarities = util.pytorch_cos_sim(sentence_embedding, corpus_embeddings)[0]\n"
   ]
  },
  {
   "cell_type": "code",
   "execution_count": 36,
   "id": "0c15b178-bd40-418a-a4ec-9f4466e2f0f7",
   "metadata": {},
   "outputs": [
    {
     "name": "stdout",
     "output_type": "stream",
     "text": [
      "Top 10 similar sentences to: 'five stars'\n",
      "five stars great (Score: 0.9146)\n",
      "\n",
      "five stars great (Score: 0.9146)\n",
      "\n",
      "five stars great (Score: 0.9146)\n",
      "\n",
      "five stars good (Score: 0.9102)\n",
      "\n",
      "five stars good (Score: 0.9102)\n",
      "\n",
      "five stars good (Score: 0.9102)\n",
      "\n",
      "five stars good (Score: 0.9102)\n",
      "\n",
      "five stars good (Score: 0.9102)\n",
      "\n",
      "five stars ok (Score: 0.9047)\n",
      "\n",
      "five stars as expected (Score: 0.8826)\n",
      "\n"
     ]
    }
   ],
   "source": [
    "\n",
    "top_results = np.argsort(-similarities)[0:10] \n",
    "\n",
    "print(f\"Top 10 similar sentences to: '{user_sentence}'\")\n",
    "for idx in top_results:\n",
    "    print(corpus[idx], \"(Score: {:.4f})\\n\".format(similarities[idx]))\n",
    "    "
   ]
  },
  {
   "cell_type": "code",
   "execution_count": null,
   "id": "70f40dbd-5724-45bf-b782-8be2e7e3557f",
   "metadata": {},
   "outputs": [],
   "source": []
  }
 ],
 "metadata": {
  "kernelspec": {
   "display_name": "Python 3 (ipykernel)",
   "language": "python",
   "name": "python3"
  },
  "language_info": {
   "codemirror_mode": {
    "name": "ipython",
    "version": 3
   },
   "file_extension": ".py",
   "mimetype": "text/x-python",
   "name": "python",
   "nbconvert_exporter": "python",
   "pygments_lexer": "ipython3",
   "version": "3.8.0"
  }
 },
 "nbformat": 4,
 "nbformat_minor": 5
}
