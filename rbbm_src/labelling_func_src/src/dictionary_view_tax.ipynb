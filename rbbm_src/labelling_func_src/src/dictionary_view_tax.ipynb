{
 "cells": [
  {
   "cell_type": "code",
   "execution_count": 2,
   "id": "e1347106",
   "metadata": {},
   "outputs": [],
   "source": [
    "d= {'t1&t2&EQ(t1.AreaCode,t2.AreaCode)&EQ(t1.Phone,t2.Phone)': {'deleted': True, 'pre_fix_size': 5, 'after_fix_size': 13, 'fixed_treerule_text': ['t1&t2&IQ(t1.Phone,t2.Phone)&EQ(t1.AreaCode,t2.AreaCode)', \"t1&t2&IQ(t2.fname,'Bernd')&IQ(t1.childexemp,t2.childexemp)&IQ(t2.fname,'Alfred')&IQ(t1.AreaCode,t2.AreaCode)\"]}, 't1&t2&IQ(t1.City,t2.City)&EQ(t1.Zip,t2.Zip)': {'deleted': True, 'pre_fix_size': 5, 'after_fix_size': 13, 'fixed_treerule_text': ['t1&t2&EQ(t1.Zip,t2.Zip)&IQ(t1.City,t2.City)', \"t1&t2&IQ(t2.fname,'Bernd')&IQ(t1.childexemp,t2.childexemp)&IQ(t2.fname,'Alfred')&IQ(t1.areacode,t2.areacode)&IQ(t1.Zip,t2.Zip)&IQ(t1.City,t2.City)\"]}, 't1&t2&EQ(t1.AreaCode,t2.AreaCode)&IQ(t1.State,t2.State)': {'deleted': True, 'pre_fix_size': 5, 'after_fix_size': 13, 'fixed_treerule_text': ['t1&t2&EQ(t1.State,t2.State)&EQ(t1.AreaCode,t2.AreaCode)', \"t1&t2&IQ(t2.fname,'Bernd')&IQ(t1.childexemp,t2.childexemp)&IQ(t2.fname,'Alfred')&IQ(t1.AreaCode,t2.AreaCode)\"]}, 't1&t2&IQ(t1.State,t2.State)&EQ(t1.Zip,t2.Zip)': {'deleted': True, 'pre_fix_size': 5, 'after_fix_size': 13, 'fixed_treerule_text': ['t1&t2&EQ(t1.Zip,t2.Zip)&IQ(t1.State,t2.State)', \"t1&t2&IQ(t2.fname,'Bernd')&IQ(t1.childexemp,t2.childexemp)&IQ(t2.fname,'Alfred')&IQ(t1.areacode,t2.areacode)&EQ(t1.State,t2.State)\"]}, 't1&t2&EQ(t1.State,t2.State)&IQ(t1.ChildExemp,t2.ChildExemp)': {'deleted': True, 'pre_fix_size': 5, 'after_fix_size': 13, 'fixed_treerule_text': ['t1&t2&EQ(t1.ChildExemp,t2.ChildExemp)&EQ(t1.State,t2.State)', \"t1&t2&IQ(t2.fname,'Bernd')&IQ(t2.fname,'Alfred')&IQ(t1.areacode,t2.areacode)&IQ(t1.ChildExemp,t2.ChildExemp)&EQ(t1.State,t2.State)\"]}, 't1&t2&EQ(t1.State,t2.State)&EQ(t1.MaritalStatus,t2.MaritalStatus)&IQ(t1.SingleExemp,t2.SingleExemp)': {'deleted': True, 'pre_fix_size': 7, 'after_fix_size': 15, 'fixed_treerule_text': [\"t1&t2&EQ(t1.fname,'Uri')&IQ(t1.MaritalStatus,t2.MaritalStatus)&EQ(t1.State,t2.State)\", 't1&t2&IQ(t1.SingleExemp,t2.SingleExemp)&EQ(t1.MaritalStatus,t2.MaritalStatus)&EQ(t1.State,t2.State)', \"t1&t2&EQ(t1.fname,'Yudell')&IQ(t1.fname,'Uri')&IQ(t1.MaritalStatus,t2.MaritalStatus)&EQ(t1.State,t2.State)\", \"t1&t2&EQ(t1.fname,'Natalija')&EQ(t1.SingleExemp,t2.SingleExemp)&EQ(t1.MaritalStatus,t2.MaritalStatus)&EQ(t1.State,t2.State)\", \"t1&t2&EQ(t1.fname,'Lena')&IQ(t1.fname,'Natalija')&EQ(t1.SingleExemp,t2.SingleExemp)&EQ(t1.MaritalStatus,t2.MaritalStatus)&EQ(t1.State,t2.State)\"]}, 't1&t2&EQ(t1.State,t2.State)&EQ(t1.Salary,t2.Salary)&IQ(t1.Rate,t2.Rate)': {'deleted': True, 'pre_fix_size': 7, 'after_fix_size': 15, 'fixed_treerule_text': ['t1&t2&IQ(t1.Rate,t2.Rate)&EQ(t1.Salary,t2.Salary)&EQ(t1.State,t2.State)', \"t1&t2&IQ(t2.fname,'Bernd')&IQ(t1.childexemp,t2.childexemp)&IQ(t2.fname,'Alfred')&IQ(t1.areacode,t2.areacode)&IQ(t1.Salary,t2.Salary)&EQ(t1.State,t2.State)\"]}, 't1&t2&EQ(t1.State,t2.State)&GT(t1.Salary,t2.Salary)&LT(t1.Rate,t2.Rate)': {'deleted': True, 'pre_fix_size': 7, 'after_fix_size': 17, 'fixed_treerule_text': [\"t1&t2&IQ(t2.fname,'Bernd')&IQ(t1.areacode,t2.areacode)&GT(t1.Salary,t2.Salary)&EQ(t1.State,t2.State)\", \"t1&t2&EQ(t1.gender,t2.gender)&IQ(t2.fname,'Alfred')&LT(t1.Rate,t2.Rate)&GT(t1.Salary,t2.Salary)&EQ(t1.State,t2.State)\"]}, 't1&t2&EQ(t1.State,t2.State)&LT(t1.Salary,t2.Salary)&GT(t1.Rate,t2.Rate)': {'deleted': True, 'pre_fix_size': 7, 'after_fix_size': 15, 'fixed_treerule_text': [\"t1&t2&EQ(t1.fname,'Natalija')&LT(t1.Salary,t2.Salary)&EQ(t1.State,t2.State)\", 't1&t2&GT(t1.Rate,t2.Rate)&LT(t1.Salary,t2.Salary)&EQ(t1.State,t2.State)', \"t1&t2&EQ(t1.fname,'Lena')&IQ(t1.fname,'Natalija')&LT(t1.Salary,t2.Salary)&EQ(t1.State,t2.State)\"]}}"
   ]
  },
  {
   "cell_type": "code",
   "execution_count": 3,
   "id": "4f95c464",
   "metadata": {},
   "outputs": [],
   "source": [
    "changed_d = {k:v for (k,v) in d.items() if v['pre_fix_size']!=v['after_fix_size']}"
   ]
  },
  {
   "cell_type": "code",
   "execution_count": 4,
   "id": "b96e7edf",
   "metadata": {},
   "outputs": [],
   "source": [
    "un_changed_d = {k:v for (k,v) in d.items() if v['pre_fix_size']==v['after_fix_size']}"
   ]
  },
  {
   "cell_type": "code",
   "execution_count": 5,
   "id": "94eae085",
   "metadata": {},
   "outputs": [
    {
     "data": {
      "text/plain": [
       "[]"
      ]
     },
     "execution_count": 5,
     "metadata": {},
     "output_type": "execute_result"
    }
   ],
   "source": [
    "list(un_changed_d)"
   ]
  },
  {
   "cell_type": "code",
   "execution_count": 6,
   "id": "e91f9ae5",
   "metadata": {},
   "outputs": [
    {
     "data": {
      "text/plain": [
       "9"
      ]
     },
     "execution_count": 6,
     "metadata": {},
     "output_type": "execute_result"
    }
   ],
   "source": [
    "len(changed_d)"
   ]
  },
  {
   "cell_type": "code",
   "execution_count": 7,
   "id": "560569a4",
   "metadata": {},
   "outputs": [
    {
     "data": {
      "text/plain": [
       "9"
      ]
     },
     "execution_count": 7,
     "metadata": {},
     "output_type": "execute_result"
    }
   ],
   "source": [
    "len(d)"
   ]
  },
  {
   "cell_type": "code",
   "execution_count": 8,
   "id": "ec6ce52c",
   "metadata": {},
   "outputs": [
    {
     "data": {
      "text/plain": [
       "['t1&t2&EQ(t1.AreaCode,t2.AreaCode)&EQ(t1.Phone,t2.Phone)',\n",
       " 't1&t2&IQ(t1.City,t2.City)&EQ(t1.Zip,t2.Zip)',\n",
       " 't1&t2&EQ(t1.AreaCode,t2.AreaCode)&IQ(t1.State,t2.State)',\n",
       " 't1&t2&IQ(t1.State,t2.State)&EQ(t1.Zip,t2.Zip)',\n",
       " 't1&t2&EQ(t1.State,t2.State)&IQ(t1.ChildExemp,t2.ChildExemp)',\n",
       " 't1&t2&EQ(t1.State,t2.State)&EQ(t1.MaritalStatus,t2.MaritalStatus)&IQ(t1.SingleExemp,t2.SingleExemp)',\n",
       " 't1&t2&EQ(t1.State,t2.State)&EQ(t1.Salary,t2.Salary)&IQ(t1.Rate,t2.Rate)',\n",
       " 't1&t2&EQ(t1.State,t2.State)&GT(t1.Salary,t2.Salary)&LT(t1.Rate,t2.Rate)',\n",
       " 't1&t2&EQ(t1.State,t2.State)&LT(t1.Salary,t2.Salary)&GT(t1.Rate,t2.Rate)']"
      ]
     },
     "execution_count": 8,
     "metadata": {},
     "output_type": "execute_result"
    }
   ],
   "source": [
    "list(d)"
   ]
  },
  {
   "cell_type": "code",
   "execution_count": 9,
   "id": "c947338a",
   "metadata": {},
   "outputs": [
    {
     "data": {
      "text/plain": [
       "['t1&t2&EQ(t1.AreaCode,t2.AreaCode)&EQ(t1.Phone,t2.Phone)',\n",
       " 't1&t2&IQ(t1.City,t2.City)&EQ(t1.Zip,t2.Zip)',\n",
       " 't1&t2&EQ(t1.AreaCode,t2.AreaCode)&IQ(t1.State,t2.State)',\n",
       " 't1&t2&IQ(t1.State,t2.State)&EQ(t1.Zip,t2.Zip)',\n",
       " 't1&t2&EQ(t1.State,t2.State)&IQ(t1.ChildExemp,t2.ChildExemp)',\n",
       " 't1&t2&EQ(t1.State,t2.State)&EQ(t1.MaritalStatus,t2.MaritalStatus)&IQ(t1.SingleExemp,t2.SingleExemp)',\n",
       " 't1&t2&EQ(t1.State,t2.State)&EQ(t1.Salary,t2.Salary)&IQ(t1.Rate,t2.Rate)',\n",
       " 't1&t2&EQ(t1.State,t2.State)&GT(t1.Salary,t2.Salary)&LT(t1.Rate,t2.Rate)',\n",
       " 't1&t2&EQ(t1.State,t2.State)&LT(t1.Salary,t2.Salary)&GT(t1.Rate,t2.Rate)']"
      ]
     },
     "execution_count": 9,
     "metadata": {},
     "output_type": "execute_result"
    }
   ],
   "source": [
    "list(changed_d)"
   ]
  },
  {
   "cell_type": "code",
   "execution_count": 10,
   "id": "5875fb86",
   "metadata": {},
   "outputs": [
    {
     "data": {
      "text/plain": [
       "{'t1&t2&EQ(t1.AreaCode,t2.AreaCode)&EQ(t1.Phone,t2.Phone)': {'deleted': True,\n",
       "  'pre_fix_size': 5,\n",
       "  'after_fix_size': 13,\n",
       "  'fixed_treerule_text': ['t1&t2&IQ(t1.Phone,t2.Phone)&EQ(t1.AreaCode,t2.AreaCode)',\n",
       "   \"t1&t2&IQ(t2.fname,'Bernd')&IQ(t1.childexemp,t2.childexemp)&IQ(t2.fname,'Alfred')&IQ(t1.AreaCode,t2.AreaCode)\"]},\n",
       " 't1&t2&IQ(t1.City,t2.City)&EQ(t1.Zip,t2.Zip)': {'deleted': True,\n",
       "  'pre_fix_size': 5,\n",
       "  'after_fix_size': 13,\n",
       "  'fixed_treerule_text': ['t1&t2&EQ(t1.Zip,t2.Zip)&IQ(t1.City,t2.City)',\n",
       "   \"t1&t2&IQ(t2.fname,'Bernd')&IQ(t1.childexemp,t2.childexemp)&IQ(t2.fname,'Alfred')&IQ(t1.areacode,t2.areacode)&IQ(t1.Zip,t2.Zip)&IQ(t1.City,t2.City)\"]},\n",
       " 't1&t2&EQ(t1.AreaCode,t2.AreaCode)&IQ(t1.State,t2.State)': {'deleted': True,\n",
       "  'pre_fix_size': 5,\n",
       "  'after_fix_size': 13,\n",
       "  'fixed_treerule_text': ['t1&t2&EQ(t1.State,t2.State)&EQ(t1.AreaCode,t2.AreaCode)',\n",
       "   \"t1&t2&IQ(t2.fname,'Bernd')&IQ(t1.childexemp,t2.childexemp)&IQ(t2.fname,'Alfred')&IQ(t1.AreaCode,t2.AreaCode)\"]},\n",
       " 't1&t2&IQ(t1.State,t2.State)&EQ(t1.Zip,t2.Zip)': {'deleted': True,\n",
       "  'pre_fix_size': 5,\n",
       "  'after_fix_size': 13,\n",
       "  'fixed_treerule_text': ['t1&t2&EQ(t1.Zip,t2.Zip)&IQ(t1.State,t2.State)',\n",
       "   \"t1&t2&IQ(t2.fname,'Bernd')&IQ(t1.childexemp,t2.childexemp)&IQ(t2.fname,'Alfred')&IQ(t1.areacode,t2.areacode)&EQ(t1.State,t2.State)\"]},\n",
       " 't1&t2&EQ(t1.State,t2.State)&IQ(t1.ChildExemp,t2.ChildExemp)': {'deleted': True,\n",
       "  'pre_fix_size': 5,\n",
       "  'after_fix_size': 13,\n",
       "  'fixed_treerule_text': ['t1&t2&EQ(t1.ChildExemp,t2.ChildExemp)&EQ(t1.State,t2.State)',\n",
       "   \"t1&t2&IQ(t2.fname,'Bernd')&IQ(t2.fname,'Alfred')&IQ(t1.areacode,t2.areacode)&IQ(t1.ChildExemp,t2.ChildExemp)&EQ(t1.State,t2.State)\"]},\n",
       " 't1&t2&EQ(t1.State,t2.State)&EQ(t1.MaritalStatus,t2.MaritalStatus)&IQ(t1.SingleExemp,t2.SingleExemp)': {'deleted': True,\n",
       "  'pre_fix_size': 7,\n",
       "  'after_fix_size': 15,\n",
       "  'fixed_treerule_text': [\"t1&t2&EQ(t1.fname,'Uri')&IQ(t1.MaritalStatus,t2.MaritalStatus)&EQ(t1.State,t2.State)\",\n",
       "   't1&t2&IQ(t1.SingleExemp,t2.SingleExemp)&EQ(t1.MaritalStatus,t2.MaritalStatus)&EQ(t1.State,t2.State)',\n",
       "   \"t1&t2&EQ(t1.fname,'Yudell')&IQ(t1.fname,'Uri')&IQ(t1.MaritalStatus,t2.MaritalStatus)&EQ(t1.State,t2.State)\",\n",
       "   \"t1&t2&EQ(t1.fname,'Natalija')&EQ(t1.SingleExemp,t2.SingleExemp)&EQ(t1.MaritalStatus,t2.MaritalStatus)&EQ(t1.State,t2.State)\",\n",
       "   \"t1&t2&EQ(t1.fname,'Lena')&IQ(t1.fname,'Natalija')&EQ(t1.SingleExemp,t2.SingleExemp)&EQ(t1.MaritalStatus,t2.MaritalStatus)&EQ(t1.State,t2.State)\"]},\n",
       " 't1&t2&EQ(t1.State,t2.State)&EQ(t1.Salary,t2.Salary)&IQ(t1.Rate,t2.Rate)': {'deleted': True,\n",
       "  'pre_fix_size': 7,\n",
       "  'after_fix_size': 15,\n",
       "  'fixed_treerule_text': ['t1&t2&IQ(t1.Rate,t2.Rate)&EQ(t1.Salary,t2.Salary)&EQ(t1.State,t2.State)',\n",
       "   \"t1&t2&IQ(t2.fname,'Bernd')&IQ(t1.childexemp,t2.childexemp)&IQ(t2.fname,'Alfred')&IQ(t1.areacode,t2.areacode)&IQ(t1.Salary,t2.Salary)&EQ(t1.State,t2.State)\"]},\n",
       " 't1&t2&EQ(t1.State,t2.State)&GT(t1.Salary,t2.Salary)&LT(t1.Rate,t2.Rate)': {'deleted': True,\n",
       "  'pre_fix_size': 7,\n",
       "  'after_fix_size': 17,\n",
       "  'fixed_treerule_text': [\"t1&t2&IQ(t2.fname,'Bernd')&IQ(t1.areacode,t2.areacode)&GT(t1.Salary,t2.Salary)&EQ(t1.State,t2.State)\",\n",
       "   \"t1&t2&EQ(t1.gender,t2.gender)&IQ(t2.fname,'Alfred')&LT(t1.Rate,t2.Rate)&GT(t1.Salary,t2.Salary)&EQ(t1.State,t2.State)\"]},\n",
       " 't1&t2&EQ(t1.State,t2.State)&LT(t1.Salary,t2.Salary)&GT(t1.Rate,t2.Rate)': {'deleted': True,\n",
       "  'pre_fix_size': 7,\n",
       "  'after_fix_size': 15,\n",
       "  'fixed_treerule_text': [\"t1&t2&EQ(t1.fname,'Natalija')&LT(t1.Salary,t2.Salary)&EQ(t1.State,t2.State)\",\n",
       "   't1&t2&GT(t1.Rate,t2.Rate)&LT(t1.Salary,t2.Salary)&EQ(t1.State,t2.State)',\n",
       "   \"t1&t2&EQ(t1.fname,'Lena')&IQ(t1.fname,'Natalija')&LT(t1.Salary,t2.Salary)&EQ(t1.State,t2.State)\"]}}"
      ]
     },
     "execution_count": 10,
     "metadata": {},
     "output_type": "execute_result"
    }
   ],
   "source": [
    "changed_d"
   ]
  },
  {
   "cell_type": "code",
   "execution_count": 11,
   "id": "921810de",
   "metadata": {
    "scrolled": false
   },
   "outputs": [
    {
     "data": {
      "text/plain": [
       "{}"
      ]
     },
     "execution_count": 11,
     "metadata": {},
     "output_type": "execute_result"
    }
   ],
   "source": [
    "{k:v for (k,v) in changed_d.items() if not v['deleted']}"
   ]
  },
  {
   "cell_type": "code",
   "execution_count": 12,
   "id": "e2602900",
   "metadata": {
    "scrolled": true
   },
   "outputs": [
    {
     "data": {
      "text/plain": [
       "{'t1&t2&EQ(t1.AreaCode,t2.AreaCode)&EQ(t1.Phone,t2.Phone)': {'deleted': True,\n",
       "  'pre_fix_size': 5,\n",
       "  'after_fix_size': 13,\n",
       "  'fixed_treerule_text': ['t1&t2&IQ(t1.Phone,t2.Phone)&EQ(t1.AreaCode,t2.AreaCode)',\n",
       "   \"t1&t2&IQ(t2.fname,'Bernd')&IQ(t1.childexemp,t2.childexemp)&IQ(t2.fname,'Alfred')&IQ(t1.AreaCode,t2.AreaCode)\"]},\n",
       " 't1&t2&IQ(t1.City,t2.City)&EQ(t1.Zip,t2.Zip)': {'deleted': True,\n",
       "  'pre_fix_size': 5,\n",
       "  'after_fix_size': 13,\n",
       "  'fixed_treerule_text': ['t1&t2&EQ(t1.Zip,t2.Zip)&IQ(t1.City,t2.City)',\n",
       "   \"t1&t2&IQ(t2.fname,'Bernd')&IQ(t1.childexemp,t2.childexemp)&IQ(t2.fname,'Alfred')&IQ(t1.areacode,t2.areacode)&IQ(t1.Zip,t2.Zip)&IQ(t1.City,t2.City)\"]},\n",
       " 't1&t2&EQ(t1.AreaCode,t2.AreaCode)&IQ(t1.State,t2.State)': {'deleted': True,\n",
       "  'pre_fix_size': 5,\n",
       "  'after_fix_size': 13,\n",
       "  'fixed_treerule_text': ['t1&t2&EQ(t1.State,t2.State)&EQ(t1.AreaCode,t2.AreaCode)',\n",
       "   \"t1&t2&IQ(t2.fname,'Bernd')&IQ(t1.childexemp,t2.childexemp)&IQ(t2.fname,'Alfred')&IQ(t1.AreaCode,t2.AreaCode)\"]},\n",
       " 't1&t2&IQ(t1.State,t2.State)&EQ(t1.Zip,t2.Zip)': {'deleted': True,\n",
       "  'pre_fix_size': 5,\n",
       "  'after_fix_size': 13,\n",
       "  'fixed_treerule_text': ['t1&t2&EQ(t1.Zip,t2.Zip)&IQ(t1.State,t2.State)',\n",
       "   \"t1&t2&IQ(t2.fname,'Bernd')&IQ(t1.childexemp,t2.childexemp)&IQ(t2.fname,'Alfred')&IQ(t1.areacode,t2.areacode)&EQ(t1.State,t2.State)\"]},\n",
       " 't1&t2&EQ(t1.State,t2.State)&IQ(t1.ChildExemp,t2.ChildExemp)': {'deleted': True,\n",
       "  'pre_fix_size': 5,\n",
       "  'after_fix_size': 13,\n",
       "  'fixed_treerule_text': ['t1&t2&EQ(t1.ChildExemp,t2.ChildExemp)&EQ(t1.State,t2.State)',\n",
       "   \"t1&t2&IQ(t2.fname,'Bernd')&IQ(t2.fname,'Alfred')&IQ(t1.areacode,t2.areacode)&IQ(t1.ChildExemp,t2.ChildExemp)&EQ(t1.State,t2.State)\"]},\n",
       " 't1&t2&EQ(t1.State,t2.State)&EQ(t1.MaritalStatus,t2.MaritalStatus)&IQ(t1.SingleExemp,t2.SingleExemp)': {'deleted': True,\n",
       "  'pre_fix_size': 7,\n",
       "  'after_fix_size': 15,\n",
       "  'fixed_treerule_text': [\"t1&t2&EQ(t1.fname,'Uri')&IQ(t1.MaritalStatus,t2.MaritalStatus)&EQ(t1.State,t2.State)\",\n",
       "   't1&t2&IQ(t1.SingleExemp,t2.SingleExemp)&EQ(t1.MaritalStatus,t2.MaritalStatus)&EQ(t1.State,t2.State)',\n",
       "   \"t1&t2&EQ(t1.fname,'Yudell')&IQ(t1.fname,'Uri')&IQ(t1.MaritalStatus,t2.MaritalStatus)&EQ(t1.State,t2.State)\",\n",
       "   \"t1&t2&EQ(t1.fname,'Natalija')&EQ(t1.SingleExemp,t2.SingleExemp)&EQ(t1.MaritalStatus,t2.MaritalStatus)&EQ(t1.State,t2.State)\",\n",
       "   \"t1&t2&EQ(t1.fname,'Lena')&IQ(t1.fname,'Natalija')&EQ(t1.SingleExemp,t2.SingleExemp)&EQ(t1.MaritalStatus,t2.MaritalStatus)&EQ(t1.State,t2.State)\"]},\n",
       " 't1&t2&EQ(t1.State,t2.State)&EQ(t1.Salary,t2.Salary)&IQ(t1.Rate,t2.Rate)': {'deleted': True,\n",
       "  'pre_fix_size': 7,\n",
       "  'after_fix_size': 15,\n",
       "  'fixed_treerule_text': ['t1&t2&IQ(t1.Rate,t2.Rate)&EQ(t1.Salary,t2.Salary)&EQ(t1.State,t2.State)',\n",
       "   \"t1&t2&IQ(t2.fname,'Bernd')&IQ(t1.childexemp,t2.childexemp)&IQ(t2.fname,'Alfred')&IQ(t1.areacode,t2.areacode)&IQ(t1.Salary,t2.Salary)&EQ(t1.State,t2.State)\"]},\n",
       " 't1&t2&EQ(t1.State,t2.State)&GT(t1.Salary,t2.Salary)&LT(t1.Rate,t2.Rate)': {'deleted': True,\n",
       "  'pre_fix_size': 7,\n",
       "  'after_fix_size': 17,\n",
       "  'fixed_treerule_text': [\"t1&t2&IQ(t2.fname,'Bernd')&IQ(t1.areacode,t2.areacode)&GT(t1.Salary,t2.Salary)&EQ(t1.State,t2.State)\",\n",
       "   \"t1&t2&EQ(t1.gender,t2.gender)&IQ(t2.fname,'Alfred')&LT(t1.Rate,t2.Rate)&GT(t1.Salary,t2.Salary)&EQ(t1.State,t2.State)\"]},\n",
       " 't1&t2&EQ(t1.State,t2.State)&LT(t1.Salary,t2.Salary)&GT(t1.Rate,t2.Rate)': {'deleted': True,\n",
       "  'pre_fix_size': 7,\n",
       "  'after_fix_size': 15,\n",
       "  'fixed_treerule_text': [\"t1&t2&EQ(t1.fname,'Natalija')&LT(t1.Salary,t2.Salary)&EQ(t1.State,t2.State)\",\n",
       "   't1&t2&GT(t1.Rate,t2.Rate)&LT(t1.Salary,t2.Salary)&EQ(t1.State,t2.State)',\n",
       "   \"t1&t2&EQ(t1.fname,'Lena')&IQ(t1.fname,'Natalija')&LT(t1.Salary,t2.Salary)&EQ(t1.State,t2.State)\"]}}"
      ]
     },
     "execution_count": 12,
     "metadata": {},
     "output_type": "execute_result"
    }
   ],
   "source": [
    "{k:v for (k,v) in changed_d.items() if  v['deleted']}"
   ]
  }
 ],
 "metadata": {
  "kernelspec": {
   "display_name": "Python 3 (ipykernel)",
   "language": "python",
   "name": "python3"
  },
  "language_info": {
   "codemirror_mode": {
    "name": "ipython",
    "version": 3
   },
   "file_extension": ".py",
   "mimetype": "text/x-python",
   "name": "python",
   "nbconvert_exporter": "python",
   "pygments_lexer": "ipython3",
   "version": "3.8.0"
  }
 },
 "nbformat": 4,
 "nbformat_minor": 5
}
