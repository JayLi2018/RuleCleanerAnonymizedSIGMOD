{
 "cells": [
  {
   "cell_type": "code",
   "execution_count": 2,
   "id": "5c0f98fa-b638-4a05-bbc1-dc7f9d349daa",
   "metadata": {},
   "outputs": [],
   "source": [
    "import pandas as pd "
   ]
  },
  {
   "cell_type": "code",
   "execution_count": 12,
   "id": "ca5278bf-52e9-4fc0-9287-dc9c50a179f6",
   "metadata": {},
   "outputs": [
    {
     "name": "stdout",
     "output_type": "stream",
     "text": [
      "                                                  Column1 Column2\n",
      "0       E. D. Abbott Ltd.  Abbott of Farnham E D Abbot...       0\n",
      "1       Schwan-Stabilo.  Schwan-STABILO is a German ma...       0\n",
      "2       Q-workshop.  Q-workshop is a Polish company lo...       0\n",
      "3       Marvell Software Solutions Israel.  Marvell So...       0\n",
      "4       Bergan Mercy Medical Center.  Bergan Mercy Med...       0\n",
      "...                                                   ...     ...\n",
      "559995  Barking in Essex.  Barking in Essex is a Black...      13\n",
      "559996  Science & Spirit.  Science & Spirit is a disco...      13\n",
      "559997  The Blithedale Romance.  The Blithedale Romanc...      13\n",
      "559998  Razadarit Ayedawbon.  Razadarit Ayedawbon (Bur...      13\n",
      "559999  The Vinyl Cafe Notebooks.  Vinyl Cafe Notebook...      13\n",
      "\n",
      "[560000 rows x 2 columns]\n"
     ]
    }
   ],
   "source": [
    "\n",
    "# Read the first column from the first .txt file\n",
    "with open('../../witan/data/DBpedia/DBpedia/dataset.txt', 'r') as dataset_f:\n",
    "    column1 = dataset_f.read().splitlines()\n",
    "\n",
    "# Read the second column from the second .txt file\n",
    "with open('../../witan/data/DBpedia/DBpedia/labels.txt', 'r') as file:\n",
    "    column2 = file.read().splitlines()\n",
    "\n",
    "with open('../../witan/data/DBpedia/DBpedia/classes.txt', 'r') as file:\n",
    "    classes = file.read().splitlines()\n",
    "\n",
    "\n",
    "\n",
    "# Create a DataFrame from the two columns\n",
    "df = pd.DataFrame({\n",
    "    'Column1': column1,\n",
    "    'Column2': column2\n",
    "})\n",
    "\n",
    "print(df)"
   ]
  },
  {
   "cell_type": "code",
   "execution_count": 13,
   "id": "c3265880-b7df-4552-b10b-8dfa1ce2e23b",
   "metadata": {},
   "outputs": [
    {
     "data": {
      "text/plain": [
       "['Company',\n",
       " 'School',\n",
       " 'Artist',\n",
       " 'Athlete',\n",
       " 'Politics',\n",
       " 'Transportation',\n",
       " 'Building',\n",
       " 'River',\n",
       " 'Village',\n",
       " 'Animal',\n",
       " 'Plant',\n",
       " 'Album',\n",
       " 'Film',\n",
       " 'Book']"
      ]
     },
     "execution_count": 13,
     "metadata": {},
     "output_type": "execute_result"
    }
   ],
   "source": [
    "classes"
   ]
  },
  {
   "cell_type": "code",
   "execution_count": 18,
   "id": "05eb7996-a3df-458d-975b-fe38006801d8",
   "metadata": {},
   "outputs": [],
   "source": [
    "classes_map = {str(k):v for k,v in enumerate(classes)}"
   ]
  },
  {
   "cell_type": "code",
   "execution_count": 19,
   "id": "fac41890-3774-416e-b5af-164accdead37",
   "metadata": {},
   "outputs": [
    {
     "data": {
      "text/plain": [
       "{'0': 'Company',\n",
       " '1': 'School',\n",
       " '2': 'Artist',\n",
       " '3': 'Athlete',\n",
       " '4': 'Politics',\n",
       " '5': 'Transportation',\n",
       " '6': 'Building',\n",
       " '7': 'River',\n",
       " '8': 'Village',\n",
       " '9': 'Animal',\n",
       " '10': 'Plant',\n",
       " '11': 'Album',\n",
       " '12': 'Film',\n",
       " '13': 'Book'}"
      ]
     },
     "execution_count": 19,
     "metadata": {},
     "output_type": "execute_result"
    }
   ],
   "source": [
    "classes_map"
   ]
  },
  {
   "cell_type": "code",
   "execution_count": 20,
   "id": "0e83c88c-ac52-476a-9dd9-673d550811b8",
   "metadata": {},
   "outputs": [],
   "source": [
    "df['class'] = df['Column2'].replace(classes_map)\n"
   ]
  },
  {
   "cell_type": "code",
   "execution_count": 21,
   "id": "99e403c8-3d9a-4f91-a581-78e0f5d751e5",
   "metadata": {},
   "outputs": [
    {
     "data": {
      "text/html": [
       "<div>\n",
       "<style scoped>\n",
       "    .dataframe tbody tr th:only-of-type {\n",
       "        vertical-align: middle;\n",
       "    }\n",
       "\n",
       "    .dataframe tbody tr th {\n",
       "        vertical-align: top;\n",
       "    }\n",
       "\n",
       "    .dataframe thead th {\n",
       "        text-align: right;\n",
       "    }\n",
       "</style>\n",
       "<table border=\"1\" class=\"dataframe\">\n",
       "  <thead>\n",
       "    <tr style=\"text-align: right;\">\n",
       "      <th></th>\n",
       "      <th>Column1</th>\n",
       "      <th>Column2</th>\n",
       "      <th>class</th>\n",
       "    </tr>\n",
       "  </thead>\n",
       "  <tbody>\n",
       "    <tr>\n",
       "      <th>0</th>\n",
       "      <td>E. D. Abbott Ltd.  Abbott of Farnham E D Abbot...</td>\n",
       "      <td>0</td>\n",
       "      <td>Company</td>\n",
       "    </tr>\n",
       "    <tr>\n",
       "      <th>1</th>\n",
       "      <td>Schwan-Stabilo.  Schwan-STABILO is a German ma...</td>\n",
       "      <td>0</td>\n",
       "      <td>Company</td>\n",
       "    </tr>\n",
       "    <tr>\n",
       "      <th>2</th>\n",
       "      <td>Q-workshop.  Q-workshop is a Polish company lo...</td>\n",
       "      <td>0</td>\n",
       "      <td>Company</td>\n",
       "    </tr>\n",
       "    <tr>\n",
       "      <th>3</th>\n",
       "      <td>Marvell Software Solutions Israel.  Marvell So...</td>\n",
       "      <td>0</td>\n",
       "      <td>Company</td>\n",
       "    </tr>\n",
       "    <tr>\n",
       "      <th>4</th>\n",
       "      <td>Bergan Mercy Medical Center.  Bergan Mercy Med...</td>\n",
       "      <td>0</td>\n",
       "      <td>Company</td>\n",
       "    </tr>\n",
       "  </tbody>\n",
       "</table>\n",
       "</div>"
      ],
      "text/plain": [
       "                                             Column1 Column2    class\n",
       "0  E. D. Abbott Ltd.  Abbott of Farnham E D Abbot...       0  Company\n",
       "1  Schwan-Stabilo.  Schwan-STABILO is a German ma...       0  Company\n",
       "2  Q-workshop.  Q-workshop is a Polish company lo...       0  Company\n",
       "3  Marvell Software Solutions Israel.  Marvell So...       0  Company\n",
       "4  Bergan Mercy Medical Center.  Bergan Mercy Med...       0  Company"
      ]
     },
     "execution_count": 21,
     "metadata": {},
     "output_type": "execute_result"
    }
   ],
   "source": [
    "df.head()"
   ]
  },
  {
   "cell_type": "code",
   "execution_count": 25,
   "id": "460882a3-c5b5-4298-8728-b6803df75499",
   "metadata": {},
   "outputs": [],
   "source": [
    "filtered_df = df[(df['class']=='Company')|(df['class']=='Politics')]\n"
   ]
  },
  {
   "cell_type": "code",
   "execution_count": 29,
   "id": "d4f477d6-ede9-4837-8cd0-2d0ea67d16ed",
   "metadata": {},
   "outputs": [],
   "source": [
    "filtered_df[['Column1','class']].to_csv('../../witan/data/dbpedia_binary.csv', index=False)"
   ]
  },
  {
   "cell_type": "code",
   "execution_count": null,
   "id": "57bd3aa3-3a27-4c1f-a8a0-6f5850c0f5a4",
   "metadata": {},
   "outputs": [],
   "source": []
  }
 ],
 "metadata": {
  "kernelspec": {
   "display_name": "Python 3 (ipykernel)",
   "language": "python",
   "name": "python3"
  },
  "language_info": {
   "codemirror_mode": {
    "name": "ipython",
    "version": 3
   },
   "file_extension": ".py",
   "mimetype": "text/x-python",
   "name": "python",
   "nbconvert_exporter": "python",
   "pygments_lexer": "ipython3",
   "version": "3.8.0"
  }
 },
 "nbformat": 4,
 "nbformat_minor": 5
}
