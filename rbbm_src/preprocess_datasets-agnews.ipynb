{
 "cells": [
  {
   "cell_type": "code",
   "execution_count": 1,
   "id": "5c0f98fa-b638-4a05-bbc1-dc7f9d349daa",
   "metadata": {},
   "outputs": [],
   "source": [
    "import pandas as pd "
   ]
  },
  {
   "cell_type": "code",
   "execution_count": 2,
   "id": "ca5278bf-52e9-4fc0-9287-dc9c50a179f6",
   "metadata": {},
   "outputs": [
    {
     "name": "stdout",
     "output_type": "stream",
     "text": [
      "                                                  Column1 Column2\n",
      "0       Wall St. Bears Claw Back Into the Black (Reute...       2\n",
      "1       Carlyle Looks Toward Commercial Aerospace (Reu...       2\n",
      "2       Oil and Economy Cloud Stocks' Outlook (Reuters...       2\n",
      "3       Iraq Halts Oil Exports from Main Southern Pipe...       2\n",
      "4       Oil prices soar to all-time record, posing new...       2\n",
      "...                                                   ...     ...\n",
      "119995  Pakistan's Musharraf Says Won't Quit as Army C...       0\n",
      "119996  Renteria signing a top-shelf deal. Red Sox gen...       1\n",
      "119997  Saban not going to Dolphins yet. The Miami Dol...       1\n",
      "119998  Today's NFL games. PITTSBURGH at NY GIANTS Tim...       1\n",
      "119999  Nets get Carter from Raptors. INDIANAPOLIS -- ...       1\n",
      "\n",
      "[120000 rows x 2 columns]\n"
     ]
    }
   ],
   "source": [
    "\n",
    "# Read the first column from the first .txt file\n",
    "with open('../../witan/data/AGNews/AGNews/dataset.txt', 'r') as dataset_f:\n",
    "    column1 = dataset_f.read().splitlines()\n",
    "\n",
    "# Read the second column from the second .txt file\n",
    "with open('../../witan/data/AGNews/AGNews/labels.txt', 'r') as file:\n",
    "    column2 = file.read().splitlines()\n",
    "\n",
    "with open('../../witan/data/AGNews/AGNews/classes.txt', 'r') as file:\n",
    "    classes = file.read().splitlines()\n",
    "\n",
    "\n",
    "\n",
    "# Create a DataFrame from the two columns\n",
    "df = pd.DataFrame({\n",
    "    'Column1': column1,\n",
    "    'Column2': column2\n",
    "})\n",
    "\n",
    "print(df)"
   ]
  },
  {
   "cell_type": "code",
   "execution_count": 3,
   "id": "c3265880-b7df-4552-b10b-8dfa1ce2e23b",
   "metadata": {},
   "outputs": [
    {
     "data": {
      "text/plain": [
       "['Politics', 'Sports', 'Business', 'Technology']"
      ]
     },
     "execution_count": 3,
     "metadata": {},
     "output_type": "execute_result"
    }
   ],
   "source": [
    "classes"
   ]
  },
  {
   "cell_type": "code",
   "execution_count": 4,
   "id": "05eb7996-a3df-458d-975b-fe38006801d8",
   "metadata": {},
   "outputs": [],
   "source": [
    "classes_map = {str(k):v for k,v in enumerate(classes)}"
   ]
  },
  {
   "cell_type": "code",
   "execution_count": 5,
   "id": "fac41890-3774-416e-b5af-164accdead37",
   "metadata": {},
   "outputs": [
    {
     "data": {
      "text/plain": [
       "{'0': 'Politics', '1': 'Sports', '2': 'Business', '3': 'Technology'}"
      ]
     },
     "execution_count": 5,
     "metadata": {},
     "output_type": "execute_result"
    }
   ],
   "source": [
    "classes_map"
   ]
  },
  {
   "cell_type": "code",
   "execution_count": 6,
   "id": "0e83c88c-ac52-476a-9dd9-673d550811b8",
   "metadata": {},
   "outputs": [],
   "source": [
    "df['class'] = df['Column2'].replace(classes_map)\n"
   ]
  },
  {
   "cell_type": "code",
   "execution_count": 7,
   "id": "99e403c8-3d9a-4f91-a581-78e0f5d751e5",
   "metadata": {},
   "outputs": [
    {
     "data": {
      "text/html": [
       "<div>\n",
       "<style scoped>\n",
       "    .dataframe tbody tr th:only-of-type {\n",
       "        vertical-align: middle;\n",
       "    }\n",
       "\n",
       "    .dataframe tbody tr th {\n",
       "        vertical-align: top;\n",
       "    }\n",
       "\n",
       "    .dataframe thead th {\n",
       "        text-align: right;\n",
       "    }\n",
       "</style>\n",
       "<table border=\"1\" class=\"dataframe\">\n",
       "  <thead>\n",
       "    <tr style=\"text-align: right;\">\n",
       "      <th></th>\n",
       "      <th>Column1</th>\n",
       "      <th>Column2</th>\n",
       "      <th>class</th>\n",
       "    </tr>\n",
       "  </thead>\n",
       "  <tbody>\n",
       "    <tr>\n",
       "      <th>0</th>\n",
       "      <td>Wall St. Bears Claw Back Into the Black (Reute...</td>\n",
       "      <td>2</td>\n",
       "      <td>Business</td>\n",
       "    </tr>\n",
       "    <tr>\n",
       "      <th>1</th>\n",
       "      <td>Carlyle Looks Toward Commercial Aerospace (Reu...</td>\n",
       "      <td>2</td>\n",
       "      <td>Business</td>\n",
       "    </tr>\n",
       "    <tr>\n",
       "      <th>2</th>\n",
       "      <td>Oil and Economy Cloud Stocks' Outlook (Reuters...</td>\n",
       "      <td>2</td>\n",
       "      <td>Business</td>\n",
       "    </tr>\n",
       "    <tr>\n",
       "      <th>3</th>\n",
       "      <td>Iraq Halts Oil Exports from Main Southern Pipe...</td>\n",
       "      <td>2</td>\n",
       "      <td>Business</td>\n",
       "    </tr>\n",
       "    <tr>\n",
       "      <th>4</th>\n",
       "      <td>Oil prices soar to all-time record, posing new...</td>\n",
       "      <td>2</td>\n",
       "      <td>Business</td>\n",
       "    </tr>\n",
       "  </tbody>\n",
       "</table>\n",
       "</div>"
      ],
      "text/plain": [
       "                                             Column1 Column2     class\n",
       "0  Wall St. Bears Claw Back Into the Black (Reute...       2  Business\n",
       "1  Carlyle Looks Toward Commercial Aerospace (Reu...       2  Business\n",
       "2  Oil and Economy Cloud Stocks' Outlook (Reuters...       2  Business\n",
       "3  Iraq Halts Oil Exports from Main Southern Pipe...       2  Business\n",
       "4  Oil prices soar to all-time record, posing new...       2  Business"
      ]
     },
     "execution_count": 7,
     "metadata": {},
     "output_type": "execute_result"
    }
   ],
   "source": [
    "df.head()"
   ]
  },
  {
   "cell_type": "code",
   "execution_count": 8,
   "id": "460882a3-c5b5-4298-8728-b6803df75499",
   "metadata": {},
   "outputs": [],
   "source": [
    "filtered_df = df[(df['class']=='Business')|(df['class']=='Technology')]\n"
   ]
  },
  {
   "cell_type": "code",
   "execution_count": 9,
   "id": "d4f477d6-ede9-4837-8cd0-2d0ea67d16ed",
   "metadata": {},
   "outputs": [],
   "source": [
    "filtered_df[['Column1','class']].to_csv('../../witan/data/agnews.csv', index=False)"
   ]
  },
  {
   "cell_type": "code",
   "execution_count": 11,
   "id": "57bd3aa3-3a27-4c1f-a8a0-6f5850c0f5a4",
   "metadata": {},
   "outputs": [
    {
     "data": {
      "text/plain": [
       "class\n",
       "Business      30000\n",
       "Technology    30000\n",
       "dtype: int64"
      ]
     },
     "execution_count": 11,
     "metadata": {},
     "output_type": "execute_result"
    }
   ],
   "source": [
    "filtered_df.groupby('class').size()"
   ]
  }
 ],
 "metadata": {
  "kernelspec": {
   "display_name": "Python 3 (ipykernel)",
   "language": "python",
   "name": "python3"
  },
  "language_info": {
   "codemirror_mode": {
    "name": "ipython",
    "version": 3
   },
   "file_extension": ".py",
   "mimetype": "text/x-python",
   "name": "python",
   "nbconvert_exporter": "python",
   "pygments_lexer": "ipython3",
   "version": "3.8.0"
  }
 },
 "nbformat": 4,
 "nbformat_minor": 5
}
