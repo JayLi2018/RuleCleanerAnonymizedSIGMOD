{
 "cells": [
  {
   "cell_type": "code",
   "execution_count": 1,
   "id": "9d0bac88",
   "metadata": {},
   "outputs": [],
   "source": [
    "from pulp import *"
   ]
  },
  {
   "cell_type": "code",
   "execution_count": 2,
   "id": "6885868b",
   "metadata": {},
   "outputs": [],
   "source": [
    "# Create the 'prob' variable to contain the problem data\n",
    "prob = LpProblem(\"CapBudgeting\", LpMaximize)"
   ]
  },
  {
   "cell_type": "code",
   "execution_count": 3,
   "id": "c31782a9",
   "metadata": {},
   "outputs": [],
   "source": [
    "contributions = {\n",
    "    'a':3,\n",
    "    'b':3,\n",
    "    'c':5,\n",
    "    'd':1\n",
    "}\n",
    "\n",
    "manpowers = {\n",
    "    'a':10,\n",
    "    'b':20,\n",
    "    'c':70,\n",
    "    'd':5\n",
    "}"
   ]
  },
  {
   "cell_type": "code",
   "execution_count": 4,
   "id": "af453a63",
   "metadata": {},
   "outputs": [],
   "source": [
    "# A dictionary called 'numberofinvests' is created to contain the referenced Variables\n",
    "numberofinvests = LpVariable.dicts(\"NumInvests\", contributions, 0)"
   ]
  },
  {
   "cell_type": "code",
   "execution_count": 5,
   "id": "477d3972",
   "metadata": {},
   "outputs": [
    {
     "data": {
      "text/plain": [
       "{'a': NumInvests_a, 'b': NumInvests_b, 'c': NumInvests_c, 'd': NumInvests_d}"
      ]
     },
     "execution_count": 5,
     "metadata": {},
     "output_type": "execute_result"
    }
   ],
   "source": [
    "numberofinvests"
   ]
  },
  {
   "cell_type": "code",
   "execution_count": 6,
   "id": "7e7501ff",
   "metadata": {},
   "outputs": [],
   "source": [
    "prob += (\n",
    "    lpSum([contributions[i] * numberofinvests[i] for i in numberofinvests]),\n",
    "    \"Total Cost of Investments\",\n",
    ")"
   ]
  },
  {
   "cell_type": "code",
   "execution_count": 7,
   "id": "df670969",
   "metadata": {},
   "outputs": [
    {
     "data": {
      "text/plain": [
       "CapBudgeting:\n",
       "MAXIMIZE\n",
       "3*NumInvests_a + 3*NumInvests_b + 5*NumInvests_c + 1*NumInvests_d + 0\n",
       "VARIABLES\n",
       "NumInvests_a Continuous\n",
       "NumInvests_b Continuous\n",
       "NumInvests_c Continuous\n",
       "NumInvests_d Continuous"
      ]
     },
     "execution_count": 7,
     "metadata": {},
     "output_type": "execute_result"
    }
   ],
   "source": [
    "prob"
   ]
  },
  {
   "cell_type": "code",
   "execution_count": 8,
   "id": "132b888c",
   "metadata": {},
   "outputs": [],
   "source": [
    "prob += (\n",
    "    lpSum([manpowers[i] * numberofinvests[i] for i in numberofinvests]) <= 100,\n",
    "    \"FatRequirement\"\n",
    ")"
   ]
  },
  {
   "cell_type": "code",
   "execution_count": 9,
   "id": "0a7dfec9",
   "metadata": {},
   "outputs": [
    {
     "name": "stdout",
     "output_type": "stream",
     "text": [
      "Welcome to the CBC MILP Solver \n",
      "Version: 2.10.3 \n",
      "Build Date: Dec 15 2019 \n",
      "\n",
      "command line - /home/opc/.pyenv/versions/3.8.0/envs/label/lib/python3.8/site-packages/pulp/solverdir/cbc/linux/64/cbc /tmp/4c1d8ef4feba45dc94f974811558c925-pulp.mps -max -timeMode elapsed -branch -printingOptions all -solution /tmp/4c1d8ef4feba45dc94f974811558c925-pulp.sol (default strategy 1)\n",
      "At line 2 NAME          MODEL\n",
      "At line 3 ROWS\n",
      "At line 6 COLUMNS\n",
      "At line 15 RHS\n",
      "At line 17 BOUNDS\n",
      "At line 18 ENDATA\n",
      "Problem MODEL has 1 rows, 4 columns and 4 elements\n",
      "Coin0008I MODEL read with 0 errors\n",
      "Option for timeMode changed from cpu to elapsed\n",
      "Presolve 0 (-1) rows, 0 (-4) columns and 0 (-4) elements\n",
      "Empty problem - 0 rows, 0 columns and 0 elements\n",
      "Optimal - objective value 30\n",
      "After Postsolve, objective 30, infeasibilities - dual 0 (0), primal 0 (0)\n",
      "Optimal objective 30 - 0 iterations time 0.002, Presolve 0.00\n",
      "Option for printingOptions changed from normal to all\n",
      "Total time (CPU seconds):       0.00   (Wallclock seconds):       0.00\n",
      "\n"
     ]
    },
    {
     "data": {
      "text/plain": [
       "1"
      ]
     },
     "execution_count": 9,
     "metadata": {},
     "output_type": "execute_result"
    }
   ],
   "source": [
    "prob.solve()"
   ]
  },
  {
   "cell_type": "code",
   "execution_count": 10,
   "id": "10a3fc59",
   "metadata": {},
   "outputs": [
    {
     "name": "stdout",
     "output_type": "stream",
     "text": [
      "Status: Optimal\n"
     ]
    }
   ],
   "source": [
    "print(\"Status:\", LpStatus[prob.status])"
   ]
  },
  {
   "cell_type": "code",
   "execution_count": 11,
   "id": "78d12b4c",
   "metadata": {},
   "outputs": [
    {
     "name": "stdout",
     "output_type": "stream",
     "text": [
      "NumInvests_a = 10.0\n",
      "NumInvests_b = 0.0\n",
      "NumInvests_c = 0.0\n",
      "NumInvests_d = 0.0\n"
     ]
    }
   ],
   "source": [
    "for v in prob.variables():\n",
    "    print(v.name, \"=\", v.varValue)"
   ]
  }
 ],
 "metadata": {
  "kernelspec": {
   "display_name": "Python 3 (ipykernel)",
   "language": "python",
   "name": "python3"
  },
  "language_info": {
   "codemirror_mode": {
    "name": "ipython",
    "version": 3
   },
   "file_extension": ".py",
   "mimetype": "text/x-python",
   "name": "python",
   "nbconvert_exporter": "python",
   "pygments_lexer": "ipython3",
   "version": "3.8.0"
  }
 },
 "nbformat": 4,
 "nbformat_minor": 5
}
