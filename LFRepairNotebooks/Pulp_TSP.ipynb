{
 "cells": [
  {
   "cell_type": "code",
   "execution_count": 60,
   "id": "36d15055",
   "metadata": {},
   "outputs": [],
   "source": [
    "from pulp import *"
   ]
  },
  {
   "cell_type": "code",
   "execution_count": 61,
   "id": "d6dedf82",
   "metadata": {},
   "outputs": [],
   "source": [
    "prob = LpProblem(\"TSP\", LpMinimize)"
   ]
  },
  {
   "cell_type": "code",
   "execution_count": 62,
   "id": "dc4a5a78",
   "metadata": {},
   "outputs": [],
   "source": [
    "departures = ['C', 'N', 'W', 'A']\n",
    "arrivals = ['C', 'N', 'W', 'A']\n",
    "\n",
    "travel_costs = {\n",
    "    'C': {'N':10,'W':25,'A':8},\n",
    "    'N': {'C':7, 'W': 20},\n",
    "    'W': {'N': 19, 'C':26, 'A':8},\n",
    "    'A': {'W':5, 'C':6}\n",
    "}\n",
    "\n"
   ]
  },
  {
   "cell_type": "code",
   "execution_count": 63,
   "id": "84f22124",
   "metadata": {},
   "outputs": [],
   "source": [
    "# departures = ['C', 'A']\n",
    "# arrivals = ['C', 'A']\n",
    "\n",
    "# travel_costs = {\n",
    "#     'C': {'A':8},\n",
    "#     'A': {'C':6}\n",
    "# }\n",
    "\n"
   ]
  },
  {
   "cell_type": "code",
   "execution_count": 64,
   "id": "0b0bb9ff",
   "metadata": {},
   "outputs": [],
   "source": [
    "# vists = LpVariable.dicts(name='trip_starts', indices=travel_costs, lowBound=0, upBound=1, cat=LpInteger)\n",
    "\n",
    "# x = pulp.LpVariable.dicts(\n",
    "#     \"table\", possible_tables, lowBound=0, upBound=1, cat=pulp.LpInteger\n",
    "# )\n",
    "\n",
    "# classmethoddicts(name, indices=None, lowBound=None, upBound=None, cat='Continuous', indexStart=[])"
   ]
  },
  {
   "cell_type": "code",
   "execution_count": 65,
   "id": "009c7eb0",
   "metadata": {},
   "outputs": [],
   "source": [
    "routes = [ (d, a) for d in departures for a in arrivals if a in travel_costs[d]]"
   ]
  },
  {
   "cell_type": "code",
   "execution_count": 66,
   "id": "2d6a68d2",
   "metadata": {},
   "outputs": [
    {
     "data": {
      "text/plain": [
       "[('C', 'N'),\n",
       " ('C', 'W'),\n",
       " ('C', 'A'),\n",
       " ('N', 'C'),\n",
       " ('N', 'W'),\n",
       " ('W', 'C'),\n",
       " ('W', 'N'),\n",
       " ('W', 'A'),\n",
       " ('A', 'C'),\n",
       " ('A', 'W')]"
      ]
     },
     "execution_count": 66,
     "metadata": {},
     "output_type": "execute_result"
    }
   ],
   "source": [
    "routes"
   ]
  },
  {
   "cell_type": "code",
   "execution_count": 67,
   "id": "c847d065",
   "metadata": {},
   "outputs": [],
   "source": [
    "variables = LpVariable.dicts(\"best route\", routes, 0, 1, LpInteger)"
   ]
  },
  {
   "cell_type": "code",
   "execution_count": 68,
   "id": "e0307065",
   "metadata": {},
   "outputs": [
    {
     "data": {
      "text/plain": [
       "{('C', 'N'): best_route_('C',_'N'),\n",
       " ('C', 'W'): best_route_('C',_'W'),\n",
       " ('C', 'A'): best_route_('C',_'A'),\n",
       " ('N', 'C'): best_route_('N',_'C'),\n",
       " ('N', 'W'): best_route_('N',_'W'),\n",
       " ('W', 'C'): best_route_('W',_'C'),\n",
       " ('W', 'N'): best_route_('W',_'N'),\n",
       " ('W', 'A'): best_route_('W',_'A'),\n",
       " ('A', 'C'): best_route_('A',_'C'),\n",
       " ('A', 'W'): best_route_('A',_'W')}"
      ]
     },
     "execution_count": 68,
     "metadata": {},
     "output_type": "execute_result"
    }
   ],
   "source": [
    "variables"
   ]
  },
  {
   "cell_type": "code",
   "execution_count": 69,
   "id": "cb62acee",
   "metadata": {},
   "outputs": [],
   "source": [
    "prob += (\n",
    "    lpSum([variables[(o,d)] * travel_costs[o][d] for (o, d) in routes]),\n",
    "    \"sum_cost\", )"
   ]
  },
  {
   "cell_type": "code",
   "execution_count": 70,
   "id": "06cd545a",
   "metadata": {},
   "outputs": [
    {
     "data": {
      "text/plain": [
       "TSP:\n",
       "MINIMIZE\n",
       "6*best_route_('A',_'C') + 5*best_route_('A',_'W') + 8*best_route_('C',_'A') + 10*best_route_('C',_'N') + 25*best_route_('C',_'W') + 7*best_route_('N',_'C') + 20*best_route_('N',_'W') + 8*best_route_('W',_'A') + 26*best_route_('W',_'C') + 19*best_route_('W',_'N') + 0\n",
       "VARIABLES\n",
       "0 <= best_route_('A',_'C') <= 1 Integer\n",
       "0 <= best_route_('A',_'W') <= 1 Integer\n",
       "0 <= best_route_('C',_'A') <= 1 Integer\n",
       "0 <= best_route_('C',_'N') <= 1 Integer\n",
       "0 <= best_route_('C',_'W') <= 1 Integer\n",
       "0 <= best_route_('N',_'C') <= 1 Integer\n",
       "0 <= best_route_('N',_'W') <= 1 Integer\n",
       "0 <= best_route_('W',_'A') <= 1 Integer\n",
       "0 <= best_route_('W',_'C') <= 1 Integer\n",
       "0 <= best_route_('W',_'N') <= 1 Integer"
      ]
     },
     "execution_count": 70,
     "metadata": {},
     "output_type": "execute_result"
    }
   ],
   "source": [
    "prob"
   ]
  },
  {
   "cell_type": "code",
   "execution_count": 71,
   "id": "d2bd69df",
   "metadata": {},
   "outputs": [],
   "source": [
    "# Constraints of the problem\n",
    "for a in arrivals:\n",
    "    prob += (\n",
    "            lpSum([variables[(d,a)] for d in departures if  (d,a) in variables]) == 1,\n",
    "            f\"Sum_Arrivel_{a}\",\n",
    "            )\n",
    "\n",
    "for d in departures:\n",
    "    prob += (\n",
    "            lpSum([variables[(d,a)]  for a in arrivals if (d,a) in variables]) == 1,\n",
    "            f\"Sum_departure_{d}\",\n",
    "            )"
   ]
  },
  {
   "cell_type": "code",
   "execution_count": 72,
   "id": "d2181f61",
   "metadata": {},
   "outputs": [],
   "source": [
    "# Subtour elimination: Adding helper variables to prevent subtours\n",
    "u = LpVariable.dicts('u', departures, lowBound=0, upBound=len(departures)-1, cat=LpInteger)"
   ]
  },
  {
   "cell_type": "code",
   "execution_count": 73,
   "id": "2240d491",
   "metadata": {},
   "outputs": [],
   "source": [
    "for i in departures:\n",
    "    for j in arrivals:\n",
    "        if i != j and (i, j) in routes:\n",
    "            prob += u[i] - u[j] + len(departures) * variables[(i, j)] <= len(departures) - 1, f\"SubtourElimination_{i}_{j}\""
   ]
  },
  {
   "cell_type": "code",
   "execution_count": 74,
   "id": "3e78e056",
   "metadata": {},
   "outputs": [
    {
     "data": {
      "text/plain": [
       "TSP:\n",
       "MINIMIZE\n",
       "6*best_route_('A',_'C') + 5*best_route_('A',_'W') + 8*best_route_('C',_'A') + 10*best_route_('C',_'N') + 25*best_route_('C',_'W') + 7*best_route_('N',_'C') + 20*best_route_('N',_'W') + 8*best_route_('W',_'A') + 26*best_route_('W',_'C') + 19*best_route_('W',_'N') + 0\n",
       "SUBJECT TO\n",
       "Sum_Arrivel_C: best_route_('A',_'C') + best_route_('N',_'C')\n",
       " + best_route_('W',_'C') = 1\n",
       "\n",
       "Sum_Arrivel_N: best_route_('C',_'N') + best_route_('W',_'N') = 1\n",
       "\n",
       "Sum_Arrivel_W: best_route_('A',_'W') + best_route_('C',_'W')\n",
       " + best_route_('N',_'W') = 1\n",
       "\n",
       "Sum_Arrivel_A: best_route_('C',_'A') + best_route_('W',_'A') = 1\n",
       "\n",
       "Sum_departure_C: best_route_('C',_'A') + best_route_('C',_'N')\n",
       " + best_route_('C',_'W') = 1\n",
       "\n",
       "Sum_departure_N: best_route_('N',_'C') + best_route_('N',_'W') = 1\n",
       "\n",
       "Sum_departure_W: best_route_('W',_'A') + best_route_('W',_'C')\n",
       " + best_route_('W',_'N') = 1\n",
       "\n",
       "Sum_departure_A: best_route_('A',_'C') + best_route_('A',_'W') = 1\n",
       "\n",
       "SubtourElimination_C_N: 4 best_route_('C',_'N') + u_C - u_N <= 3\n",
       "\n",
       "SubtourElimination_C_W: 4 best_route_('C',_'W') + u_C - u_W <= 3\n",
       "\n",
       "SubtourElimination_C_A: 4 best_route_('C',_'A') - u_A + u_C <= 3\n",
       "\n",
       "SubtourElimination_N_C: 4 best_route_('N',_'C') - u_C + u_N <= 3\n",
       "\n",
       "SubtourElimination_N_W: 4 best_route_('N',_'W') + u_N - u_W <= 3\n",
       "\n",
       "SubtourElimination_W_C: 4 best_route_('W',_'C') - u_C + u_W <= 3\n",
       "\n",
       "SubtourElimination_W_N: 4 best_route_('W',_'N') - u_N + u_W <= 3\n",
       "\n",
       "SubtourElimination_W_A: 4 best_route_('W',_'A') - u_A + u_W <= 3\n",
       "\n",
       "SubtourElimination_A_C: 4 best_route_('A',_'C') + u_A - u_C <= 3\n",
       "\n",
       "SubtourElimination_A_W: 4 best_route_('A',_'W') + u_A - u_W <= 3\n",
       "\n",
       "VARIABLES\n",
       "0 <= best_route_('A',_'C') <= 1 Integer\n",
       "0 <= best_route_('A',_'W') <= 1 Integer\n",
       "0 <= best_route_('C',_'A') <= 1 Integer\n",
       "0 <= best_route_('C',_'N') <= 1 Integer\n",
       "0 <= best_route_('C',_'W') <= 1 Integer\n",
       "0 <= best_route_('N',_'C') <= 1 Integer\n",
       "0 <= best_route_('N',_'W') <= 1 Integer\n",
       "0 <= best_route_('W',_'A') <= 1 Integer\n",
       "0 <= best_route_('W',_'C') <= 1 Integer\n",
       "0 <= best_route_('W',_'N') <= 1 Integer\n",
       "0 <= u_A <= 3 Integer\n",
       "0 <= u_C <= 3 Integer\n",
       "0 <= u_N <= 3 Integer\n",
       "0 <= u_W <= 3 Integer"
      ]
     },
     "execution_count": 74,
     "metadata": {},
     "output_type": "execute_result"
    }
   ],
   "source": [
    "prob"
   ]
  },
  {
   "cell_type": "code",
   "execution_count": 75,
   "id": "c3018d6d",
   "metadata": {},
   "outputs": [
    {
     "data": {
      "text/plain": [
       "[best_route_('A',_'C'),\n",
       " best_route_('A',_'W'),\n",
       " best_route_('C',_'A'),\n",
       " best_route_('C',_'N'),\n",
       " best_route_('C',_'W'),\n",
       " best_route_('N',_'C'),\n",
       " best_route_('N',_'W'),\n",
       " best_route_('W',_'A'),\n",
       " best_route_('W',_'C'),\n",
       " best_route_('W',_'N'),\n",
       " u_A,\n",
       " u_C,\n",
       " u_N,\n",
       " u_W]"
      ]
     },
     "execution_count": 75,
     "metadata": {},
     "output_type": "execute_result"
    }
   ],
   "source": [
    "prob.writeLP(\"TSP.lp\")"
   ]
  },
  {
   "cell_type": "code",
   "execution_count": 76,
   "id": "41e57102",
   "metadata": {},
   "outputs": [
    {
     "name": "stdout",
     "output_type": "stream",
     "text": [
      "Welcome to the CBC MILP Solver \n",
      "Version: 2.10.3 \n",
      "Build Date: Dec 15 2019 \n",
      "\n",
      "command line - /home/opc/.pyenv/versions/3.8.0/envs/label/lib/python3.8/site-packages/pulp/solverdir/cbc/linux/64/cbc /tmp/f04f4521ba1c4500b0fdfbec6337e094-pulp.mps -timeMode elapsed -branch -printingOptions all -solution /tmp/f04f4521ba1c4500b0fdfbec6337e094-pulp.sol (default strategy 1)\n",
      "At line 2 NAME          MODEL\n",
      "At line 3 ROWS\n",
      "At line 23 COLUMNS\n",
      "At line 112 RHS\n",
      "At line 131 BOUNDS\n",
      "At line 146 ENDATA\n",
      "Problem MODEL has 18 rows, 14 columns and 50 elements\n",
      "Coin0008I MODEL read with 0 errors\n",
      "Option for timeMode changed from cpu to elapsed\n",
      "Continuous objective value is 34.5 - 0.00 seconds\n",
      "Cgl0003I 2 fixed, 4 tightened bounds, 5 strengthened rows, 2 substitutions\n",
      "Cgl0003I 2 fixed, 2 tightened bounds, 0 strengthened rows, 0 substitutions\n",
      "Cgl0000I Cut generators found to be infeasible! (or unbounded)\n",
      "Pre-processing says infeasible or unbounded\n",
      "Option for printingOptions changed from normal to all\n",
      "Total time (CPU seconds):       0.00   (Wallclock seconds):       0.00\n",
      "\n"
     ]
    },
    {
     "data": {
      "text/plain": [
       "-1"
      ]
     },
     "execution_count": 76,
     "metadata": {},
     "output_type": "execute_result"
    }
   ],
   "source": [
    "prob.solve()"
   ]
  },
  {
   "cell_type": "code",
   "execution_count": 77,
   "id": "ab818a3c",
   "metadata": {},
   "outputs": [
    {
     "name": "stdout",
     "output_type": "stream",
     "text": [
      "Status: Infeasible\n",
      "best_route_('A',_'W') = 1.0\n",
      "best_route_('C',_'A') = 0.5\n",
      "best_route_('C',_'N') = 0.5\n",
      "best_route_('N',_'C') = 1.0\n",
      "best_route_('W',_'A') = 0.5\n",
      "best_route_('W',_'N') = 0.5\n",
      "u_C = 1.0\n",
      "u_W = 1.0\n",
      "Total distance =  34.5\n"
     ]
    }
   ],
   "source": [
    "print(\"Status:\", LpStatus[prob.status])\n",
    "\n",
    "for v in prob.variables():\n",
    "    if v.varValue > 0:\n",
    "        print(v.name, \"=\", v.varValue)\n",
    "\n",
    "print(\"Total distance = \", value(prob.objective))"
   ]
  },
  {
   "cell_type": "code",
   "execution_count": 78,
   "id": "3cd880be",
   "metadata": {},
   "outputs": [
    {
     "name": "stdout",
     "output_type": "stream",
     "text": [
      "Welcome to the CBC MILP Solver \n",
      "Version: 2.10.3 \n",
      "Build Date: Dec 15 2019 \n",
      "\n",
      "command line - /home/opc/.pyenv/versions/3.8.0/envs/label/lib/python3.8/site-packages/pulp/solverdir/cbc/linux/64/cbc /tmp/c4aed2489a764811bce04dd2478b68b8-pulp.mps -timeMode elapsed -branch -printingOptions all -solution /tmp/c4aed2489a764811bce04dd2478b68b8-pulp.sol (default strategy 1)\n",
      "At line 2 NAME          MODEL\n",
      "At line 3 ROWS\n",
      "At line 23 COLUMNS\n",
      "At line 112 RHS\n",
      "At line 131 BOUNDS\n",
      "At line 146 ENDATA\n",
      "Problem MODEL has 18 rows, 14 columns and 50 elements\n",
      "Coin0008I MODEL read with 0 errors\n",
      "Option for timeMode changed from cpu to elapsed\n",
      "Continuous objective value is 34.5 - 0.00 seconds\n",
      "Cgl0003I 2 fixed, 4 tightened bounds, 5 strengthened rows, 2 substitutions\n",
      "Cgl0003I 2 fixed, 2 tightened bounds, 0 strengthened rows, 0 substitutions\n",
      "Cgl0000I Cut generators found to be infeasible! (or unbounded)\n",
      "Pre-processing says infeasible or unbounded\n",
      "Option for printingOptions changed from normal to all\n",
      "Total time (CPU seconds):       0.00   (Wallclock seconds):       0.00\n",
      "\n",
      "Status: Infeasible\n",
      "best_route_('A',_'C') = 0.0\n",
      "best_route_('A',_'W') = 1.0\n",
      "best_route_('C',_'A') = 0.5\n",
      "best_route_('C',_'N') = 0.5\n",
      "best_route_('C',_'W') = 0.0\n",
      "best_route_('N',_'C') = 1.0\n",
      "best_route_('N',_'W') = 0.0\n",
      "best_route_('W',_'A') = 0.5\n",
      "best_route_('W',_'C') = 0.0\n",
      "best_route_('W',_'N') = 0.5\n",
      "u_A = 0.0\n",
      "u_C = 1.0\n",
      "u_N = 0.0\n",
      "u_W = 1.0\n"
     ]
    }
   ],
   "source": [
    "from pulp import *\n",
    "\n",
    "# Problem definition\n",
    "prob = LpProblem(\"TSP\", LpMinimize)\n",
    "departures = ['C', 'N', 'W', 'A']\n",
    "arrivals = ['C', 'N', 'W', 'A']\n",
    "\n",
    "# Travel costs between cities\n",
    "travel_costs = {\n",
    "    'C': {'N':10,'W':25,'A':8},\n",
    "    'N': {'C':7, 'W': 20},\n",
    "    'W': {'N': 19, 'C':26, 'A':8},\n",
    "    'A': {'W':5, 'C':6}\n",
    "}\n",
    "\n",
    "# Create routes that exist in the travel_costs dictionary\n",
    "routes = [(d, a) for d in departures for a in arrivals if a in travel_costs[d]]\n",
    "\n",
    "# Define decision variables for each route (binary decision variables)\n",
    "variables = LpVariable.dicts(\"best_route\", routes, 0, 1, LpBinary)\n",
    "\n",
    "# Objective function: minimize the total travel cost\n",
    "prob += lpSum([variables[(o, d)] * travel_costs[o][d] for (o, d) in routes]), \"sum_cost\"\n",
    "\n",
    "# Constraints: Each city must be visited once (both for arrivals and departures)\n",
    "# For arrivals\n",
    "for a in arrivals:\n",
    "    prob += lpSum([variables[(d, a)] for d in departures if (d, a) in variables]) == 1, f\"Sum_Arrival_{a}\"\n",
    "\n",
    "# For departures\n",
    "for d in departures:\n",
    "    prob += lpSum([variables[(d, a)] for a in arrivals if (d, a) in variables]) == 1, f\"Sum_Departure_{d}\"\n",
    "\n",
    "# Subtour elimination: Adding helper variables to prevent subtours\n",
    "# Set lower bound to 1, since u[i] represents the order in the tour\n",
    "u = LpVariable.dicts('u', departures, lowBound=0, upBound=len(departures)-1, cat=LpInteger)\n",
    "\n",
    "# Subtour elimination constraints using MTZ formulation\n",
    "for i in departures:\n",
    "    for j in arrivals:\n",
    "        if i != j and (i, j) in routes and j!=0:\n",
    "            prob += u[i] - u[j] + len(departures) * variables[(i, j)] <= len(departures) - 1, f\"SubtourElimination_{i}_{j}\"\n",
    "\n",
    "# Solve the problem\n",
    "prob.solve()\n",
    "\n",
    "# Output results\n",
    "print(f\"Status: {LpStatus[prob.status]}\")\n",
    "for v in prob.variables():\n",
    "    print(f\"{v.name} = {v.varValue}\")\n"
   ]
  },
  {
   "cell_type": "code",
   "execution_count": 79,
   "id": "943d9ac1",
   "metadata": {},
   "outputs": [
    {
     "data": {
      "text/plain": [
       "TSP:\n",
       "MINIMIZE\n",
       "6*best_route_('A',_'C') + 5*best_route_('A',_'W') + 8*best_route_('C',_'A') + 10*best_route_('C',_'N') + 25*best_route_('C',_'W') + 7*best_route_('N',_'C') + 20*best_route_('N',_'W') + 8*best_route_('W',_'A') + 26*best_route_('W',_'C') + 19*best_route_('W',_'N') + 0\n",
       "SUBJECT TO\n",
       "Sum_Arrival_C: best_route_('A',_'C') + best_route_('N',_'C')\n",
       " + best_route_('W',_'C') = 1\n",
       "\n",
       "Sum_Arrival_N: best_route_('C',_'N') + best_route_('W',_'N') = 1\n",
       "\n",
       "Sum_Arrival_W: best_route_('A',_'W') + best_route_('C',_'W')\n",
       " + best_route_('N',_'W') = 1\n",
       "\n",
       "Sum_Arrival_A: best_route_('C',_'A') + best_route_('W',_'A') = 1\n",
       "\n",
       "Sum_Departure_C: best_route_('C',_'A') + best_route_('C',_'N')\n",
       " + best_route_('C',_'W') = 1\n",
       "\n",
       "Sum_Departure_N: best_route_('N',_'C') + best_route_('N',_'W') = 1\n",
       "\n",
       "Sum_Departure_W: best_route_('W',_'A') + best_route_('W',_'C')\n",
       " + best_route_('W',_'N') = 1\n",
       "\n",
       "Sum_Departure_A: best_route_('A',_'C') + best_route_('A',_'W') = 1\n",
       "\n",
       "SubtourElimination_C_N: 4 best_route_('C',_'N') + u_C - u_N <= 3\n",
       "\n",
       "SubtourElimination_C_W: 4 best_route_('C',_'W') + u_C - u_W <= 3\n",
       "\n",
       "SubtourElimination_C_A: 4 best_route_('C',_'A') - u_A + u_C <= 3\n",
       "\n",
       "SubtourElimination_N_C: 4 best_route_('N',_'C') - u_C + u_N <= 3\n",
       "\n",
       "SubtourElimination_N_W: 4 best_route_('N',_'W') + u_N - u_W <= 3\n",
       "\n",
       "SubtourElimination_W_C: 4 best_route_('W',_'C') - u_C + u_W <= 3\n",
       "\n",
       "SubtourElimination_W_N: 4 best_route_('W',_'N') - u_N + u_W <= 3\n",
       "\n",
       "SubtourElimination_W_A: 4 best_route_('W',_'A') - u_A + u_W <= 3\n",
       "\n",
       "SubtourElimination_A_C: 4 best_route_('A',_'C') + u_A - u_C <= 3\n",
       "\n",
       "SubtourElimination_A_W: 4 best_route_('A',_'W') + u_A - u_W <= 3\n",
       "\n",
       "VARIABLES\n",
       "0 <= best_route_('A',_'C') <= 1 Integer\n",
       "0 <= best_route_('A',_'W') <= 1 Integer\n",
       "0 <= best_route_('C',_'A') <= 1 Integer\n",
       "0 <= best_route_('C',_'N') <= 1 Integer\n",
       "0 <= best_route_('C',_'W') <= 1 Integer\n",
       "0 <= best_route_('N',_'C') <= 1 Integer\n",
       "0 <= best_route_('N',_'W') <= 1 Integer\n",
       "0 <= best_route_('W',_'A') <= 1 Integer\n",
       "0 <= best_route_('W',_'C') <= 1 Integer\n",
       "0 <= best_route_('W',_'N') <= 1 Integer\n",
       "0 <= u_A <= 3 Integer\n",
       "0 <= u_C <= 3 Integer\n",
       "0 <= u_N <= 3 Integer\n",
       "0 <= u_W <= 3 Integer"
      ]
     },
     "execution_count": 79,
     "metadata": {},
     "output_type": "execute_result"
    }
   ],
   "source": [
    "prob"
   ]
  }
 ],
 "metadata": {
  "kernelspec": {
   "display_name": "Python 3 (ipykernel)",
   "language": "python",
   "name": "python3"
  },
  "language_info": {
   "codemirror_mode": {
    "name": "ipython",
    "version": 3
   },
   "file_extension": ".py",
   "mimetype": "text/x-python",
   "name": "python",
   "nbconvert_exporter": "python",
   "pygments_lexer": "ipython3",
   "version": "3.8.0"
  }
 },
 "nbformat": 4,
 "nbformat_minor": 5
}
