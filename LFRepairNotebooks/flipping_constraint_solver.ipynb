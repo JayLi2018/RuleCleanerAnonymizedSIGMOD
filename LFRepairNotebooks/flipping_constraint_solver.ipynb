{
 "cells": [
  {
   "cell_type": "code",
   "execution_count": 3,
   "id": "d007ff78",
   "metadata": {},
   "outputs": [
    {
     "ename": "TypeError",
     "evalue": "unsupported operand type(s) for %: 'LpAffineExpression' and 'int'",
     "output_type": "error",
     "traceback": [
      "\u001b[0;31m---------------------------------------------------------------------------\u001b[0m",
      "\u001b[0;31mTypeError\u001b[0m                                 Traceback (most recent call last)",
      "Cell \u001b[0;32mIn [3], line 64\u001b[0m\n\u001b[1;32m     61\u001b[0m     \u001b[38;5;28;01mfor\u001b[39;00m j \u001b[38;5;129;01min\u001b[39;00m \u001b[38;5;28mrange\u001b[39m(num_lf):\n\u001b[1;32m     62\u001b[0m         \u001b[38;5;28;01mif\u001b[39;00m data[i, j] \u001b[38;5;241m!=\u001b[39m \u001b[38;5;241m-\u001b[39m\u001b[38;5;241m1\u001b[39m:  \u001b[38;5;66;03m# Only consider valid predictions\u001b[39;00m\n\u001b[1;32m     63\u001b[0m             \u001b[38;5;66;03m# Add a constraint to flip the prediction if it doesn't match the expected label\u001b[39;00m\n\u001b[0;32m---> 64\u001b[0m             prob \u001b[38;5;241m+\u001b[39m\u001b[38;5;241m=\u001b[39m (\u001b[43m(\u001b[49m\u001b[43mdata\u001b[49m\u001b[43m[\u001b[49m\u001b[43mi\u001b[49m\u001b[43m,\u001b[49m\u001b[43m \u001b[49m\u001b[43mj\u001b[49m\u001b[43m]\u001b[49m\u001b[43m \u001b[49m\u001b[38;5;241;43m+\u001b[39;49m\u001b[43m \u001b[49m\u001b[43mflip_vars\u001b[49m\u001b[43m[\u001b[49m\u001b[43mi\u001b[49m\u001b[43m]\u001b[49m\u001b[43m[\u001b[49m\u001b[43mj\u001b[49m\u001b[43m]\u001b[49m\u001b[43m)\u001b[49m\u001b[43m \u001b[49m\u001b[38;5;241;43m%\u001b[39;49m\u001b[43m \u001b[49m\u001b[38;5;241;43m2\u001b[39;49m \u001b[38;5;241m==\u001b[39m expected_labels[i]), \u001b[38;5;124mf\u001b[39m\u001b[38;5;124m\"\u001b[39m\u001b[38;5;124mFlip_to_Match_Expected_Sentence_\u001b[39m\u001b[38;5;132;01m{\u001b[39;00mi\u001b[38;5;132;01m}\u001b[39;00m\u001b[38;5;124m_LF_\u001b[39m\u001b[38;5;132;01m{\u001b[39;00mj\u001b[38;5;132;01m}\u001b[39;00m\u001b[38;5;124m\"\u001b[39m\n\u001b[1;32m     66\u001b[0m \u001b[38;5;66;03m# Solve the optimization problem\u001b[39;00m\n\u001b[1;32m     67\u001b[0m prob\u001b[38;5;241m.\u001b[39msolve()\n",
      "\u001b[0;31mTypeError\u001b[0m: unsupported operand type(s) for %: 'LpAffineExpression' and 'int'"
     ]
    }
   ],
   "source": [
    "import numpy as np\n",
    "import pulp\n",
    "\n",
    "# Define parameters\n",
    "tau = 0.6  # valid label rate\n",
    "delta = 0.5  # accuracy per label\n",
    "kappa = 0.6  # labeling function accuracy threshold\n",
    "gamma = 0.7  # dominant label threshold for flipping\n",
    "\n",
    "# Input data (rows are sentences, columns are labeling functions)\n",
    "data = np.array([\n",
    "    [0, 1, 1],  # Sentence 1\n",
    "    [-1, 1, 1],  # Sentence 2\n",
    "    [0, 1, 1],  # Sentence 3\n",
    "    [1, -1, 1],  # Sentence 4\n",
    "    [0, 1, -1]   # Sentence 5\n",
    "])\n",
    "\n",
    "# Expected labels\n",
    "expected_labels = [1, 0, 1, 0, 1]\n",
    "\n",
    "# Number of labeling functions and sentences\n",
    "num_lf = data.shape[1]\n",
    "num_sentences = len(expected_labels)\n",
    "\n",
    "# Binary decision variables for each flip (1 = flip, 0 = no flip)\n",
    "flip_vars = pulp.LpVariable.dicts(\"flip\", (range(num_sentences), range(num_lf)), cat=\"Binary\")\n",
    "\n",
    "# Define the optimization problem (minimizing the total number of flips)\n",
    "prob = pulp.LpProblem(\"Minimize_Flips\", pulp.LpMinimize)\n",
    "\n",
    "# Objective: minimize the total number of flips\n",
    "prob += pulp.lpSum([flip_vars[i][j] for i in range(num_sentences) for j in range(num_lf)]), \"TotalFlips\"\n",
    "\n",
    "# Constraints for dominant label proportion and flipping\n",
    "for j in range(num_lf):\n",
    "    # Count of 0s and 1s after flipping\n",
    "    num_zeros = pulp.lpSum([(1 if data[i, j] == 0 else 0) - flip_vars[i][j] for i in range(num_sentences) if data[i, j] != -1])\n",
    "    num_ones = pulp.lpSum([(1 if data[i, j] == 1 else 0) + flip_vars[i][j] for i in range(num_sentences) if data[i, j] != -1])\n",
    "    \n",
    "    valid_preds = pulp.lpSum([1 for i in range(num_sentences) if data[i, j] != -1])\n",
    "\n",
    "    # Auxiliary variable to represent the maximum of num_zeros and num_ones\n",
    "    max_label_count = pulp.LpVariable(f\"max_label_count_{j}\", lowBound=0)\n",
    "\n",
    "    # max_label_count should be greater than or equal to both num_zeros and num_ones\n",
    "    prob += max_label_count >= num_zeros, f\"Max_Constraint_Zeros_{j}\"\n",
    "    prob += max_label_count >= num_ones, f\"Max_Constraint_Ones_{j}\"\n",
    "\n",
    "    # Dominant label proportion constraint: max_label_count <= gamma * valid_preds\n",
    "    prob += max_label_count <= gamma * valid_preds, f\"Gamma_Constraint_LFs_{j}\"\n",
    "    # max_label_count should be greater than or equal to both num_zeros and num_ones\n",
    "    prob += max_label_count >= num_zeros, f\"Max_Constraint_Zero_{j}\"\n",
    "    prob += max_label_count >= num_ones, f\"Max_Constraint_One_{j}\"\n",
    "\n",
    "    # Dominant label proportion constraint: max_label_count <= gamma * valid_preds\n",
    "    prob += max_label_count <= gamma * valid_preds, f\"Gamma_Constraint_LF_{j}\"\n",
    "\n",
    "# Constraints: flip predictions to match expected labels where allowed\n",
    "for i in range(num_sentences):\n",
    "    for j in range(num_lf):\n",
    "        if data[i, j] != -1:  # Only consider valid predictions\n",
    "            # Add a constraint to flip the prediction if it doesn't match the expected label\n",
    "            prob += ((data[i, j] + flip_vars[i][j]) % 2 == expected_labels[i]), f\"Flip_to_Match_Expected_Sentence_{i}_LF_{j}\"\n",
    "\n",
    "# Solve the optimization problem\n",
    "prob.solve()\n",
    "\n",
    "# # Flipped data after phase 1\n",
    "# flipped_data = data.copy()\n",
    "# for i in range(num_sentences):\n",
    "#     for j in range(num_lf):\n",
    "#         if pulp.value(flip_vars[i][j]) == 1:\n",
    "#             flipped_data[i, j] = 1 if flipped_data[i, j] == 0 else 0  # Flip the label\n",
    "\n",
    "# # Output the flipped data\n",
    "# import pandas as pd\n",
    "# df = pd.DataFrame(flipped_data, columns=[f\"LF_{i+1}\" for i in range(flipped_data.shape[1])])\n",
    "# df[\"ExpectedLabel\"] = expected_labels\n",
    "# print(\"Flipped Dataset (Phase 1):\")\n",
    "# print(df)\n",
    "\n",
    "# # Output total number of flips\n",
    "# total_flips = pulp.value(pulp.lpSum([flip_vars[i][j] for i in range(num_sentences) for j in range(num_lf)]))\n",
    "# print(f\"Total flips made: {total_flips}\")\n"
   ]
  },
  {
   "cell_type": "code",
   "execution_count": null,
   "id": "9c479fb2",
   "metadata": {},
   "outputs": [],
   "source": [
    "flip_vars"
   ]
  },
  {
   "cell_type": "code",
   "execution_count": null,
   "id": "28f5e438",
   "metadata": {},
   "outputs": [],
   "source": [
    "prob"
   ]
  }
 ],
 "metadata": {
  "kernelspec": {
   "display_name": "Python 3 (ipykernel)",
   "language": "python",
   "name": "python3"
  },
  "language_info": {
   "codemirror_mode": {
    "name": "ipython",
    "version": 3
   },
   "file_extension": ".py",
   "mimetype": "text/x-python",
   "name": "python",
   "nbconvert_exporter": "python",
   "pygments_lexer": "ipython3",
   "version": "3.8.0"
  }
 },
 "nbformat": 4,
 "nbformat_minor": 5
}
