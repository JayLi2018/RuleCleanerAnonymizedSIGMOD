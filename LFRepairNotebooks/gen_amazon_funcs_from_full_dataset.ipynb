{
 "cells": [
  {
   "cell_type": "code",
   "execution_count": 1,
   "id": "03778904",
   "metadata": {},
   "outputs": [
    {
     "name": "stderr",
     "output_type": "stream",
     "text": [
      "[nltk_data] Downloading package words to /home/opc/nltk_data...\n",
      "[nltk_data]   Package words is already up-to-date!\n",
      "[nltk_data] Downloading package stopwords to /home/opc/nltk_data...\n",
      "[nltk_data]   Package stopwords is already up-to-date!\n",
      "2024-10-14 19:53:58.232658: I tensorflow/tsl/cuda/cudart_stub.cc:28] Could not find cuda drivers on your machine, GPU will not be used.\n",
      "2024-10-14 19:53:58.296623: I tensorflow/tsl/cuda/cudart_stub.cc:28] Could not find cuda drivers on your machine, GPU will not be used.\n",
      "2024-10-14 19:53:58.297748: I tensorflow/core/platform/cpu_feature_guard.cc:182] This TensorFlow binary is optimized to use available CPU instructions in performance-critical operations.\n",
      "To enable the following instructions: AVX2 FMA, in other operations, rebuild TensorFlow with the appropriate compiler flags.\n",
      "DEBUG 2024-10-14 19:53:59,230 [tpu_cluster_resolver.py:<module>:32] Falling back to TensorFlow client; we recommended you install the Cloud TPU client directly with pip install cloud-tpu-client.\n",
      "2024-10-14 19:53:59.319614: W tensorflow/compiler/tf2tensorrt/utils/py_utils.cc:38] TF-TRT Warning: Could not find TensorRT\n",
      "DEBUG 2024-10-14 19:53:59,395 [__init__.py:<module>:47] Creating converter from 7 to 5\n",
      "DEBUG 2024-10-14 19:53:59,396 [__init__.py:<module>:47] Creating converter from 5 to 7\n",
      "DEBUG 2024-10-14 19:53:59,397 [__init__.py:<module>:47] Creating converter from 7 to 5\n",
      "DEBUG 2024-10-14 19:53:59,397 [__init__.py:<module>:47] Creating converter from 5 to 7\n",
      "DEBUG 2024-10-14 19:54:00,042 [__init__.py:<module>:15] pydot initializing\n",
      "DEBUG 2024-10-14 19:54:00,043 [__init__.py:<module>:16] pydot 3.0.2\n",
      "DEBUG 2024-10-14 19:54:00,068 [dot_parser.py:<module>:43] pydot dot_parser module initializing\n",
      "DEBUG 2024-10-14 19:54:00,070 [core.py:<module>:20] pydot core module initializing\n",
      "[nltk_data] Downloading package stopwords to /home/opc/nltk_data...\n",
      "[nltk_data]   Package stopwords is already up-to-date!\n",
      "DEBUG 2024-10-14 19:54:01,675 [__init__.py:wrapper:281] matplotlib data path: /home/opc/.pyenv/versions/3.8.0/envs/label/lib/python3.8/site-packages/matplotlib/mpl-data\n",
      "DEBUG 2024-10-14 19:54:01,681 [__init__.py:wrapper:281] CONFIGDIR=/home/opc/.config/matplotlib\n",
      "DEBUG 2024-10-14 19:54:01,684 [__init__.py:<module>:1456] interactive is False\n",
      "DEBUG 2024-10-14 19:54:01,685 [__init__.py:<module>:1457] platform is linux\n",
      "DEBUG 2024-10-14 19:54:01,747 [__init__.py:wrapper:281] CACHEDIR=/home/opc/.cache/matplotlib\n",
      "DEBUG 2024-10-14 19:54:01,750 [font_manager.py:_load_fontmanager:1620] Using fontManager instance from /home/opc/.cache/matplotlib/fontlist-v330.json\n"
     ]
    }
   ],
   "source": [
    "# from rbbm_src.labelling_func_src.src.utils import lf_constraint_solve\n",
    "from rbbm_src.labelling_func_src.src.lfs_tree import keyword_labelling_func_builder\n",
    "from rbbm_src.labelling_func_src.src.TreeRules import SPAM, HAM, ABSTAIN, PredicateNode\n",
    "from rbbm_src.labelling_func_src.src.LFRepair import populate_violations, fix_rules_with_solver_input\n",
    "from rbbm_src.labelling_func_src.src.classes import clean_text\n",
    "\n",
    "import re\n",
    "import psycopg2\n",
    "import pandas as pd\n",
    "from snorkel.labeling import (\n",
    "\tLabelingFunction, \n",
    "\tlabeling_function, \n",
    "\tPandasLFApplier, \n",
    "\tLFAnalysis,\n",
    "\tfilter_unlabeled_dataframe\n",
    "\t)\n",
    "from snorkel.labeling.model import MajorityLabelVoter, LabelModel\n",
    "import numpy as np\n",
    "import matplotlib.pyplot as plt\n",
    "from collections import Counter\n",
    "import matplotlib.patches as mpatches\n",
    "import pulp\n",
    "from sklearn.metrics import accuracy_score, classification_report\n",
    "\n",
    "from rbbm_src.labelling_func_src.src.KeyWordRuleMiner import KeyWordRuleMiner \n",
    "# sample user confirmation and complaints\n",
    "import random\n",
    "from collections import deque\n",
    "import numpy as np\n",
    "import pickle\n",
    "import pydot\n",
    "from IPython.display import Image, display"
   ]
  },
  {
   "cell_type": "code",
   "execution_count": 2,
   "id": "b44430d1",
   "metadata": {},
   "outputs": [],
   "source": [
    "from rbbm_src.labelling_func_src.src.example_tree_rules import gen_amazon_funcs"
   ]
  },
  {
   "cell_type": "code",
   "execution_count": 3,
   "id": "43d6e715",
   "metadata": {},
   "outputs": [],
   "source": [
    "conn = psycopg2.connect(dbname='label', user='postgres')"
   ]
  },
  {
   "cell_type": "code",
   "execution_count": 4,
   "id": "4c2ce2dd",
   "metadata": {},
   "outputs": [
    {
     "name": "stderr",
     "output_type": "stream",
     "text": [
      "/tmp/ipykernel_17056/2681924867.py:1: UserWarning: pandas only supports SQLAlchemy connectable (engine/connection) or database string URI or sqlite3 DBAPI2 connection. Other DBAPI2 objects are not tested. Please consider using SQLAlchemy.\n",
      "  sentences_df=pd.read_sql(f'SELECT * FROM amazon01', conn)\n"
     ]
    }
   ],
   "source": [
    "sentences_df=pd.read_sql(f'SELECT * FROM amazon01', conn)\n",
    "sentences_df = sentences_df.rename(columns={\"class\": \"expected_label\", \"content\": \"old_text\"})\n",
    "sentences_df['text'] = sentences_df['old_text'].apply(lambda s: clean_text(s))\n",
    "sentences_df = sentences_df[~sentences_df['text'].isna()]\n"
   ]
  },
  {
   "cell_type": "code",
   "execution_count": 5,
   "id": "385a54b6",
   "metadata": {},
   "outputs": [],
   "source": [
    "def gather_used_keywords(tree_rules):\n",
    "    \n",
    "    used_keywords = []\n",
    "    \n",
    "    for atui in tree_rules:\n",
    "        rids = set([])\n",
    "        queue = deque([atui.root])\n",
    "        while(queue):\n",
    "            cur_node = queue.popleft()\n",
    "            if(isinstance(cur_node, PredicateNode)):\n",
    "                used_keywords.extend(cur_node.pred.keywords)\n",
    "            if(cur_node.left):\n",
    "                queue.append(cur_node.left)\n",
    "            if(cur_node.right):\n",
    "                queue.append(cur_node.right)\n",
    "    \n",
    "    return used_keywords"
   ]
  },
  {
   "cell_type": "code",
   "execution_count": 6,
   "id": "cb52c53a",
   "metadata": {},
   "outputs": [],
   "source": [
    "treerules_for_user_input = gen_amazon_funcs()\n",
    "\n",
    "\n",
    "used_keywords =  gather_used_keywords(treerules_for_user_input)"
   ]
  },
  {
   "cell_type": "code",
   "execution_count": 7,
   "id": "b961ae6a",
   "metadata": {},
   "outputs": [
    {
     "name": "stdout",
     "output_type": "stream",
     "text": [
      "word: ('five',), label:0, match_cnt: 2623, non_abstain_results_cnt: 2743, accuracy:0.95625227852716, current cnt=1\n",
      "sentence_cnt: 15, current result_cnt=1\n"
     ]
    },
    {
     "ename": "KeyboardInterrupt",
     "evalue": "",
     "output_type": "error",
     "traceback": [
      "\u001b[0;31m---------------------------------------------------------------------------\u001b[0m",
      "\u001b[0;31mKeyboardInterrupt\u001b[0m                         Traceback (most recent call last)",
      "Cell \u001b[0;32mIn [7], line 3\u001b[0m\n\u001b[1;32m      1\u001b[0m kwm \u001b[38;5;241m=\u001b[39m KeyWordRuleMiner(sentences_df)\n\u001b[1;32m      2\u001b[0m \u001b[38;5;66;03m# tree_rules = kwm.gen_funcs(number_of_funcs, 0.3)\u001b[39;00m\n\u001b[0;32m----> 3\u001b[0m res \u001b[38;5;241m=\u001b[39m \u001b[43mkwm\u001b[49m\u001b[38;5;241;43m.\u001b[39;49m\u001b[43mgen_funcs\u001b[49m\u001b[43m(\u001b[49m\u001b[43mcount\u001b[49m\u001b[38;5;241;43m=\u001b[39;49m\u001b[38;5;241;43m15\u001b[39;49m\u001b[43m,\u001b[49m\u001b[43m \u001b[49m\n\u001b[1;32m      4\u001b[0m \u001b[43m              \u001b[49m\u001b[43mapply_to_sentence_percentage_thresh\u001b[49m\u001b[38;5;241;43m=\u001b[39;49m\u001b[38;5;241;43m0.1\u001b[39;49m\u001b[43m,\u001b[49m\u001b[43m \u001b[49m\n\u001b[1;32m      5\u001b[0m \u001b[43m              \u001b[49m\u001b[43mlabel_accuracy_thresh\u001b[49m\u001b[38;5;241;43m=\u001b[39;49m\u001b[38;5;241;43m0.8\u001b[39;49m\u001b[43m,\u001b[49m\u001b[43m \u001b[49m\n\u001b[1;32m      6\u001b[0m \u001b[43m              \u001b[49m\u001b[43mlabel_accuracy_cap\u001b[49m\u001b[38;5;241;43m=\u001b[39;49m\u001b[38;5;241;43m1\u001b[39;49m\u001b[43m,\u001b[49m\u001b[43m \u001b[49m\n\u001b[1;32m      7\u001b[0m \u001b[43m              \u001b[49m\u001b[43mpickle_it\u001b[49m\u001b[38;5;241;43m=\u001b[39;49m\u001b[38;5;28;43;01mFalse\u001b[39;49;00m\u001b[43m,\u001b[49m\u001b[43m \u001b[49m\n\u001b[1;32m      8\u001b[0m \u001b[43m              \u001b[49m\u001b[43mpickle_file_name\u001b[49m\u001b[38;5;241;43m=\u001b[39;49m\u001b[38;5;28;43;01mNone\u001b[39;49;00m\u001b[43m,\u001b[49m\u001b[43m \u001b[49m\n\u001b[1;32m      9\u001b[0m \u001b[43m              \u001b[49m\u001b[43mchecked_words\u001b[49m\u001b[38;5;241;43m=\u001b[39;49m\u001b[38;5;28;43mset\u001b[39;49m\u001b[43m(\u001b[49m\u001b[43mused_keywords\u001b[49m\u001b[43m)\u001b[49m\u001b[43m,\u001b[49m\u001b[43m \u001b[49m\n\u001b[1;32m     10\u001b[0m \u001b[43m              \u001b[49m\u001b[43mis_good\u001b[49m\u001b[38;5;241;43m=\u001b[39;49m\u001b[38;5;28;43;01mTrue\u001b[39;49;00m\u001b[43m,\u001b[49m\u001b[43m \u001b[49m\n\u001b[1;32m     11\u001b[0m \u001b[43m              \u001b[49m\u001b[43mcardinality_thresh\u001b[49m\u001b[38;5;241;43m=\u001b[39;49m\u001b[38;5;241;43m1\u001b[39;49m\u001b[43m)\u001b[49m\n",
      "File \u001b[0;32m~/chenjie/RBBM/rbbm_src/labelling_func_src/src/KeyWordRuleMiner.py:82\u001b[0m, in \u001b[0;36mKeyWordRuleMiner.gen_funcs\u001b[0;34m(self, count, apply_to_sentence_percentage_thresh, label_accuracy_thresh, label_accuracy_cap, pickle_it, pickle_file_name, checked_words, is_good, cardinality_thresh)\u001b[0m\n\u001b[1;32m     80\u001b[0m labelling_funcs\u001b[38;5;241m=\u001b[39m[f\u001b[38;5;241m.\u001b[39mgen_label_rule() \u001b[38;5;28;01mfor\u001b[39;00m f \u001b[38;5;129;01min\u001b[39;00m tree_rules]\n\u001b[1;32m     81\u001b[0m applier \u001b[38;5;241m=\u001b[39m PandasLFApplier(lfs\u001b[38;5;241m=\u001b[39mlabelling_funcs)\n\u001b[0;32m---> 82\u001b[0m initial_vectors \u001b[38;5;241m=\u001b[39m \u001b[43mapplier\u001b[49m\u001b[38;5;241;43m.\u001b[39;49m\u001b[43mapply\u001b[49m\u001b[43m(\u001b[49m\u001b[43mdf\u001b[49m\u001b[38;5;241;43m=\u001b[39;49m\u001b[38;5;28;43mself\u001b[39;49m\u001b[38;5;241;43m.\u001b[39;49m\u001b[43mdf\u001b[49m\u001b[43m,\u001b[49m\u001b[43m \u001b[49m\u001b[43mprogress_bar\u001b[49m\u001b[38;5;241;43m=\u001b[39;49m\u001b[38;5;28;43;01mFalse\u001b[39;49;00m\u001b[43m)\u001b[49m\n\u001b[1;32m     83\u001b[0m func_results \u001b[38;5;241m=\u001b[39m [x[\u001b[38;5;241m0\u001b[39m] \u001b[38;5;28;01mfor\u001b[39;00m x \u001b[38;5;129;01min\u001b[39;00m \u001b[38;5;28mlist\u001b[39m(initial_vectors)]\n\u001b[1;32m     84\u001b[0m non_abstain_results_cnt\u001b[38;5;241m=\u001b[39m\u001b[38;5;28mlen\u001b[39m([x \u001b[38;5;28;01mfor\u001b[39;00m x \u001b[38;5;129;01min\u001b[39;00m func_results \u001b[38;5;28;01mif\u001b[39;00m x\u001b[38;5;241m!=\u001b[39mABSTAIN])\n",
      "File \u001b[0;32m~/.pyenv/versions/3.8.0/envs/label/lib/python3.8/site-packages/snorkel/labeling/apply/pandas.py:108\u001b[0m, in \u001b[0;36mPandasLFApplier.apply\u001b[0;34m(self, df, progress_bar, fault_tolerant, return_meta)\u001b[0m\n\u001b[1;32m    106\u001b[0m     tqdm\u001b[38;5;241m.\u001b[39mpandas()\n\u001b[1;32m    107\u001b[0m     call_fn \u001b[38;5;241m=\u001b[39m df\u001b[38;5;241m.\u001b[39mprogress_apply\n\u001b[0;32m--> 108\u001b[0m labels \u001b[38;5;241m=\u001b[39m \u001b[43mcall_fn\u001b[49m\u001b[43m(\u001b[49m\u001b[43mapply_fn\u001b[49m\u001b[43m,\u001b[49m\u001b[43m \u001b[49m\u001b[43maxis\u001b[49m\u001b[38;5;241;43m=\u001b[39;49m\u001b[38;5;241;43m1\u001b[39;49m\u001b[43m)\u001b[49m\n\u001b[1;32m    109\u001b[0m labels_with_index \u001b[38;5;241m=\u001b[39m rows_to_triplets(labels)\n\u001b[1;32m    110\u001b[0m L \u001b[38;5;241m=\u001b[39m \u001b[38;5;28mself\u001b[39m\u001b[38;5;241m.\u001b[39m_numpy_from_row_data(labels_with_index)\n",
      "File \u001b[0;32m~/.pyenv/versions/3.8.0/envs/label/lib/python3.8/site-packages/pandas/core/frame.py:9558\u001b[0m, in \u001b[0;36mDataFrame.apply\u001b[0;34m(self, func, axis, raw, result_type, args, **kwargs)\u001b[0m\n\u001b[1;32m   9547\u001b[0m \u001b[38;5;28;01mfrom\u001b[39;00m \u001b[38;5;21;01mpandas\u001b[39;00m\u001b[38;5;21;01m.\u001b[39;00m\u001b[38;5;21;01mcore\u001b[39;00m\u001b[38;5;21;01m.\u001b[39;00m\u001b[38;5;21;01mapply\u001b[39;00m \u001b[38;5;28;01mimport\u001b[39;00m frame_apply\n\u001b[1;32m   9549\u001b[0m op \u001b[38;5;241m=\u001b[39m frame_apply(\n\u001b[1;32m   9550\u001b[0m     \u001b[38;5;28mself\u001b[39m,\n\u001b[1;32m   9551\u001b[0m     func\u001b[38;5;241m=\u001b[39mfunc,\n\u001b[0;32m   (...)\u001b[0m\n\u001b[1;32m   9556\u001b[0m     kwargs\u001b[38;5;241m=\u001b[39mkwargs,\n\u001b[1;32m   9557\u001b[0m )\n\u001b[0;32m-> 9558\u001b[0m \u001b[38;5;28;01mreturn\u001b[39;00m \u001b[43mop\u001b[49m\u001b[38;5;241;43m.\u001b[39;49m\u001b[43mapply\u001b[49m\u001b[43m(\u001b[49m\u001b[43m)\u001b[49m\u001b[38;5;241m.\u001b[39m__finalize__(\u001b[38;5;28mself\u001b[39m, method\u001b[38;5;241m=\u001b[39m\u001b[38;5;124m\"\u001b[39m\u001b[38;5;124mapply\u001b[39m\u001b[38;5;124m\"\u001b[39m)\n",
      "File \u001b[0;32m~/.pyenv/versions/3.8.0/envs/label/lib/python3.8/site-packages/pandas/core/apply.py:741\u001b[0m, in \u001b[0;36mFrameApply.apply\u001b[0;34m(self)\u001b[0m\n\u001b[1;32m    738\u001b[0m \u001b[38;5;28;01melif\u001b[39;00m \u001b[38;5;28mself\u001b[39m\u001b[38;5;241m.\u001b[39mraw:\n\u001b[1;32m    739\u001b[0m     \u001b[38;5;28;01mreturn\u001b[39;00m \u001b[38;5;28mself\u001b[39m\u001b[38;5;241m.\u001b[39mapply_raw()\n\u001b[0;32m--> 741\u001b[0m \u001b[38;5;28;01mreturn\u001b[39;00m \u001b[38;5;28;43mself\u001b[39;49m\u001b[38;5;241;43m.\u001b[39;49m\u001b[43mapply_standard\u001b[49m\u001b[43m(\u001b[49m\u001b[43m)\u001b[49m\n",
      "File \u001b[0;32m~/.pyenv/versions/3.8.0/envs/label/lib/python3.8/site-packages/pandas/core/apply.py:868\u001b[0m, in \u001b[0;36mFrameApply.apply_standard\u001b[0;34m(self)\u001b[0m\n\u001b[1;32m    867\u001b[0m \u001b[38;5;28;01mdef\u001b[39;00m \u001b[38;5;21mapply_standard\u001b[39m(\u001b[38;5;28mself\u001b[39m):\n\u001b[0;32m--> 868\u001b[0m     results, res_index \u001b[38;5;241m=\u001b[39m \u001b[38;5;28;43mself\u001b[39;49m\u001b[38;5;241;43m.\u001b[39;49m\u001b[43mapply_series_generator\u001b[49m\u001b[43m(\u001b[49m\u001b[43m)\u001b[49m\n\u001b[1;32m    870\u001b[0m     \u001b[38;5;66;03m# wrap results\u001b[39;00m\n\u001b[1;32m    871\u001b[0m     \u001b[38;5;28;01mreturn\u001b[39;00m \u001b[38;5;28mself\u001b[39m\u001b[38;5;241m.\u001b[39mwrap_results(results, res_index)\n",
      "File \u001b[0;32m~/.pyenv/versions/3.8.0/envs/label/lib/python3.8/site-packages/pandas/core/apply.py:884\u001b[0m, in \u001b[0;36mFrameApply.apply_series_generator\u001b[0;34m(self)\u001b[0m\n\u001b[1;32m    881\u001b[0m \u001b[38;5;28;01mwith\u001b[39;00m option_context(\u001b[38;5;124m\"\u001b[39m\u001b[38;5;124mmode.chained_assignment\u001b[39m\u001b[38;5;124m\"\u001b[39m, \u001b[38;5;28;01mNone\u001b[39;00m):\n\u001b[1;32m    882\u001b[0m     \u001b[38;5;28;01mfor\u001b[39;00m i, v \u001b[38;5;129;01min\u001b[39;00m \u001b[38;5;28menumerate\u001b[39m(series_gen):\n\u001b[1;32m    883\u001b[0m         \u001b[38;5;66;03m# ignore SettingWithCopy here in case the user mutates\u001b[39;00m\n\u001b[0;32m--> 884\u001b[0m         results[i] \u001b[38;5;241m=\u001b[39m \u001b[38;5;28;43mself\u001b[39;49m\u001b[38;5;241;43m.\u001b[39;49m\u001b[43mf\u001b[49m\u001b[43m(\u001b[49m\u001b[43mv\u001b[49m\u001b[43m)\u001b[49m\n\u001b[1;32m    885\u001b[0m         \u001b[38;5;28;01mif\u001b[39;00m \u001b[38;5;28misinstance\u001b[39m(results[i], ABCSeries):\n\u001b[1;32m    886\u001b[0m             \u001b[38;5;66;03m# If we have a view on v, we need to make a copy because\u001b[39;00m\n\u001b[1;32m    887\u001b[0m             \u001b[38;5;66;03m#  series_generator will swap out the underlying data\u001b[39;00m\n\u001b[1;32m    888\u001b[0m             results[i] \u001b[38;5;241m=\u001b[39m results[i]\u001b[38;5;241m.\u001b[39mcopy(deep\u001b[38;5;241m=\u001b[39m\u001b[38;5;28;01mFalse\u001b[39;00m)\n",
      "File \u001b[0;32m~/.pyenv/versions/3.8.0/envs/label/lib/python3.8/site-packages/snorkel/labeling/apply/pandas.py:37\u001b[0m, in \u001b[0;36mapply_lfs_to_data_point\u001b[0;34m(x, lfs, f_caller)\u001b[0m\n\u001b[1;32m     35\u001b[0m labels \u001b[38;5;241m=\u001b[39m []\n\u001b[1;32m     36\u001b[0m \u001b[38;5;28;01mfor\u001b[39;00m j, lf \u001b[38;5;129;01min\u001b[39;00m \u001b[38;5;28menumerate\u001b[39m(lfs):\n\u001b[0;32m---> 37\u001b[0m     y \u001b[38;5;241m=\u001b[39m \u001b[43mf_caller\u001b[49m\u001b[43m(\u001b[49m\u001b[43mlf\u001b[49m\u001b[43m,\u001b[49m\u001b[43m \u001b[49m\u001b[43mx\u001b[49m\u001b[43m)\u001b[49m\n\u001b[1;32m     38\u001b[0m     \u001b[38;5;28;01mif\u001b[39;00m y \u001b[38;5;241m>\u001b[39m\u001b[38;5;241m=\u001b[39m \u001b[38;5;241m0\u001b[39m:\n\u001b[1;32m     39\u001b[0m         labels\u001b[38;5;241m.\u001b[39mappend((j, y))\n",
      "File \u001b[0;32m~/.pyenv/versions/3.8.0/envs/label/lib/python3.8/site-packages/snorkel/labeling/apply/core.py:28\u001b[0m, in \u001b[0;36m_FunctionCaller.__call__\u001b[0;34m(self, f, x)\u001b[0m\n\u001b[1;32m     26\u001b[0m \u001b[38;5;28;01mdef\u001b[39;00m \u001b[38;5;21m__call__\u001b[39m(\u001b[38;5;28mself\u001b[39m, f: LabelingFunction, x: DataPoint) \u001b[38;5;241m-\u001b[39m\u001b[38;5;241m>\u001b[39m \u001b[38;5;28mint\u001b[39m:\n\u001b[1;32m     27\u001b[0m     \u001b[38;5;28;01mif\u001b[39;00m \u001b[38;5;129;01mnot\u001b[39;00m \u001b[38;5;28mself\u001b[39m\u001b[38;5;241m.\u001b[39mfault_tolerant:\n\u001b[0;32m---> 28\u001b[0m         \u001b[38;5;28;01mreturn\u001b[39;00m \u001b[43mf\u001b[49m\u001b[43m(\u001b[49m\u001b[43mx\u001b[49m\u001b[43m)\u001b[49m\n\u001b[1;32m     29\u001b[0m     \u001b[38;5;28;01mtry\u001b[39;00m:\n\u001b[1;32m     30\u001b[0m         \u001b[38;5;28;01mreturn\u001b[39;00m f(x)\n",
      "File \u001b[0;32m~/.pyenv/versions/3.8.0/envs/label/lib/python3.8/site-packages/snorkel/labeling/lf/core.py:82\u001b[0m, in \u001b[0;36mLabelingFunction.__call__\u001b[0;34m(self, x)\u001b[0m\n\u001b[1;32m     80\u001b[0m x \u001b[38;5;241m=\u001b[39m \u001b[38;5;28mself\u001b[39m\u001b[38;5;241m.\u001b[39m_preprocess_data_point(x)\n\u001b[1;32m     81\u001b[0m \u001b[38;5;28;01mif\u001b[39;00m(\u001b[38;5;28mself\u001b[39m\u001b[38;5;241m.\u001b[39muse_resourece_as_self):\n\u001b[0;32m---> 82\u001b[0m     \u001b[38;5;28;01mreturn\u001b[39;00m \u001b[38;5;28;43mself\u001b[39;49m\u001b[38;5;241;43m.\u001b[39;49m\u001b[43m_resources\u001b[49m\u001b[43m[\u001b[49m\u001b[38;5;124;43m'\u001b[39;49m\u001b[38;5;124;43mrule\u001b[39;49m\u001b[38;5;124;43m'\u001b[39;49m\u001b[43m]\u001b[49m\u001b[38;5;241;43m.\u001b[39;49m\u001b[43mevaluate\u001b[49m\u001b[43m(\u001b[49m\u001b[43mx\u001b[49m\u001b[43m)\u001b[49m\n\u001b[1;32m     83\u001b[0m \u001b[38;5;28;01mreturn\u001b[39;00m \u001b[38;5;28mself\u001b[39m\u001b[38;5;241m.\u001b[39m_f(x, \u001b[38;5;241m*\u001b[39m\u001b[38;5;241m*\u001b[39m\u001b[38;5;28mself\u001b[39m\u001b[38;5;241m.\u001b[39m_resources)\n",
      "File \u001b[0;32m~/chenjie/RBBM/rbbm_src/labelling_func_src/src/TreeRules.py:403\u001b[0m, in \u001b[0;36mTreeRule.evaluate\u001b[0;34m(self, instance, ret)\u001b[0m\n\u001b[1;32m    401\u001b[0m \t\texit()\n\u001b[1;32m    402\u001b[0m \t\u001b[38;5;28;01mreturn\u001b[39;00m cur_node\n\u001b[0;32m--> 403\u001b[0m \u001b[38;5;28;01mif\u001b[39;00m(\u001b[43mcur_node\u001b[49m\u001b[38;5;241;43m.\u001b[39;49m\u001b[43mpred\u001b[49m\u001b[38;5;241;43m.\u001b[39;49m\u001b[43mevaluate\u001b[49m\u001b[43m(\u001b[49m\u001b[43minstance\u001b[49m\u001b[43m)\u001b[49m):\n\u001b[1;32m    404\u001b[0m \t\u001b[38;5;66;03m# print(\"evaualte to True\")\u001b[39;00m\n\u001b[1;32m    405\u001b[0m \tused_predicates\u001b[38;5;241m.\u001b[39mappend(cur_node\u001b[38;5;241m.\u001b[39mpred\u001b[38;5;241m.\u001b[39mpred_identifier)\n\u001b[1;32m    406\u001b[0m \tcur_node\u001b[38;5;241m.\u001b[39mright\u001b[38;5;241m.\u001b[39mparent\u001b[38;5;241m=\u001b[39mcur_node\n",
      "File \u001b[0;32m~/chenjie/RBBM/rbbm_src/labelling_func_src/src/TreeRules.py:61\u001b[0m, in \u001b[0;36mKeywordPredicate.evaluate\u001b[0;34m(self, instance)\u001b[0m\n\u001b[1;32m     60\u001b[0m \u001b[38;5;28;01mdef\u001b[39;00m \u001b[38;5;21mevaluate\u001b[39m(\u001b[38;5;28mself\u001b[39m,instance: \u001b[38;5;28mstr\u001b[39m):\n\u001b[0;32m---> 61\u001b[0m \t\u001b[38;5;28;01mreturn\u001b[39;00m \u001b[38;5;28;43many\u001b[39;49m\u001b[43m(\u001b[49m\u001b[43mx\u001b[49m\u001b[43m \u001b[49m\u001b[38;5;129;43;01min\u001b[39;49;00m\u001b[43m \u001b[49m\u001b[43minstance\u001b[49m\u001b[38;5;241;43m.\u001b[39;49m\u001b[43mtext\u001b[49m\u001b[43m \u001b[49m\u001b[38;5;28;43;01mfor\u001b[39;49;00m\u001b[43m \u001b[49m\u001b[43mx\u001b[49m\u001b[43m \u001b[49m\u001b[38;5;129;43;01min\u001b[39;49;00m\u001b[43m \u001b[49m\u001b[38;5;28;43mself\u001b[39;49m\u001b[38;5;241;43m.\u001b[39;49m\u001b[43mkeywords\u001b[49m\u001b[43m)\u001b[49m\n",
      "File \u001b[0;32m~/chenjie/RBBM/rbbm_src/labelling_func_src/src/TreeRules.py:61\u001b[0m, in \u001b[0;36m<genexpr>\u001b[0;34m(.0)\u001b[0m\n\u001b[1;32m     60\u001b[0m \u001b[38;5;28;01mdef\u001b[39;00m \u001b[38;5;21mevaluate\u001b[39m(\u001b[38;5;28mself\u001b[39m,instance: \u001b[38;5;28mstr\u001b[39m):\n\u001b[0;32m---> 61\u001b[0m \t\u001b[38;5;28;01mreturn\u001b[39;00m \u001b[38;5;28many\u001b[39m(x \u001b[38;5;129;01min\u001b[39;00m \u001b[43minstance\u001b[49m\u001b[38;5;241;43m.\u001b[39;49m\u001b[43mtext\u001b[49m \u001b[38;5;28;01mfor\u001b[39;00m x \u001b[38;5;129;01min\u001b[39;00m \u001b[38;5;28mself\u001b[39m\u001b[38;5;241m.\u001b[39mkeywords)\n",
      "File \u001b[0;32m~/.pyenv/versions/3.8.0/envs/label/lib/python3.8/site-packages/pandas/core/generic.py:5904\u001b[0m, in \u001b[0;36mNDFrame.__getattr__\u001b[0;34m(self, name)\u001b[0m\n\u001b[1;32m   5894\u001b[0m \u001b[38;5;124;03m\"\"\"\u001b[39;00m\n\u001b[1;32m   5895\u001b[0m \u001b[38;5;124;03mAfter regular attribute access, try looking up the name\u001b[39;00m\n\u001b[1;32m   5896\u001b[0m \u001b[38;5;124;03mThis allows simpler access to columns for interactive use.\u001b[39;00m\n\u001b[1;32m   5897\u001b[0m \u001b[38;5;124;03m\"\"\"\u001b[39;00m\n\u001b[1;32m   5898\u001b[0m \u001b[38;5;66;03m# Note: obj.x will always call obj.__getattribute__('x') prior to\u001b[39;00m\n\u001b[1;32m   5899\u001b[0m \u001b[38;5;66;03m# calling obj.__getattr__('x').\u001b[39;00m\n\u001b[1;32m   5900\u001b[0m \u001b[38;5;28;01mif\u001b[39;00m (\n\u001b[1;32m   5901\u001b[0m     name \u001b[38;5;129;01mnot\u001b[39;00m \u001b[38;5;129;01min\u001b[39;00m \u001b[38;5;28mself\u001b[39m\u001b[38;5;241m.\u001b[39m_internal_names_set\n\u001b[1;32m   5902\u001b[0m     \u001b[38;5;129;01mand\u001b[39;00m name \u001b[38;5;129;01mnot\u001b[39;00m \u001b[38;5;129;01min\u001b[39;00m \u001b[38;5;28mself\u001b[39m\u001b[38;5;241m.\u001b[39m_metadata\n\u001b[1;32m   5903\u001b[0m     \u001b[38;5;129;01mand\u001b[39;00m name \u001b[38;5;129;01mnot\u001b[39;00m \u001b[38;5;129;01min\u001b[39;00m \u001b[38;5;28mself\u001b[39m\u001b[38;5;241m.\u001b[39m_accessors\n\u001b[0;32m-> 5904\u001b[0m     \u001b[38;5;129;01mand\u001b[39;00m \u001b[38;5;28;43mself\u001b[39;49m\u001b[38;5;241;43m.\u001b[39;49m\u001b[43m_info_axis\u001b[49m\u001b[38;5;241;43m.\u001b[39;49m\u001b[43m_can_hold_identifiers_and_holds_name\u001b[49m\u001b[43m(\u001b[49m\u001b[43mname\u001b[49m\u001b[43m)\u001b[49m\n\u001b[1;32m   5905\u001b[0m ):\n\u001b[1;32m   5906\u001b[0m     \u001b[38;5;28;01mreturn\u001b[39;00m \u001b[38;5;28mself\u001b[39m[name]\n\u001b[1;32m   5907\u001b[0m \u001b[38;5;28;01mreturn\u001b[39;00m \u001b[38;5;28mobject\u001b[39m\u001b[38;5;241m.\u001b[39m\u001b[38;5;21m__getattribute__\u001b[39m(\u001b[38;5;28mself\u001b[39m, name)\n",
      "File \u001b[0;32m~/.pyenv/versions/3.8.0/envs/label/lib/python3.8/site-packages/pandas/core/indexes/base.py:5412\u001b[0m, in \u001b[0;36mIndex._can_hold_identifiers_and_holds_name\u001b[0;34m(self, name)\u001b[0m\n\u001b[1;32m   5403\u001b[0m \u001b[38;5;124;03m\"\"\"\u001b[39;00m\n\u001b[1;32m   5404\u001b[0m \u001b[38;5;124;03mFaster check for ``name in self`` when we know `name` is a Python\u001b[39;00m\n\u001b[1;32m   5405\u001b[0m \u001b[38;5;124;03midentifier (e.g. in NDFrame.__getattr__, which hits this to support\u001b[39;00m\n\u001b[0;32m   (...)\u001b[0m\n\u001b[1;32m   5409\u001b[0m \u001b[38;5;124;03mhttps://github.com/pandas-dev/pandas/issues/19764\u001b[39;00m\n\u001b[1;32m   5410\u001b[0m \u001b[38;5;124;03m\"\"\"\u001b[39;00m\n\u001b[1;32m   5411\u001b[0m \u001b[38;5;28;01mif\u001b[39;00m \u001b[38;5;28mself\u001b[39m\u001b[38;5;241m.\u001b[39mis_object() \u001b[38;5;129;01mor\u001b[39;00m is_string_dtype(\u001b[38;5;28mself\u001b[39m\u001b[38;5;241m.\u001b[39mdtype) \u001b[38;5;129;01mor\u001b[39;00m \u001b[38;5;28mself\u001b[39m\u001b[38;5;241m.\u001b[39mis_categorical():\n\u001b[0;32m-> 5412\u001b[0m     \u001b[38;5;28;01mreturn\u001b[39;00m \u001b[43mname\u001b[49m\u001b[43m \u001b[49m\u001b[38;5;129;43;01min\u001b[39;49;00m\u001b[43m \u001b[49m\u001b[38;5;28;43mself\u001b[39;49m\n\u001b[1;32m   5413\u001b[0m \u001b[38;5;28;01mreturn\u001b[39;00m \u001b[38;5;28;01mFalse\u001b[39;00m\n",
      "File \u001b[0;32m~/.pyenv/versions/3.8.0/envs/label/lib/python3.8/site-packages/pandas/core/indexes/base.py:5329\u001b[0m, in \u001b[0;36mIndex.__contains__\u001b[0;34m(self, key)\u001b[0m\n\u001b[1;32m   5327\u001b[0m \u001b[38;5;28mhash\u001b[39m(key)\n\u001b[1;32m   5328\u001b[0m \u001b[38;5;28;01mtry\u001b[39;00m:\n\u001b[0;32m-> 5329\u001b[0m     \u001b[38;5;28;01mreturn\u001b[39;00m \u001b[43mkey\u001b[49m\u001b[43m \u001b[49m\u001b[38;5;129;43;01min\u001b[39;49;00m\u001b[43m \u001b[49m\u001b[38;5;28;43mself\u001b[39;49m\u001b[38;5;241;43m.\u001b[39;49m\u001b[43m_engine\u001b[49m\n\u001b[1;32m   5330\u001b[0m \u001b[38;5;28;01mexcept\u001b[39;00m (\u001b[38;5;167;01mOverflowError\u001b[39;00m, \u001b[38;5;167;01mTypeError\u001b[39;00m, \u001b[38;5;167;01mValueError\u001b[39;00m):\n\u001b[1;32m   5331\u001b[0m     \u001b[38;5;28;01mreturn\u001b[39;00m \u001b[38;5;28;01mFalse\u001b[39;00m\n",
      "\u001b[0;31mKeyboardInterrupt\u001b[0m: "
     ]
    }
   ],
   "source": [
    "kwm = KeyWordRuleMiner(sentences_df)\n",
    "# tree_rules = kwm.gen_funcs(number_of_funcs, 0.3)\n",
    "res = kwm.gen_funcs(count=15, \n",
    "              apply_to_sentence_percentage_thresh=0.1, \n",
    "              label_accuracy_thresh=0.8, \n",
    "              label_accuracy_cap=1, \n",
    "              pickle_it=False, \n",
    "              pickle_file_name=None, \n",
    "              checked_words=set(used_keywords), \n",
    "              is_good=True, \n",
    "              cardinality_thresh=1)"
   ]
  },
  {
   "cell_type": "code",
   "execution_count": null,
   "id": "a1556bdd",
   "metadata": {},
   "outputs": [],
   "source": []
  },
  {
   "cell_type": "code",
   "execution_count": null,
   "id": "78320154",
   "metadata": {},
   "outputs": [],
   "source": []
  },
  {
   "cell_type": "code",
   "execution_count": null,
   "id": "2bb2ceb4",
   "metadata": {},
   "outputs": [],
   "source": []
  }
 ],
 "metadata": {
  "kernelspec": {
   "display_name": "Python 3 (ipykernel)",
   "language": "python",
   "name": "python3"
  },
  "language_info": {
   "codemirror_mode": {
    "name": "ipython",
    "version": 3
   },
   "file_extension": ".py",
   "mimetype": "text/x-python",
   "name": "python",
   "nbconvert_exporter": "python",
   "pygments_lexer": "ipython3",
   "version": "3.8.0"
  }
 },
 "nbformat": 4,
 "nbformat_minor": 5
}
